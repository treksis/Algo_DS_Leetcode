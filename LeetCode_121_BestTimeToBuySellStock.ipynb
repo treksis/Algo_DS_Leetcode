{
 "cells": [
  {
   "cell_type": "code",
   "execution_count": 209,
   "metadata": {},
   "outputs": [
    {
     "data": {
      "text/plain": [
       "'\\nclass Solution:\\n    def maxProfit(self, prices: List[int]) -> int:\\n        \\n        max_profit = 0\\n        \\n        for i in range(len(prices) - 1):\\n            for j in range(i + 1, len(prices)):\\n                difference = prices[j] - prices[i]\\n                if difference > max_profit:\\n                    max_profit = difference\\n        return max_profit\\n'"
      ]
     },
     "execution_count": 209,
     "metadata": {},
     "output_type": "execute_result"
    }
   ],
   "source": [
    "#Brute Force solution\n",
    "\n",
    "A = [310, 315, 275, 295, 260, 270, 290, 230, 255, 250]\n",
    "len(A)\n",
    "\n",
    "def buy_sell(A):\n",
    "    max_profit = 0\n",
    "    for i in range(len(A) - 1):\n",
    "        for j in range(i + 1, len(A)):\n",
    "            if A[j] - A[i] > max_profit:\n",
    "                max_profit = A[j] - A[i]\n",
    "    return max_profit\n",
    "            \n",
    "buy_sell(A)\n",
    "\n",
    "'''\n",
    "class Solution:\n",
    "    def maxProfit(self, prices: List[int]) -> int:\n",
    "        \n",
    "        max_profit = 0\n",
    "        \n",
    "        for i in range(len(prices) - 1):\n",
    "            for j in range(i + 1, len(prices)):\n",
    "                difference = prices[j] - prices[i]\n",
    "                if difference > max_profit:\n",
    "                    max_profit = difference\n",
    "        return max_profit\n",
    "'''"
   ]
  },
  {
   "cell_type": "code",
   "execution_count": 210,
   "metadata": {},
   "outputs": [
    {
     "data": {
      "text/plain": [
       "'\\nclass Solution:\\n    def maxProfit(self, prices: List[int]) -> int:\\n        if not prices:\\n            return 0\\n        \\n        max_profit = 0\\n        min_price = prices[0]\\n        \\n        for price in prices:\\n            min_price = min(min_price, price)\\n            \\n            compare_profit = price - min_price\\n            max_profit = max(max_profit, compare_profit)\\n        return max_profit\\n'"
      ]
     },
     "execution_count": 210,
     "metadata": {},
     "output_type": "execute_result"
    }
   ],
   "source": [
    "'''\n",
    "class Solution:\n",
    "    def maxProfit(self, prices: List[int]) -> int:\n",
    "        if not prices:\n",
    "            return 0\n",
    "        \n",
    "        max_profit = 0\n",
    "        min_price = prices[0]\n",
    "        \n",
    "        for price in prices:\n",
    "            min_price = min(min_price, price)\n",
    "            \n",
    "            compare_profit = price - min_price\n",
    "            max_profit = max(max_profit, compare_profit)\n",
    "        return max_profit\n",
    "'''"
   ]
  },
  {
   "cell_type": "code",
   "execution_count": 80,
   "metadata": {},
   "outputs": [
    {
     "name": "stdout",
     "output_type": "stream",
     "text": [
      "0\n"
     ]
    }
   ],
   "source": [
    "prices = [7, 1, 5, 3, 6, 4]\n",
    "#prices = [7, 6, 4, 3, 1]\n",
    "\n",
    "lowest_idx = prices.index(min(prices))\n",
    "highest_idx = prices.index(max(prices))\n",
    "\n",
    "if lowest_idx < highest_idx:\n",
    "    prices.pop(highest_idx)\n",
    "    next_lowest = prices.index(min(prices))\n",
    "    next_highest = prices.index(max(prices))\n",
    "\n",
    "    ans = prices[next_highest] - prices[next_lowest]\n",
    "    print(ans)\n",
    "\n",
    "elif lowest_idx > highest_idx:\n",
    "    \n",
    "    print('0')"
   ]
  },
  {
   "cell_type": "code",
   "execution_count": 193,
   "metadata": {},
   "outputs": [
    {
     "name": "stdout",
     "output_type": "stream",
     "text": [
      "Long  7\n",
      "prices[i] 7\n",
      "0\n",
      "Long  1\n",
      "prices[i] 1\n",
      "0\n",
      "Long  1\n",
      "prices[i] 5\n",
      "4\n",
      "Long  1\n",
      "prices[i] 3\n",
      "4\n",
      "Long  1\n",
      "prices[i] 6\n",
      "5\n",
      "Long  1\n",
      "prices[i] 4\n",
      "5\n"
     ]
    }
   ],
   "source": [
    "prices = [7, 1, 5, 3, 6, 4]\n",
    "#prices = [7, 6, 4, 3, 1]\n",
    "\n",
    "profit = 0\n",
    "buy_stock = prices[0] #7\n",
    "\n",
    "for i in range(len(prices)):\n",
    "    \n",
    "    if buy_stock >= prices[i]:\n",
    "        buy_stock = prices[i]\n",
    "    \n",
    "    #buy_stock = 1\n",
    "    print('Long ', buy_stock)\n",
    "    print('prices[i]', prices[i])\n",
    "    \n",
    "    profit = max((prices[i] - buy_stock), profit)\n",
    "    print(profit)\n",
    "    "
   ]
  },
  {
   "cell_type": "code",
   "execution_count": 204,
   "metadata": {},
   "outputs": [
    {
     "data": {
      "text/plain": [
       "10"
      ]
     },
     "execution_count": 204,
     "metadata": {},
     "output_type": "execute_result"
    }
   ],
   "source": []
  },
  {
   "cell_type": "code",
   "execution_count": 206,
   "metadata": {},
   "outputs": [
    {
     "data": {
      "text/plain": [
       "30"
      ]
     },
     "execution_count": 206,
     "metadata": {},
     "output_type": "execute_result"
    }
   ],
   "source": []
  },
  {
   "cell_type": "code",
   "execution_count": null,
   "metadata": {},
   "outputs": [],
   "source": []
  }
 ],
 "metadata": {
  "kernelspec": {
   "display_name": "Python 3",
   "language": "python",
   "name": "python3"
  },
  "language_info": {
   "codemirror_mode": {
    "name": "ipython",
    "version": 3
   },
   "file_extension": ".py",
   "mimetype": "text/x-python",
   "name": "python",
   "nbconvert_exporter": "python",
   "pygments_lexer": "ipython3",
   "version": "3.7.6"
  }
 },
 "nbformat": 4,
 "nbformat_minor": 4
}
