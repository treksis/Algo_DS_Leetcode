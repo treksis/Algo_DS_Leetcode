{
 "cells": [
  {
   "cell_type": "code",
   "execution_count": 1,
   "metadata": {},
   "outputs": [
    {
     "data": {
      "text/plain": [
       "'\\nExample 1:\\n\\nInput: nums = [1,4,3,2]\\nOutput: 4\\nExplanation: All possible pairings (ignoring the ordering of elements) are:\\n1. (1, 4), (2, 3) -> min(1, 4) + min(2, 3) = 1 + 2 = 3\\n2. (1, 3), (2, 4) -> min(1, 3) + min(2, 4) = 1 + 2 = 3\\n3. (1, 2), (3, 4) -> min(1, 2) + min(3, 4) = 1 + 3 = 4\\nSo the maximum possible sum is 4.\\nExample 2:\\n\\nInput: nums = [6,2,6,5,1,2]\\nOutput: 9\\nExplanation: The optimal pairing is (2, 1), (2, 5), (6, 6). min(2, 1) + min(2, 5) + min(6, 6) = 1 + 2 + 6 = 9.\\n'"
      ]
     },
     "execution_count": 1,
     "metadata": {},
     "output_type": "execute_result"
    }
   ],
   "source": [
    "'''\n",
    "Example 1:\n",
    "\n",
    "Input: nums = [1,4,3,2]\n",
    "Output: 4\n",
    "Explanation: All possible pairings (ignoring the ordering of elements) are:\n",
    "1. (1, 4), (2, 3) -> min(1, 4) + min(2, 3) = 1 + 2 = 3\n",
    "2. (1, 3), (2, 4) -> min(1, 3) + min(2, 4) = 1 + 2 = 3\n",
    "3. (1, 2), (3, 4) -> min(1, 2) + min(3, 4) = 1 + 3 = 4\n",
    "So the maximum possible sum is 4.\n",
    "Example 2:\n",
    "\n",
    "Input: nums = [6,2,6,5,1,2]\n",
    "Output: 9\n",
    "Explanation: The optimal pairing is (2, 1), (2, 5), (6, 6). min(2, 1) + min(2, 5) + min(6, 6) = 1 + 2 + 6 = 9.\n",
    "'''"
   ]
  },
  {
   "cell_type": "code",
   "execution_count": 44,
   "metadata": {},
   "outputs": [],
   "source": [
    "nums = [1, 4, 3, 2]\n",
    "comb = []\n",
    "\n",
    "for i in range(0, len(nums)):\n",
    "    for j in range(i + 1, len(nums)):\n",
    "        comb.append([nums[i], nums[j]])"
   ]
  },
  {
   "cell_type": "code",
   "execution_count": 48,
   "metadata": {},
   "outputs": [
    {
     "name": "stdout",
     "output_type": "stream",
     "text": [
      "[[1, 4], [1, 3], [1, 2], [4, 3], [4, 2], [3, 2]]\n",
      "6\n"
     ]
    }
   ],
   "source": [
    "print(comb)\n",
    "n = len(comb)\n",
    "k = n // 2\n",
    "print(len(comb))"
   ]
  },
  {
   "cell_type": "code",
   "execution_count": 49,
   "metadata": {},
   "outputs": [
    {
     "name": "stdout",
     "output_type": "stream",
     "text": [
      "6\n",
      "[1, 4, 3, 2]\n",
      "[1, 3, 4, 2]\n",
      "[1, 2, 4, 3]\n"
     ]
    }
   ],
   "source": [
    "print(len(comb))\n",
    "print(comb[0] + comb[n - 1])\n",
    "print(comb[1] + comb[n - 2])\n",
    "print(comb[2] + comb[n - 3])"
   ]
  },
  {
   "cell_type": "code",
   "execution_count": 68,
   "metadata": {
    "scrolled": true
   },
   "outputs": [
    {
     "name": "stdout",
     "output_type": "stream",
     "text": [
      "[1, 4] [3, 2]\n",
      "1 2\n",
      "3\n",
      "[1, 3] [4, 2]\n",
      "1 2\n",
      "3\n",
      "[1, 2] [4, 3]\n",
      "1 3\n",
      "4\n"
     ]
    },
    {
     "data": {
      "text/plain": [
       "4"
      ]
     },
     "execution_count": 68,
     "metadata": {},
     "output_type": "execute_result"
    }
   ],
   "source": [
    "res = []\n",
    "for i in range(0, k):\n",
    "    print(comb[i], comb[n - 1 - i])\n",
    "    print(min(comb[i]), min(comb[n - 1 - i]))\n",
    "    print(min(comb[i]) + min(comb[n - 1 - i]))\n",
    "    res.append(min(comb[i]) + min(comb[n - 1 - i]))\n",
    "max(res)"
   ]
  },
  {
   "cell_type": "code",
   "execution_count": 72,
   "metadata": {},
   "outputs": [
    {
     "data": {
      "text/plain": [
       "[1, 2, 2, 5, 6, 6]"
      ]
     },
     "execution_count": 72,
     "metadata": {},
     "output_type": "execute_result"
    }
   ],
   "source": [
    "nums = [6,2,6,5,1,2]\n",
    "nums.sort()\n",
    "nums"
   ]
  },
  {
   "cell_type": "code",
   "execution_count": 73,
   "metadata": {},
   "outputs": [
    {
     "name": "stdout",
     "output_type": "stream",
     "text": [
      "[[1, 2], [1, 2], [1, 5], [1, 6], [1, 6], [2, 2], [2, 5], [2, 6], [2, 6], [2, 5], [2, 6], [2, 6], [5, 6], [5, 6], [6, 6]]\n",
      "15\n",
      "15\n",
      "[1, 2, 6, 6]\n",
      "[1, 2, 5, 6]\n",
      "[1, 5, 5, 6]\n",
      "[1, 2] [6, 6]\n",
      "1 6\n",
      "7\n",
      "[1, 2] [5, 6]\n",
      "1 5\n",
      "6\n",
      "[1, 5] [5, 6]\n",
      "1 5\n",
      "6\n",
      "[1, 6] [2, 6]\n",
      "1 2\n",
      "3\n",
      "[1, 6] [2, 6]\n",
      "1 2\n",
      "3\n",
      "[2, 2] [2, 5]\n",
      "2 2\n",
      "4\n",
      "[2, 5] [2, 6]\n",
      "2 2\n",
      "4\n"
     ]
    },
    {
     "data": {
      "text/plain": [
       "7"
      ]
     },
     "execution_count": 73,
     "metadata": {},
     "output_type": "execute_result"
    }
   ],
   "source": [
    "#nums = [1, 4, 3, 2]\n",
    "\n",
    "nums = [6,2,6,5,1,2]\n",
    "nums.sort()\n",
    "comb = []\n",
    "\n",
    "for i in range(0, len(nums)):\n",
    "    for j in range(i + 1, len(nums)):\n",
    "        comb.append([nums[i], nums[j]])\n",
    "        \n",
    "print(comb)\n",
    "n = len(comb)\n",
    "k = n // 2\n",
    "print(len(comb))\n",
    "\n",
    "print(len(comb))\n",
    "print(comb[0] + comb[n - 1])\n",
    "print(comb[1] + comb[n - 2])\n",
    "print(comb[2] + comb[n - 3])\n",
    "\n",
    "res = []\n",
    "for i in range(0, k):\n",
    "    print(comb[i], comb[n - 1 - i])\n",
    "    print(min(comb[i]), min(comb[n - 1 - i]))\n",
    "    print(min(comb[i]) + min(comb[n - 1 - i]))\n",
    "    res.append(min(comb[i]) + min(comb[n - 1 - i]))\n",
    "max(res)\n"
   ]
  },
  {
   "cell_type": "code",
   "execution_count": 101,
   "metadata": {},
   "outputs": [
    {
     "name": "stdout",
     "output_type": "stream",
     "text": [
      "[1, 6]\n",
      "[2, 6]\n",
      "[2, 5]\n",
      "5\n"
     ]
    }
   ],
   "source": [
    "nums = [6,2,6,5,1,2]"
   ]
  },
  {
   "cell_type": "code",
   "execution_count": null,
   "metadata": {},
   "outputs": [],
   "source": []
  }
 ],
 "metadata": {
  "kernelspec": {
   "display_name": "Python 3",
   "language": "python",
   "name": "python3"
  },
  "language_info": {
   "codemirror_mode": {
    "name": "ipython",
    "version": 3
   },
   "file_extension": ".py",
   "mimetype": "text/x-python",
   "name": "python",
   "nbconvert_exporter": "python",
   "pygments_lexer": "ipython3",
   "version": "3.7.6"
  }
 },
 "nbformat": 4,
 "nbformat_minor": 4
}
