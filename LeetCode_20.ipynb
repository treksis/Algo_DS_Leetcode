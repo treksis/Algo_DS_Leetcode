{
 "cells": [
  {
   "cell_type": "code",
   "execution_count": 1,
   "metadata": {},
   "outputs": [
    {
     "data": {
      "text/plain": [
       "'\\ns = \"()\"\\nTrue\\n\\ns = \"()[]{}\"\\nTrue\\n\\ns = \"(]\"\\nFalse\\n\\ns = \"([)]\"\\nFalse\\n\\ns = \"{[]}\"\\nTrue\\n\\n'"
      ]
     },
     "execution_count": 1,
     "metadata": {},
     "output_type": "execute_result"
    }
   ],
   "source": [
    "'''\n",
    "s = \"()\"\n",
    "True\n",
    "\n",
    "s = \"()[]{}\"\n",
    "True\n",
    "\n",
    "s = \"(]\"\n",
    "False\n",
    "\n",
    "s = \"([)]\"\n",
    "False\n",
    "\n",
    "s = \"{[]}\"\n",
    "True\n",
    "\n",
    "'''"
   ]
  },
  {
   "cell_type": "code",
   "execution_count": 44,
   "metadata": {},
   "outputs": [],
   "source": [
    "open_bracket = '['\n",
    "close_bracket = ']'\n",
    "open_parenthesis = '('\n",
    "close_parenthesis = ')'\n",
    "open_curly = '{'\n",
    "close_curly = '}'"
   ]
  },
  {
   "cell_type": "code",
   "execution_count": 38,
   "metadata": {},
   "outputs": [],
   "source": [
    "from collections import deque"
   ]
  },
  {
   "cell_type": "code",
   "execution_count": 49,
   "metadata": {},
   "outputs": [],
   "source": [
    "stack = []\n",
    "lookup = {\n",
    "        \")\":\"(\",\n",
    "         \"]\":\"[\",\n",
    "         \"}\":\"{\"\n",
    "         }"
   ]
  },
  {
   "cell_type": "code",
   "execution_count": 50,
   "metadata": {},
   "outputs": [],
   "source": [
    "s = \"()[]{}\""
   ]
  },
  {
   "cell_type": "code",
   "execution_count": null,
   "metadata": {},
   "outputs": [],
   "source": [
    "for p in s:\n",
    "    if p in look.values():\n",
    "        stack.append(p)\n",
    "    elif stack and lookup[p] == stack[-1]:\n",
    "        stack.pop()\n",
    "    else:\n",
    "        return False\n"
   ]
  },
  {
   "cell_type": "code",
   "execution_count": 56,
   "metadata": {},
   "outputs": [],
   "source": [
    "class ListNode:\n",
    "    def __init__(self, val=0, next=None):\n",
    "        self.val = val\n",
    "        self.next = next\n",
    "\n",
    "class Solution:\n",
    "    def mergeTwoLists(self, l1, l2):\n",
    "        \n",
    "        dummy = cur = ListNode(0)\n",
    "        \n",
    "        while l1 and l2:\n",
    "            if l1.val < l2.val:\n",
    "                cur.next = l1\n",
    "                l1 = l1.next\n",
    "            else:\n",
    "                cur.next = l2\n",
    "                l2 = l2.next\n",
    "                \n",
    "            cur = cur.next\n",
    "        cur.next = l1 or l2\n",
    "        return dummy.next    "
   ]
  },
  {
   "cell_type": "code",
   "execution_count": null,
   "metadata": {},
   "outputs": [],
   "source": []
  },
  {
   "cell_type": "code",
   "execution_count": null,
   "metadata": {},
   "outputs": [],
   "source": []
  }
 ],
 "metadata": {
  "kernelspec": {
   "display_name": "Python 3",
   "language": "python",
   "name": "python3"
  },
  "language_info": {
   "codemirror_mode": {
    "name": "ipython",
    "version": 3
   },
   "file_extension": ".py",
   "mimetype": "text/x-python",
   "name": "python",
   "nbconvert_exporter": "python",
   "pygments_lexer": "ipython3",
   "version": "3.7.6"
  }
 },
 "nbformat": 4,
 "nbformat_minor": 4
}
