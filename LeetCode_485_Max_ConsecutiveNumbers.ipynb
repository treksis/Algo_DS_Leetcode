{
 "cells": [
  {
   "cell_type": "code",
   "execution_count": 1,
   "metadata": {},
   "outputs": [
    {
     "data": {
      "text/plain": [
       "'\\nInput: [1,1,0,1,1,1]\\nOutput: 3\\nExplanation: The first two digits or the last three digits are consecutive 1s.\\n    The maximum number of consecutive 1s is 3.\\n'"
      ]
     },
     "execution_count": 1,
     "metadata": {},
     "output_type": "execute_result"
    }
   ],
   "source": [
    "\"\"\"\n",
    "Input: [1,1,0,1,1,1]\n",
    "Output: 3\n",
    "Explanation: The first two digits or the last three digits are consecutive 1s.\n",
    "    The maximum number of consecutive 1s is 3.\n",
    "\"\"\""
   ]
  },
  {
   "cell_type": "code",
   "execution_count": 39,
   "metadata": {},
   "outputs": [
    {
     "name": "stdout",
     "output_type": "stream",
     "text": [
      "Nope\n",
      "Yay\n",
      "[0, 1]\n"
     ]
    }
   ],
   "source": [
    "nums = [1,1,0,1,1,1]\n",
    "nums = [1,1,0,1,1,1,1,0,1,1,1]\n",
    "nums = [0,1]\n",
    "count = 0\n",
    "k = []\n",
    "for i in nums:\n",
    "    if i == 1:\n",
    "        print('Yay')\n",
    "        count += 1\n",
    "    else:\n",
    "        print('Nope')\n",
    "        count = 0\n",
    "    k.append(count)\n"
   ]
  },
  {
   "cell_type": "code",
   "execution_count": null,
   "metadata": {},
   "outputs": [],
   "source": []
  }
 ],
 "metadata": {
  "kernelspec": {
   "display_name": "Python 3",
   "language": "python",
   "name": "python3"
  },
  "language_info": {
   "codemirror_mode": {
    "name": "ipython",
    "version": 3
   },
   "file_extension": ".py",
   "mimetype": "text/x-python",
   "name": "python",
   "nbconvert_exporter": "python",
   "pygments_lexer": "ipython3",
   "version": "3.7.6"
  }
 },
 "nbformat": 4,
 "nbformat_minor": 4
}
