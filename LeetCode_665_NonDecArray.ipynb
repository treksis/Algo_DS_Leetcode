{
 "cells": [
  {
   "cell_type": "code",
   "execution_count": 1,
   "metadata": {},
   "outputs": [
    {
     "data": {
      "text/plain": [
       "'\\nExample 1:\\n\\nInput: nums = [3,0,1]\\nOutput: 2\\nExplanation: n = 3 since there are 3 numbers, so all numbers are in the range [0,3]. \\n2 is the missing number in the range since it does not appear in nums.\\nExample 2:\\n\\nInput: nums = [0,1]\\nOutput: 2\\nExplanation: n = 2 since there are 2 numbers, so all numbers are in the range [0,2]. \\n2 is the missing number in the range since it does not appear in nums.\\nExample 3:\\n\\nInput: nums = [9,6,4,2,3,5,7,0,1]\\nOutput: 8\\nExplanation: n = 9 since there are 9 numbers, so all numbers are in the range [0,9]. \\n8 is the missing number in the range since it does not appear in nums.\\nExample 4:\\n\\nInput: nums = [0]\\nOutput: 1\\nExplanation: n = 1 since there is 1 number, so all numbers are in the range [0,1]. \\n1 is the missing number in the range since it does not appear in nums.\\n'"
      ]
     },
     "execution_count": 1,
     "metadata": {},
     "output_type": "execute_result"
    }
   ],
   "source": [
    "'''\n",
    "Example 1:\n",
    "\n",
    "Input: nums = [3,0,1]\n",
    "Output: 2\n",
    "Explanation: n = 3 since there are 3 numbers, so all numbers are in the range [0,3]. \n",
    "2 is the missing number in the range since it does not appear in nums.\n",
    "Example 2:\n",
    "\n",
    "Input: nums = [0,1]\n",
    "Output: 2\n",
    "Explanation: n = 2 since there are 2 numbers, so all numbers are in the range [0,2]. \n",
    "2 is the missing number in the range since it does not appear in nums.\n",
    "Example 3:\n",
    "\n",
    "Input: nums = [9,6,4,2,3,5,7,0,1]\n",
    "Output: 8\n",
    "Explanation: n = 9 since there are 9 numbers, so all numbers are in the range [0,9]. \n",
    "8 is the missing number in the range since it does not appear in nums.\n",
    "Example 4:\n",
    "\n",
    "Input: nums = [0]\n",
    "Output: 1\n",
    "Explanation: n = 1 since there is 1 number, so all numbers are in the range [0,1]. \n",
    "1 is the missing number in the range since it does not appear in nums.\n",
    "'''"
   ]
  },
  {
   "cell_type": "code",
   "execution_count": 3,
   "metadata": {},
   "outputs": [],
   "source": []
  },
  {
   "cell_type": "code",
   "execution_count": 18,
   "metadata": {},
   "outputs": [
    {
     "name": "stdout",
     "output_type": "stream",
     "text": [
      "noting\n"
     ]
    }
   ],
   "source": [
    "nums = [3,0,1]\n",
    "nums = [1]\n",
    "n = len(nums)\n",
    "\n",
    "lst = []\n",
    "for i in range(1, n+1):\n",
    "    lst.append(i)\n",
    "\n",
    "k = set(lst) - set(nums)\n",
    "i"
   ]
  },
  {
   "cell_type": "code",
   "execution_count": 19,
   "metadata": {},
   "outputs": [
    {
     "data": {
      "text/plain": [
       "\"\\nGiven an array nums with n integers, your task is to check if it could become non-decreasing by modifying at most 1 element.\\n\\nWe define an array is non-decreasing if nums[i] <= nums[i + 1] holds for every i (0-based) such that (0 <= i <= n - 2).\\n\\n \\n\\nExample 1:\\n\\nInput: nums = [4,2,3]\\nOutput: true\\nExplanation: You could modify the first 4 to 1 to get a non-decreasing array.\\nExample 2:\\n\\nInput: nums = [4,2,1]\\nOutput: false\\nExplanation: You can't get a non-decreasing array by modify at most one element.\\n\""
      ]
     },
     "execution_count": 19,
     "metadata": {},
     "output_type": "execute_result"
    }
   ],
   "source": [
    "'''\n",
    "Given an array nums with n integers, your task is to check if it could become non-decreasing by modifying at most 1 element.\n",
    "\n",
    "We define an array is non-decreasing if nums[i] <= nums[i + 1] holds for every i (0-based) such that (0 <= i <= n - 2).\n",
    "\n",
    " \n",
    "\n",
    "Example 1:\n",
    "\n",
    "Input: nums = [4,2,3]\n",
    "Output: true\n",
    "Explanation: You could modify the first 4 to 1 to get a non-decreasing array.\n",
    "Example 2:\n",
    "\n",
    "Input: nums = [4,2,1]\n",
    "Output: false\n",
    "Explanation: You can't get a non-decreasing array by modify at most one element.\n",
    "'''"
   ]
  },
  {
   "cell_type": "code",
   "execution_count": 56,
   "metadata": {},
   "outputs": [
    {
     "name": "stdout",
     "output_type": "stream",
     "text": [
      "4 2\n",
      "left is bigger\n",
      "2 1\n",
      "left is bigger\n",
      "2\n"
     ]
    }
   ],
   "source": [
    "nums = [4, 2, 1]\n",
    "count = 0\n",
    "#[3,4,2,3]\n",
    "#[4,2,3]\n",
    "\n",
    "for i in range(1, len(nums)):\n",
    "    print(nums[i - 1], nums[i])\n",
    "    if nums[i - 1] > nums[i]:\n",
    "        print('left is bigger')\n",
    "        count += 1\n",
    "    else:\n",
    "        print('right is bigger')\n",
    "if count > 1:\n",
    "    return False\n",
    "else:\n",
    "    return True\n",
    "print(count)"
   ]
  },
  {
   "cell_type": "code",
   "execution_count": 68,
   "metadata": {},
   "outputs": [
    {
     "name": "stdout",
     "output_type": "stream",
     "text": [
      "2\n"
     ]
    }
   ],
   "source": [
    "nums = [4, 2, 1]\n",
    "sort_nums = sorted(nums)\n",
    "count = 0\n",
    "\n",
    "for i in range(0, len(nums)):\n",
    "    if nums[i] != sort_nums[i]:\n",
    "        count += 1\n",
    "        \n",
    "print(count)"
   ]
  },
  {
   "cell_type": "code",
   "execution_count": null,
   "metadata": {},
   "outputs": [],
   "source": [
    "#[4,2,3] - > Just once.\n",
    "#[2,3,4]"
   ]
  },
  {
   "cell_type": "code",
   "execution_count": null,
   "metadata": {},
   "outputs": [],
   "source": []
  }
 ],
 "metadata": {
  "kernelspec": {
   "display_name": "Python 3",
   "language": "python",
   "name": "python3"
  },
  "language_info": {
   "codemirror_mode": {
    "name": "ipython",
    "version": 3
   },
   "file_extension": ".py",
   "mimetype": "text/x-python",
   "name": "python",
   "nbconvert_exporter": "python",
   "pygments_lexer": "ipython3",
   "version": "3.7.6"
  }
 },
 "nbformat": 4,
 "nbformat_minor": 4
}
