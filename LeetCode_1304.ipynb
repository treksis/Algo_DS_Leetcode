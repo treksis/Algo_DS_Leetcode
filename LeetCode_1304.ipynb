{
 "cells": [
  {
   "cell_type": "code",
   "execution_count": 1,
   "metadata": {},
   "outputs": [
    {
     "data": {
      "text/plain": [
       "'\\nExample 1:\\n\\nInput: n = 5\\nOutput: [-7,-1,1,3,4]\\nExplanation: These arrays also are accepted [-5,-1,1,2,3] , [-3,-1,2,-2,4].\\nExample 2:\\n\\nInput: n = 3\\nOutput: [-1,0,1]\\nExample 3:\\n\\nInput: n = 1\\nOutput: [0]\\n\\n'"
      ]
     },
     "execution_count": 1,
     "metadata": {},
     "output_type": "execute_result"
    }
   ],
   "source": [
    "'''\n",
    "Example 1:\n",
    "\n",
    "Input: n = 5\n",
    "Output: [-7,-1,1,3,4]\n",
    "Explanation: These arrays also are accepted [-5,-1,1,2,3] , [-3,-1,2,-2,4].\n",
    "Example 2:\n",
    "\n",
    "Input: n = 3\n",
    "Output: [-1,0,1]\n",
    "Example 3:\n",
    "\n",
    "Input: n = 1\n",
    "Output: [0]\n",
    "\n",
    "'''"
   ]
  },
  {
   "cell_type": "code",
   "execution_count": 2,
   "metadata": {},
   "outputs": [
    {
     "data": {
      "text/plain": [
       "0"
      ]
     },
     "execution_count": 2,
     "metadata": {},
     "output_type": "execute_result"
    }
   ],
   "source": [
    "sum([-5, -4, 1, 3, 5])"
   ]
  },
  {
   "cell_type": "code",
   "execution_count": 51,
   "metadata": {},
   "outputs": [],
   "source": [
    "import random\n",
    "n = 1\n",
    "acc = 0\n",
    "k = 0\n",
    "lst = [1]\n",
    "\n",
    "while sum(lst) != 0:\n",
    "    lst = []\n",
    "    for i in range(0, n):\n",
    "        r = random.randrange(-9, 9)\n",
    "        lst.append(r)\n",
    "\n"
   ]
  },
  {
   "cell_type": "code",
   "execution_count": 52,
   "metadata": {},
   "outputs": [
    {
     "data": {
      "text/plain": [
       "[0]"
      ]
     },
     "execution_count": 52,
     "metadata": {},
     "output_type": "execute_result"
    }
   ],
   "source": [
    "lst"
   ]
  },
  {
   "cell_type": "code",
   "execution_count": 77,
   "metadata": {},
   "outputs": [],
   "source": [
    "import random\n",
    "n = 5\n",
    "lst = [1]\n",
    "\n",
    "while sum(lst) != 0:\n",
    "    lst = []\n",
    "    for i in range(0, n):\n",
    "        r = random.randrange(-9, 9)\n",
    "        lst.append(r)"
   ]
  },
  {
   "cell_type": "code",
   "execution_count": 78,
   "metadata": {},
   "outputs": [
    {
     "data": {
      "text/plain": [
       "[-8, -7, 4, 7, 4]"
      ]
     },
     "execution_count": 78,
     "metadata": {},
     "output_type": "execute_result"
    }
   ],
   "source": [
    "lst"
   ]
  },
  {
   "cell_type": "code",
   "execution_count": 98,
   "metadata": {},
   "outputs": [],
   "source": [
    "n = 1\n",
    "lst = [1]\n",
    "\n",
    "while len(set(lst)) != n:\n",
    "    while sum(lst) != 0:\n",
    "        lst = []\n",
    "        for i in range(0, n):\n",
    "            r = random.randrange(-9, 9)\n",
    "            lst.append(r)\n",
    "    "
   ]
  },
  {
   "cell_type": "code",
   "execution_count": 99,
   "metadata": {},
   "outputs": [
    {
     "data": {
      "text/plain": [
       "[1]"
      ]
     },
     "execution_count": 99,
     "metadata": {},
     "output_type": "execute_result"
    }
   ],
   "source": [
    "lst"
   ]
  },
  {
   "cell_type": "code",
   "execution_count": 100,
   "metadata": {},
   "outputs": [
    {
     "data": {
      "text/plain": [
       "1"
      ]
     },
     "execution_count": 100,
     "metadata": {},
     "output_type": "execute_result"
    }
   ],
   "source": [
    "sum(lst)"
   ]
  },
  {
   "cell_type": "code",
   "execution_count": 177,
   "metadata": {},
   "outputs": [
    {
     "name": "stdout",
     "output_type": "stream",
     "text": [
      "[-5, 8, 5, -7, -1]\n",
      "0\n",
      "5\n"
     ]
    }
   ],
   "source": [
    "n = 5\n",
    "lst = [1]\n",
    "\n",
    "while sum(lst) != 0:\n",
    "    lst = []\n",
    "    for i in range(0, n):\n",
    "        r = random.randrange(-9, 9)\n",
    "        lst.append(r)\n",
    "    \n",
    "print(lst)\n",
    "print(sum(lst))\n",
    "print(len(set(lst)))"
   ]
  },
  {
   "cell_type": "code",
   "execution_count": 178,
   "metadata": {},
   "outputs": [
    {
     "data": {
      "text/plain": [
       "'\\nclass Solution:\\n    def sumZero(self, n: int) -> List[int]:\\n        return range(1 - n, n, 2)\\n'"
      ]
     },
     "execution_count": 178,
     "metadata": {},
     "output_type": "execute_result"
    }
   ],
   "source": [
    "'''\n",
    "class Solution:\n",
    "    def sumZero(self, n: int) -> List[int]:\n",
    "        return range(1 - n, n, 2)\n",
    "'''"
   ]
  },
  {
   "cell_type": "code",
   "execution_count": 179,
   "metadata": {},
   "outputs": [
    {
     "data": {
      "text/plain": [
       "'\\nExplanation:\\nFirst, take a look at a few examples:\\n\\nn = 1: ans = [0]\\nn = 2: ans = [-1,1]\\nn = 3: ans = [-1,0,1]\\nn = 4: ans = [-2,-1,1,2]\\nn = 5: ans = [-2,-1,0,1,2]\\nSo, we should return an array where the values are symmetric.\\nIf n%2 is not equal to zero (n is odd), we append 0 to the answer list.\\nThe maximum value is equal to n//2; and the minimum value is equal to -n//2.\\nSo, we use a for loop; and each time we add -i and i to the answer list.\\nPython3 code:\\n        L, rem = n // 2, n % 2\\n        if rem != 0: ans = [0]\\n        else: ans = []\\n        for i in range(1,L+1):\\n            ans.append(-i)\\n            ans.append(i) \\n        return ans\\n'"
      ]
     },
     "execution_count": 179,
     "metadata": {},
     "output_type": "execute_result"
    }
   ],
   "source": [
    "'''\n",
    "Explanation:\n",
    "First, take a look at a few examples:\n",
    "\n",
    "n = 1: ans = [0]\n",
    "n = 2: ans = [-1,1]\n",
    "n = 3: ans = [-1,0,1]\n",
    "n = 4: ans = [-2,-1,1,2]\n",
    "n = 5: ans = [-2,-1,0,1,2]\n",
    "So, we should return an array where the values are symmetric.\n",
    "If n%2 is not equal to zero (n is odd), we append 0 to the answer list.\n",
    "The maximum value is equal to n//2; and the minimum value is equal to -n//2.\n",
    "So, we use a for loop; and each time we add -i and i to the answer list.\n",
    "Python3 code:\n",
    "        L, rem = n // 2, n % 2\n",
    "        if rem != 0: ans = [0]\n",
    "        else: ans = []\n",
    "        for i in range(1,L+1):\n",
    "            ans.append(-i)\n",
    "            ans.append(i) \n",
    "        return ans\n",
    "'''"
   ]
  },
  {
   "cell_type": "code",
   "execution_count": 181,
   "metadata": {},
   "outputs": [
    {
     "name": "stdout",
     "output_type": "stream",
     "text": [
      "[0, -1, 1, -2, 2]\n"
     ]
    }
   ],
   "source": [
    "n = 5\n",
    "L = n // 2 # The maximum value is n//2 and the minimum value is -n//2\n",
    "rem = n % 2 # if it's odd, append 0\n",
    "\n",
    "if rem != 0:\n",
    "    ans = [0]\n",
    "else: \n",
    "    ans = []\n",
    "    \n",
    "for i in range(1, L + 1):\n",
    "    ans.append(-i)\n",
    "    ans.append(i)\n",
    "print(ans)"
   ]
  },
  {
   "cell_type": "code",
   "execution_count": 183,
   "metadata": {},
   "outputs": [
    {
     "name": "stdout",
     "output_type": "stream",
     "text": [
      "[-1, 1, -2, 2, -3, 3]\n"
     ]
    }
   ],
   "source": [
    "k = []\n",
    "for i in range(1, 4):\n",
    "    k.append(-i)\n",
    "    k.append(i)\n",
    "print(k)\n",
    "# got it."
   ]
  },
  {
   "cell_type": "code",
   "execution_count": null,
   "metadata": {},
   "outputs": [],
   "source": []
  }
 ],
 "metadata": {
  "kernelspec": {
   "display_name": "Python 3",
   "language": "python",
   "name": "python3"
  },
  "language_info": {
   "codemirror_mode": {
    "name": "ipython",
    "version": 3
   },
   "file_extension": ".py",
   "mimetype": "text/x-python",
   "name": "python",
   "nbconvert_exporter": "python",
   "pygments_lexer": "ipython3",
   "version": "3.7.6"
  }
 },
 "nbformat": 4,
 "nbformat_minor": 4
}
