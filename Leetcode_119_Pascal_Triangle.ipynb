{
 "cells": [
  {
   "cell_type": "code",
   "execution_count": 1,
   "metadata": {},
   "outputs": [
    {
     "data": {
      "text/plain": [
       "'\\nInput: 5\\nOutput:\\n[\\n     [1],\\n    [1,1],\\n   [1,2,1],\\n  [1,3,3,1],\\n [1,4,6,4,1]\\n]\\n'"
      ]
     },
     "execution_count": 1,
     "metadata": {},
     "output_type": "execute_result"
    }
   ],
   "source": [
    "'''\n",
    "Input: 5\n",
    "Output:\n",
    "[\n",
    "     [1],\n",
    "    [1,1],\n",
    "   [1,2,1],\n",
    "  [1,3,3,1],\n",
    " [1,4,6,4,1]\n",
    "]\n",
    "'''"
   ]
  },
  {
   "cell_type": "code",
   "execution_count": 17,
   "metadata": {},
   "outputs": [
    {
     "name": "stdout",
     "output_type": "stream",
     "text": [
      "Enter the desired height. 4\n",
      "Row 1 [1]\n",
      "Row 2 [1, 1]\n",
      "Row 3 [1, 2, 1]\n",
      "Row 4 [1, 3, 3, 1]\n"
     ]
    }
   ],
   "source": [
    "x = int(input(\"Enter the desired height. \"))\n",
    "l = [1]\n",
    "for i in range(x):\n",
    "    # Modified v\n",
    "    print(\"Row\", i + 1, l)\n",
    "    newlist = []\n",
    "    newlist.append(l[0])\n",
    "    for i in range(len(l) - 1):\n",
    "        newlist.append(l[i] + l[i+1])\n",
    "    newlist.append(l[-1])\n",
    "    l = newlist"
   ]
  },
  {
   "cell_type": "code",
   "execution_count": 20,
   "metadata": {},
   "outputs": [
    {
     "name": "stdout",
     "output_type": "stream",
     "text": [
      "Enter the desired height: 5\n",
      "Row 1 [1]\n",
      "Row 2 [1, 1]\n",
      "Row 3 [1, 2, 1]\n",
      "Row 4 [1, 3, 3, 1]\n",
      "Row 5 [1, 4, 6, 4, 1]\n"
     ]
    }
   ],
   "source": [
    "rows = int(input(\"Enter the desired height: \"))\n",
    "\n",
    "array = []\n",
    "\n",
    "for row in range(1, rows + 1):\n",
    "    array.append(1)  # both widen the row and initialize last element\n",
    "\n",
    "    for i in range(row - 2, 0, -1):  # fill in the row, right to left\n",
    "        array[i] += array[i - 1]  # current computed from previous\n",
    "\n",
    "    print(\"Row\", row, array)"
   ]
  },
  {
   "cell_type": "code",
   "execution_count": 45,
   "metadata": {},
   "outputs": [
    {
     "name": "stdout",
     "output_type": "stream",
     "text": [
      "Enter the desired height. 5\n",
      "Row 1 [1]\n",
      "Row 2 [1, 1]\n",
      "Row 3 [1, 2, 1]\n",
      "Row 4 [1, 3, 3, 1]\n",
      "Row 5 [1, 4, 6, 4, 1]\n"
     ]
    }
   ],
   "source": [
    "x = int(input(\"Enter the desired height. \"))\n",
    "l = [1]\n",
    "for i in range(x):\n",
    "    # Modified v\n",
    "    print(\"Row\", i + 1, l)\n",
    "    newlist = []\n",
    "    newlist.append(l[0])\n",
    "    for i in range(len(l) - 1):\n",
    "        newlist.append(l[i] + l[i+1])\n",
    "    newlist.append(l[-1])\n",
    "    l = newlist"
   ]
  },
  {
   "cell_type": "code",
   "execution_count": 51,
   "metadata": {},
   "outputs": [
    {
     "name": "stdout",
     "output_type": "stream",
     "text": [
      "[1, 1]\n",
      "[1, 2, 1]\n",
      "[1, 3, 3, 1]\n",
      "[1, 4, 6, 4, 1]\n",
      "[1, 5, 10, 10, 5, 1]\n"
     ]
    }
   ],
   "source": [
    "x = 5\n",
    "l = [1]\n",
    "\n",
    "for i in range(x):\n",
    "    lst = []\n",
    "    lst.append(l[0])\n",
    "\n",
    "    for i in range(len(l) - 1):\n",
    "        lst.append(l[i] + l[i + 1])\n",
    "    lst.append(l[-1])\n",
    "    l = lst\n",
    "    print(l)"
   ]
  },
  {
   "cell_type": "code",
   "execution_count": null,
   "metadata": {},
   "outputs": [],
   "source": []
  },
  {
   "cell_type": "code",
   "execution_count": null,
   "metadata": {},
   "outputs": [],
   "source": []
  }
 ],
 "metadata": {
  "kernelspec": {
   "display_name": "Python 3",
   "language": "python",
   "name": "python3"
  },
  "language_info": {
   "codemirror_mode": {
    "name": "ipython",
    "version": 3
   },
   "file_extension": ".py",
   "mimetype": "text/x-python",
   "name": "python",
   "nbconvert_exporter": "python",
   "pygments_lexer": "ipython3",
   "version": "3.7.6"
  }
 },
 "nbformat": 4,
 "nbformat_minor": 4
}
