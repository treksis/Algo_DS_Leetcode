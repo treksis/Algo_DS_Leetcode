{
 "cells": [
  {
   "cell_type": "code",
   "execution_count": 1,
   "metadata": {},
   "outputs": [
    {
     "data": {
      "text/plain": [
       "'\\nInput: prices = [8,4,6,2,3]\\nOutput: [4,2,4,2,3]\\nExplanation: \\nFor item 0 with price[0]=8 you will receive a discount equivalent to prices[1]=4, therefore, the final price you will pay is 8 - 4 = 4. \\nFor item 1 with price[1]=4 you will receive a discount equivalent to prices[3]=2, therefore, the final price you will pay is 4 - 2 = 2. \\nFor item 2 with price[2]=6 you will receive a discount equivalent to prices[3]=2, therefore, the final price you will pay is 6 - 2 = 4. \\nFor items 3 and 4 you will not receive any discount at all.\\n'"
      ]
     },
     "execution_count": 1,
     "metadata": {},
     "output_type": "execute_result"
    }
   ],
   "source": [
    "'''\n",
    "Input: prices = [8,4,6,2,3]\n",
    "Output: [4,2,4,2,3]\n",
    "Explanation: \n",
    "For item 0 with price[0]=8 you will receive a discount equivalent to prices[1]=4, therefore, the final price you will pay is 8 - 4 = 4. \n",
    "For item 1 with price[1]=4 you will receive a discount equivalent to prices[3]=2, therefore, the final price you will pay is 4 - 2 = 2. \n",
    "For item 2 with price[2]=6 you will receive a discount equivalent to prices[3]=2, therefore, the final price you will pay is 6 - 2 = 4. \n",
    "For items 3 and 4 you will not receive any discount at all.\n",
    "'''"
   ]
  },
  {
   "cell_type": "code",
   "execution_count": 2,
   "metadata": {},
   "outputs": [
    {
     "data": {
      "text/plain": [
       "'\\nExample 2:\\n\\nInput: prices = [1,2,3,4,5]\\nOutput: [1,2,3,4,5]\\nExplanation: In this case, for all items, you will not receive any discount at all.\\nExample 3:\\n\\nInput: prices = [10,1,1,6]\\nOutput: [9,0,1,6]\\n\\n'"
      ]
     },
     "execution_count": 2,
     "metadata": {},
     "output_type": "execute_result"
    }
   ],
   "source": [
    "# prices[0] = 8 // prices[1] = 4 // 8 - 4 = 4\n",
    "# prices[1] = 4 // prices[2] = 6 // No discount. But, the answer is 2 \n",
    "# prices[2] = 6 // prices[3] = 2 // 6 - 2 = 4\n",
    "# prices[3] = 2 // prices[4] = 3 // 2 - 3 = -1 Return\n",
    "\n",
    "'''\n",
    "Example 2:\n",
    "\n",
    "Input: prices = [1,2,3,4,5]\n",
    "Output: [1,2,3,4,5]\n",
    "Explanation: In this case, for all items, you will not receive any discount at all.\n",
    "Example 3:\n",
    "\n",
    "Input: prices = [10,1,1,6]\n",
    "Output: [9,0,1,6]\n",
    "\n",
    "'''\n",
    "\n",
    "# prices[0] = 10 // prices[1] = 1 // 10 - 9\n",
    "# prices[1] = 1 // prices[2] = 1 // 1 - 1 = 0\n",
    "# prices[2] = 1 // prices[3] = 6 // return 6"
   ]
  },
  {
   "cell_type": "code",
   "execution_count": 3,
   "metadata": {},
   "outputs": [
    {
     "data": {
      "text/plain": [
       "'\\nclass Solution:\\n    def finalPrices(self, prices: List[int]) -> List[int]:\\n        # corner case\\n        \\n        for i in range(len(prices)):\\n            k = i+1\\n            while k<len(prices) and prices[k]>prices[i]:\\n                k += 1\\n            if k < len(prices):\\n                prices[i] -= prices[k]\\n        return prices\\n'"
      ]
     },
     "execution_count": 3,
     "metadata": {},
     "output_type": "execute_result"
    }
   ],
   "source": [
    "'''\n",
    "class Solution:\n",
    "    def finalPrices(self, prices: List[int]) -> List[int]:\n",
    "        # corner case\n",
    "        \n",
    "        for i in range(len(prices)):\n",
    "            k = i+1\n",
    "            while k<len(prices) and prices[k]>prices[i]:\n",
    "                k += 1\n",
    "            if k < len(prices):\n",
    "                prices[i] -= prices[k]\n",
    "        return prices\n",
    "'''"
   ]
  },
  {
   "cell_type": "code",
   "execution_count": 6,
   "metadata": {},
   "outputs": [
    {
     "name": "stdout",
     "output_type": "stream",
     "text": [
      "[4, 2, 4, 2, 3]\n"
     ]
    }
   ],
   "source": [
    "prices = [8,4,6,2,3]\n",
    "for i in range(len(prices)):\n",
    "    k = i + 1\n",
    "    \n",
    "    while k < len(prices) and prices[k] > prices[i]:\n",
    "        k += 1\n",
    "    if k < len(prices):\n",
    "        prices[i] -= prices[k]\n",
    "print(prices)"
   ]
  },
  {
   "cell_type": "code",
   "execution_count": 7,
   "metadata": {},
   "outputs": [
    {
     "data": {
      "text/plain": [
       "'\\nclass Solution:\\n    def finalPrices(self, prices: List[int]) -> List[int]:       \\n        for i, price in enumerate(prices):\\n            for j in range(i + 1, len(prices)):\\n                if price >= prices[j]:\\n                    prices[i] -= prices[j]\\n                    break\\n        \\n        return prices\\n'"
      ]
     },
     "execution_count": 7,
     "metadata": {},
     "output_type": "execute_result"
    }
   ],
   "source": [
    "'''\n",
    "class Solution:\n",
    "    def finalPrices(self, prices: List[int]) -> List[int]:       \n",
    "        for i, price in enumerate(prices):\n",
    "            for j in range(i + 1, len(prices)):\n",
    "                if price >= prices[j]:\n",
    "                    prices[i] -= prices[j]\n",
    "                    break\n",
    "        \n",
    "        return prices\n",
    "'''"
   ]
  },
  {
   "cell_type": "code",
   "execution_count": 9,
   "metadata": {},
   "outputs": [
    {
     "name": "stdout",
     "output_type": "stream",
     "text": [
      "[4, 2, 4, 2, 3]\n"
     ]
    }
   ],
   "source": [
    "prices = [8,4,6,2,3]\n",
    "for i, price in enumerate(prices):\n",
    "    for j in range(i + 1, len(prices)):\n",
    "        if price >= prices[j]:\n",
    "            prices[i] -= prices[j]\n",
    "            break\n",
    "print(prices)"
   ]
  },
  {
   "cell_type": "code",
   "execution_count": 22,
   "metadata": {},
   "outputs": [
    {
     "name": "stdout",
     "output_type": "stream",
     "text": [
      "4\n",
      "2\n",
      "4\n",
      "2\n",
      "3\n"
     ]
    }
   ],
   "source": [
    "prices = [8,4,6,2,3]\n",
    "for i, price in enumerate(prices):\n",
    "    #print(i, price)\n",
    "    for j in range(i + 1, len(prices)):\n",
    "        #print(\"2nd loop\", prices[j])\n",
    "        if price >= prices[j]:\n",
    "            prices[i] -= prices[j]\n",
    "            break\n",
    "    print(prices[i])"
   ]
  },
  {
   "cell_type": "code",
   "execution_count": null,
   "metadata": {},
   "outputs": [],
   "source": []
  }
 ],
 "metadata": {
  "kernelspec": {
   "display_name": "Python 3",
   "language": "python",
   "name": "python3"
  },
  "language_info": {
   "codemirror_mode": {
    "name": "ipython",
    "version": 3
   },
   "file_extension": ".py",
   "mimetype": "text/x-python",
   "name": "python",
   "nbconvert_exporter": "python",
   "pygments_lexer": "ipython3",
   "version": "3.7.6"
  }
 },
 "nbformat": 4,
 "nbformat_minor": 4
}
