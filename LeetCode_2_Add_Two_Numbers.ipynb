{
 "cells": [
  {
   "cell_type": "code",
   "execution_count": 1,
   "metadata": {},
   "outputs": [],
   "source": [
    "class ListNode(object):\n",
    "    def __init__(self, val = 0, next = None):\n",
    "        self.val = val\n",
    "        self.next = next\n",
    "\n",
    "class Solution(object):\n",
    "    def addTwoNumbers(self, l1, l2):\n",
    "        ans = ListNode(None)\n",
    "        pointer = ans\n",
    "        carry = 0\n",
    "        total = 0\n",
    "        \n",
    "        while (l1 != None or l2 != None):\n",
    "            total = carry\n",
    "            if l1 != None:\n",
    "                total += l1.val\n",
    "                l1 = l1.next\n",
    "            if l2 != None:\n",
    "                total += l2.val\n",
    "                l2 = l2.next\n",
    "            \n",
    "            carry = int(total / 10)\n",
    "            pointer.next = ListNode(total % 10)\n",
    "            pointer = pointer.next\n",
    "\n",
    "        if carry > 0:\n",
    "            pointer.next = ListNode(carry)\n",
    "            \n",
    "        return ans.next"
   ]
  },
  {
   "cell_type": "code",
   "execution_count": 2,
   "metadata": {},
   "outputs": [],
   "source": [
    "s = Solution()\n",
    "\n",
    "# first list implementation\n",
    "# node creation\n",
    "l1_node_2 = ListNode(2)\n",
    "l1_node_4 = ListNode(4)\n",
    "l1_node_3 = ListNode(3)\n",
    "# connection\n",
    "l1_node_2.next = l1_node_4\n",
    "l1_node_4.next = l1_node_3\n",
    "\n",
    "#second list implementation\n",
    "#node creation\n",
    "l2_node_5 = ListNode(5)\n",
    "l2_node_6 = ListNode(6)\n",
    "l2_node_4 = ListNode(4)\n",
    "# connection\n",
    "l2_node_5.next = l2_node_6\n",
    "l2_node_6.next = l2_node_4"
   ]
  },
  {
   "cell_type": "code",
   "execution_count": 3,
   "metadata": {},
   "outputs": [],
   "source": [
    "answer = s.addTwoNumbers(l1_node_2, l2_node_5)"
   ]
  },
  {
   "cell_type": "code",
   "execution_count": 4,
   "metadata": {},
   "outputs": [
    {
     "name": "stdout",
     "output_type": "stream",
     "text": [
      "7\n",
      "0\n",
      "8\n"
     ]
    }
   ],
   "source": [
    "while answer != None:\n",
    "    print(answer.val)\n",
    "    answer = answer.next"
   ]
  },
  {
   "cell_type": "code",
   "execution_count": null,
   "metadata": {},
   "outputs": [],
   "source": []
  }
 ],
 "metadata": {
  "kernelspec": {
   "display_name": "Python 3",
   "language": "python",
   "name": "python3"
  },
  "language_info": {
   "codemirror_mode": {
    "name": "ipython",
    "version": 3
   },
   "file_extension": ".py",
   "mimetype": "text/x-python",
   "name": "python",
   "nbconvert_exporter": "python",
   "pygments_lexer": "ipython3",
   "version": "3.7.6"
  }
 },
 "nbformat": 4,
 "nbformat_minor": 4
}
