{
 "cells": [
  {
   "cell_type": "code",
   "execution_count": 1,
   "metadata": {},
   "outputs": [],
   "source": [
    "#Input: matrix = [[1,2,3],[4,5,6],[7,8,9]]\n",
    "#Output: [[7,4,1],[8,5,2],[9,6,3]]"
   ]
  },
  {
   "cell_type": "code",
   "execution_count": 2,
   "metadata": {},
   "outputs": [
    {
     "data": {
      "text/plain": [
       "[[1, 2, 3], [4, 5, 6], [7, 8, 9]]"
      ]
     },
     "execution_count": 2,
     "metadata": {},
     "output_type": "execute_result"
    }
   ],
   "source": [
    "[\n",
    "[1,2,3],\n",
    "[4,5,6],\n",
    "[7,8,9]\n",
    "]"
   ]
  },
  {
   "cell_type": "code",
   "execution_count": 3,
   "metadata": {},
   "outputs": [
    {
     "data": {
      "text/plain": [
       "[[7, 4, 1], [8, 5, 2], [9, 6, 3]]"
      ]
     },
     "execution_count": 3,
     "metadata": {},
     "output_type": "execute_result"
    }
   ],
   "source": [
    "[\n",
    "[7,4,1],\n",
    "[8,5,2],\n",
    "[9,6,3]\n",
    "]"
   ]
  },
  {
   "cell_type": "code",
   "execution_count": 4,
   "metadata": {},
   "outputs": [],
   "source": [
    "#Input: matrix = [[1,2],[3,4]]\n",
    "#Output: [[3,1],[4,2]]"
   ]
  },
  {
   "cell_type": "code",
   "execution_count": 5,
   "metadata": {},
   "outputs": [
    {
     "data": {
      "text/plain": [
       "[[1, 3], [4, 2]]"
      ]
     },
     "execution_count": 5,
     "metadata": {},
     "output_type": "execute_result"
    }
   ],
   "source": [
    "[\n",
    "[1,2],\n",
    "[3,4]\n",
    "]\n",
    "\n",
    "[\n",
    "[1,3],\n",
    "[4,2]\n",
    "]"
   ]
  },
  {
   "cell_type": "code",
   "execution_count": 6,
   "metadata": {},
   "outputs": [
    {
     "data": {
      "text/plain": [
       "[[7, 4, 1], [8, 5, 2], [9, 6, 3]]"
      ]
     },
     "execution_count": 6,
     "metadata": {},
     "output_type": "execute_result"
    }
   ],
   "source": [
    "[\n",
    "[1,2,3],\n",
    "[4,5,6],\n",
    "[7,8,9]\n",
    "]\n",
    "\n",
    "[\n",
    "[7,4,1],\n",
    "[8,5,2],\n",
    "[9,6,3]\n",
    "]"
   ]
  },
  {
   "cell_type": "code",
   "execution_count": 26,
   "metadata": {},
   "outputs": [
    {
     "name": "stdout",
     "output_type": "stream",
     "text": [
      "[[7, 4, 1], [8, 5, 2], [9, 6, 3]]\n"
     ]
    }
   ],
   "source": [
    "# Logic\n",
    "# [0][0] [0][1] [0][2]\n",
    "# [1][0] [1][1] [1][2]\n",
    "# [2][0] [2][1] [2][2]\n",
    "\n",
    "#into\n",
    "\n",
    "# [2][0] [1][0] [0][0]\n",
    "# [2][1] [1][1] [0][1]\n",
    "# [2][2] [1][2] [0][2]\n",
    "\n",
    "matrix = [[1,2,3], [4,5,6], [7,8,9]]\n",
    "n = len(matrix)\n",
    "\n",
    "matrix[0][0] #1\n",
    "matrix[1][0] #4\n",
    "matrix[2][0] #7\n",
    "\n",
    "lst = []\n",
    "\n",
    "for i in range(0, len(matrix)):\n",
    "    k = []\n",
    "    for j in range(0, len(matrix)):\n",
    "        k.insert(0, matrix[j][i])\n",
    "    lst.append(k)\n",
    "print(lst)"
   ]
  },
  {
   "cell_type": "code",
   "execution_count": 58,
   "metadata": {},
   "outputs": [
    {
     "name": "stdout",
     "output_type": "stream",
     "text": [
      "[[1, 2, 3], [4, 5, 6], [7, 8, 9]]\n",
      "[[1, 4, 7], [4, 5, 6], [7, 8, 9]]\n"
     ]
    }
   ],
   "source": [
    "# Logic\n",
    "# [0][0] [0][1] [0][2]\n",
    "# [1][0] [1][1] [1][2]\n",
    "# [2][0] [2][1] [2][2]\n",
    "\n",
    "#into\n",
    "\n",
    "# [2][0] [1][0] [0][0]\n",
    "# [2][1] [1][1] [0][1]\n",
    "# [2][2] [1][2] [0][2]\n",
    "\n",
    "matrix = [[1,2,3], [4,5,6], [7,8,9]]\n",
    "n = len(matrix)\n",
    "\n",
    "#matrix[0][0] #1 -> matrix[0][2]\n",
    "#matrix[1][0] #4 -> matrix[0][1]\n",
    "#matrix[2][0] #7 -> matrix[0][0]\n",
    "\n",
    "#matrix[0][1] #2 - > matrix[1][0]\n",
    "#matrix[1][1] #5 - > matrix[1][1]\n",
    "#matrix[2][1] #8 - > matrix[1][2]\n",
    "\n",
    "i = 0\n",
    "j = 0\n",
    "print(matrix)\n",
    "\n",
    "while i < n:\n",
    "    #print(matrix[i][j])\n",
    "    matrix[j][i] = matrix[i][j]\n",
    "    i += 1\n",
    "    \n",
    "print(matrix)"
   ]
  },
  {
   "cell_type": "code",
   "execution_count": 64,
   "metadata": {},
   "outputs": [
    {
     "name": "stdout",
     "output_type": "stream",
     "text": [
      "[[7, 4, 1], [8, 5, 2], [9, 6, 3]]\n"
     ]
    }
   ],
   "source": [
    "matrix = [[1,2,3], [4,5,6], [7,8,9]]\n",
    "matrix.reverse()\n",
    "matrix\n",
    "for i in range(len(matrix)):\n",
    "    for j in range(i):\n",
    "        matrix[i][j], matrix[j][i] = matrix[j][i], matrix[i][j]\n",
    "print(matrix)"
   ]
  },
  {
   "cell_type": "code",
   "execution_count": null,
   "metadata": {},
   "outputs": [],
   "source": []
  }
 ],
 "metadata": {
  "kernelspec": {
   "display_name": "Python 3",
   "language": "python",
   "name": "python3"
  },
  "language_info": {
   "codemirror_mode": {
    "name": "ipython",
    "version": 3
   },
   "file_extension": ".py",
   "mimetype": "text/x-python",
   "name": "python",
   "nbconvert_exporter": "python",
   "pygments_lexer": "ipython3",
   "version": "3.7.6"
  }
 },
 "nbformat": 4,
 "nbformat_minor": 4
}
