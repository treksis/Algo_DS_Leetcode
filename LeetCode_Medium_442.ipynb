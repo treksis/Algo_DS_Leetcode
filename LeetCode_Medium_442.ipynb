{
 "cells": [
  {
   "cell_type": "code",
   "execution_count": 9,
   "metadata": {},
   "outputs": [
    {
     "name": "stdout",
     "output_type": "stream",
     "text": [
      "{4: 1, 3: 2, 2: 2, 7: 1, 8: 1, 1: 1}\n",
      "[3, 2]\n"
     ]
    }
   ],
   "source": [
    "'''\n",
    "Input:\n",
    "[4,3,2,7,8,2,3,1]\n",
    "\n",
    "Output:\n",
    "[2,3]\n",
    "'''\n",
    "\n",
    "nums = [4,3,2,7,8,2,3,1]\n",
    "\n",
    "d = {}\n",
    "\n",
    "for num in nums:\n",
    "    if num in d:\n",
    "        d[num] += 1\n",
    "    else:\n",
    "        d[num] = 1\n",
    "print(d)\n",
    "lst = []\n",
    "        \n",
    "for k, v in d.items():\n",
    "    if v == 2:\n",
    "        lst.append(k)\n",
    "print(lst)\n"
   ]
  },
  {
   "cell_type": "code",
   "execution_count": null,
   "metadata": {},
   "outputs": [],
   "source": [
    " # Creating an empty dictionary  \n",
    "    freq = {} \n",
    "    for item in my_list: \n",
    "        if (item in freq): \n",
    "            freq[item] += 1\n",
    "        else: \n",
    "            freq[item] = 1\n",
    "  \n",
    "    for key, value in freq.items(): \n",
    "        print (\"% d : % d\"%(key, value)) "
   ]
  },
  {
   "cell_type": "code",
   "execution_count": null,
   "metadata": {},
   "outputs": [],
   "source": [
    "dictionary = {'george': 16, 'amber': 19}\n",
    "search_age = input(\"Provide age\")\n",
    "for name, age in dictionary.items():  # for name, age in dictionary.iteritems():  (for Python 2.x)\n",
    "    if age == search_age:\n",
    "        print(name)"
   ]
  }
 ],
 "metadata": {
  "kernelspec": {
   "display_name": "Python 3",
   "language": "python",
   "name": "python3"
  },
  "language_info": {
   "codemirror_mode": {
    "name": "ipython",
    "version": 3
   },
   "file_extension": ".py",
   "mimetype": "text/x-python",
   "name": "python",
   "nbconvert_exporter": "python",
   "pygments_lexer": "ipython3",
   "version": "3.7.6"
  }
 },
 "nbformat": 4,
 "nbformat_minor": 4
}
