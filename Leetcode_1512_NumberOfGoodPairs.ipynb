{
 "cells": [
  {
   "cell_type": "code",
   "execution_count": 1,
   "metadata": {},
   "outputs": [],
   "source": [
    "nums = [1,2,3,1,1,3]"
   ]
  },
  {
   "cell_type": "code",
   "execution_count": 6,
   "metadata": {},
   "outputs": [],
   "source": [
    "def numIdenticalPairs(nums):\n",
    "        \"\"\"\n",
    "        :type nums: List[int]\n",
    "        :rtype: int\n",
    "        \"\"\"\n",
    "        count = 0\n",
    "        for i in range(len(nums)):\n",
    "            for j in range(len(nums)):\n",
    "                if nums[i]==nums[j] and i<j:\n",
    "                    count +=1\n",
    "        return count"
   ]
  },
  {
   "cell_type": "code",
   "execution_count": 7,
   "metadata": {},
   "outputs": [
    {
     "data": {
      "text/plain": [
       "4"
      ]
     },
     "execution_count": 7,
     "metadata": {},
     "output_type": "execute_result"
    }
   ],
   "source": [
    "numIdenticalPairs(nums)"
   ]
  },
  {
   "cell_type": "code",
   "execution_count": 25,
   "metadata": {},
   "outputs": [
    {
     "name": "stdout",
     "output_type": "stream",
     "text": [
      "From i:  1\n",
      "values:  1 index:  0\n",
      "values:  2 index:  1\n",
      "values:  3 index:  2\n",
      "values:  1 index:  3\n",
      "Above is the answer\n",
      "values:  1 index:  4\n",
      "Above is the answer\n",
      "values:  3 index:  5\n",
      "From i:  2\n",
      "values:  1 index:  0\n",
      "values:  2 index:  1\n",
      "values:  3 index:  2\n",
      "values:  1 index:  3\n",
      "values:  1 index:  4\n",
      "values:  3 index:  5\n",
      "From i:  3\n",
      "values:  1 index:  0\n",
      "values:  2 index:  1\n",
      "values:  3 index:  2\n",
      "values:  1 index:  3\n",
      "values:  1 index:  4\n",
      "values:  3 index:  5\n",
      "Above is the answer\n",
      "From i:  1\n",
      "values:  1 index:  0\n",
      "values:  2 index:  1\n",
      "values:  3 index:  2\n",
      "values:  1 index:  3\n",
      "values:  1 index:  4\n",
      "Above is the answer\n",
      "values:  3 index:  5\n",
      "From i:  1\n",
      "values:  1 index:  0\n",
      "values:  2 index:  1\n",
      "values:  3 index:  2\n",
      "values:  1 index:  3\n",
      "values:  1 index:  4\n",
      "values:  3 index:  5\n",
      "From i:  3\n",
      "values:  1 index:  0\n",
      "values:  2 index:  1\n",
      "values:  3 index:  2\n",
      "values:  1 index:  3\n",
      "values:  1 index:  4\n",
      "values:  3 index:  5\n"
     ]
    },
    {
     "data": {
      "text/plain": [
       "[0, 0, 0, 0]"
      ]
     },
     "execution_count": 25,
     "metadata": {},
     "output_type": "execute_result"
    }
   ],
   "source": [
    "lst = []\n",
    "ans = 0\n",
    "for i in range(len(nums)):\n",
    "    print('From i: ', nums[i])\n",
    "    for j in range(len(nums)):\n",
    "        print('values: ', nums[j], 'index: ', j)\n",
    "        if nums[i] == nums[j] and i < j:\n",
    "            print(\"Above is the answer\")\n",
    "            lst.append(ans)\n",
    "            \n",
    "lst\n",
    "        "
   ]
  },
  {
   "cell_type": "code",
   "execution_count": 27,
   "metadata": {},
   "outputs": [
    {
     "data": {
      "text/plain": [
       "[1, 2, 3, 1, 1, 3]"
      ]
     },
     "execution_count": 27,
     "metadata": {},
     "output_type": "execute_result"
    }
   ],
   "source": [
    "nums"
   ]
  },
  {
   "cell_type": "code",
   "execution_count": 34,
   "metadata": {},
   "outputs": [
    {
     "data": {
      "text/plain": [
       "{0: 1, 1: 2, 2: 3, 3: 1, 4: 1, 5: 3}"
      ]
     },
     "execution_count": 34,
     "metadata": {},
     "output_type": "execute_result"
    }
   ],
   "source": [
    "count = 0\n",
    "dic = {i: j for i, j in enumerate(nums)}   \n",
    "dic"
   ]
  },
  {
   "cell_type": "code",
   "execution_count": 44,
   "metadata": {},
   "outputs": [
    {
     "name": "stdout",
     "output_type": "stream",
     "text": [
      "1\n",
      "3\n",
      "4\n"
     ]
    }
   ],
   "source": [
    "nums = [1,2,3,1,1,3]\n",
    "hashMap = {}\n",
    "res = 0\n",
    "for number in nums:\n",
    "    #print(nums)\n",
    "    if number in hashMap:\n",
    "        res += hashMap[number]\n",
    "        hashMap[number] += 1\n",
    "        print(res)\n",
    "    else:\n",
    "        hashMap[number] = 1\n"
   ]
  },
  {
   "cell_type": "code",
   "execution_count": null,
   "metadata": {},
   "outputs": [],
   "source": []
  },
  {
   "cell_type": "code",
   "execution_count": null,
   "metadata": {},
   "outputs": [],
   "source": []
  },
  {
   "cell_type": "code",
   "execution_count": null,
   "metadata": {},
   "outputs": [],
   "source": []
  }
 ],
 "metadata": {
  "kernelspec": {
   "display_name": "Python 3",
   "language": "python",
   "name": "python3"
  },
  "language_info": {
   "codemirror_mode": {
    "name": "ipython",
    "version": 3
   },
   "file_extension": ".py",
   "mimetype": "text/x-python",
   "name": "python",
   "nbconvert_exporter": "python",
   "pygments_lexer": "ipython3",
   "version": "3.7.6"
  }
 },
 "nbformat": 4,
 "nbformat_minor": 4
}
