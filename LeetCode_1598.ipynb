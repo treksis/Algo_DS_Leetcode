{
 "cells": [
  {
   "cell_type": "code",
   "execution_count": null,
   "metadata": {},
   "outputs": [],
   "source": [
    "'''\n",
    "\"../\" : Move to the parent folder of the current folder. (If you are already in the main folder, remain in the same folder).\n",
    "\"./\" : Remain in the same folder.\n",
    "\"x/\" : Move to the child folder named x (This folder is guaranteed to always exist).\n",
    "\n",
    "logs = [\"d1/\",\"d2/\",\"../\",\"d21/\",\"./\"]\n",
    "Output: 2\n",
    "'''"
   ]
  },
  {
   "cell_type": "code",
   "execution_count": 28,
   "metadata": {},
   "outputs": [
    {
     "name": "stdout",
     "output_type": "stream",
     "text": [
      "['d1/', 'd21/']\n"
     ]
    },
    {
     "data": {
      "text/plain": [
       "2"
      ]
     },
     "execution_count": 28,
     "metadata": {},
     "output_type": "execute_result"
    }
   ],
   "source": [
    "logs = [\"d1/\",\"d2/\",\"../\",\"d21/\",\"./\"]\n",
    "\n",
    "def log_track(logs):\n",
    "    \n",
    "    stack = []\n",
    "    \n",
    "    for log in logs:\n",
    "        stack.append(log)\n",
    "        if log == \"../\":\n",
    "            stack.pop()\n",
    "            stack.pop()\n",
    "        elif log == \"./\":\n",
    "            stack.pop()\n",
    "    \n",
    "    print(stack)\n",
    "    return len(stack)\n",
    "    \n",
    "log_track(logs)"
   ]
  },
  {
   "cell_type": "code",
   "execution_count": 24,
   "metadata": {},
   "outputs": [
    {
     "data": {
      "text/plain": [
       "2"
      ]
     },
     "execution_count": 24,
     "metadata": {},
     "output_type": "execute_result"
    }
   ],
   "source": [
    "def log_stack(logs):\n",
    "    \n",
    "    stack = []\n",
    "    \n",
    "    if not logs:\n",
    "        return 0\n",
    "    \n",
    "    for log in logs:\n",
    "        if log == \"../\" and stack:\n",
    "                stack.pop()\n",
    "        elif log == \"./\":\n",
    "            continue\n",
    "        else:\n",
    "            stack.append(log)\n",
    "    \n",
    "    return len(stack)\n",
    "\n",
    "log_stack(logs)"
   ]
  },
  {
   "cell_type": "code",
   "execution_count": 27,
   "metadata": {},
   "outputs": [
    {
     "data": {
      "text/plain": [
       "2"
      ]
     },
     "execution_count": 27,
     "metadata": {},
     "output_type": "execute_result"
    }
   ],
   "source": [
    "def log_count(logs):\n",
    "    \n",
    "    count = 0\n",
    "    \n",
    "    for log in logs:\n",
    "        if log not in [\"../\", \"./\"]:\n",
    "            count += 1\n",
    "        if log == \"../\" and count:\n",
    "            count -= 1\n",
    "    \n",
    "    return count\n",
    "\n",
    "log_count(logs)"
   ]
  },
  {
   "cell_type": "code",
   "execution_count": null,
   "metadata": {},
   "outputs": [],
   "source": []
  }
 ],
 "metadata": {
  "kernelspec": {
   "display_name": "Python 3",
   "language": "python",
   "name": "python3"
  },
  "language_info": {
   "codemirror_mode": {
    "name": "ipython",
    "version": 3
   },
   "file_extension": ".py",
   "mimetype": "text/x-python",
   "name": "python",
   "nbconvert_exporter": "python",
   "pygments_lexer": "ipython3",
   "version": "3.7.6"
  }
 },
 "nbformat": 4,
 "nbformat_minor": 4
}
