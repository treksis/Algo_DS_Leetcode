{
 "cells": [
  {
   "cell_type": "code",
   "execution_count": 3,
   "metadata": {},
   "outputs": [],
   "source": [
    "   def isAnagram(s: str, t: str) -> bool:\n",
    "    \n",
    "        counter = {}\n",
    "            \n",
    "        if len(s) != len(t):\n",
    "            return False\n",
    "        \n",
    "        for char in s:\n",
    "            if char not in counter:\n",
    "                counter[char] = 1\n",
    "            else:\n",
    "                counter[char] += 1\n",
    "        \n",
    "        for char in t:\n",
    "            if char in counter:\n",
    "                counter[char] -= 1\n",
    "            else:\n",
    "                return False\n",
    "            \n",
    "        for val in counter.values():\n",
    "            if val != 0:\n",
    "                return False\n",
    "        \n",
    "        return True"
   ]
  },
  {
   "cell_type": "code",
   "execution_count": 4,
   "metadata": {},
   "outputs": [
    {
     "data": {
      "text/plain": [
       "False"
      ]
     },
     "execution_count": 4,
     "metadata": {},
     "output_type": "execute_result"
    }
   ],
   "source": [
    "isAnagram(\"cat\", \"car\")"
   ]
  },
  {
   "cell_type": "code",
   "execution_count": 15,
   "metadata": {},
   "outputs": [
    {
     "name": "stdout",
     "output_type": "stream",
     "text": [
      "True\n"
     ]
    }
   ],
   "source": [
    "def naive(s, t):\n",
    "    \n",
    "    dic = {}\n",
    "    \n",
    "    if len(s) != len(t):\n",
    "        return False\n",
    "    \n",
    "    for c in s:\n",
    "        if c not in dic:\n",
    "            dic[c] = 1\n",
    "        else:\n",
    "            dic[c] += 1\n",
    "    \n",
    "    for c in t:\n",
    "        if c in dic:\n",
    "            dic[c] -= 1\n",
    "        else: return False\n",
    "        \n",
    "    for v in dic.values():\n",
    "        if v != 0:\n",
    "            return False\n",
    "        \n",
    "    return True\n",
    "\n",
    "naive(\"cat\", \"car\")\n",
    "print(naive(\"cat\", \"tac\"))"
   ]
  },
  {
   "cell_type": "code",
   "execution_count": 34,
   "metadata": {},
   "outputs": [
    {
     "name": "stdout",
     "output_type": "stream",
     "text": [
      "{'a': 1, 'd': 2}\n",
      "{'e': 1, 'g': 2}\n"
     ]
    },
    {
     "data": {
      "text/plain": [
       "True"
      ]
     },
     "execution_count": 34,
     "metadata": {},
     "output_type": "execute_result"
    }
   ],
   "source": [
    "class Solution:\n",
    "    def isIsomorphic(self, s: str, t: str) -> bool:\n",
    "        \n",
    "        count_1 = {}\n",
    "        \n",
    "        for char in s:\n",
    "            if char not in count_1:\n",
    "                count_1[char] = 1\n",
    "            else:\n",
    "                count_1[char] += 1\n",
    "        \n",
    "        print(count_1)\n",
    "        count_2 = {}\n",
    "        \n",
    "        for char in t:\n",
    "            if char not in count_2:\n",
    "                count_2[char] = 1\n",
    "            else:\n",
    "                count_2[char] += 1\n",
    "                \n",
    "        print(count_2)\n",
    "        \n",
    "        return (list(count_1.values()) == list(count_2.values()))\n",
    "        \n",
    "s = Solution()\n",
    "s.isIsomorphic('add', 'egg')"
   ]
  },
  {
   "cell_type": "code",
   "execution_count": 37,
   "metadata": {},
   "outputs": [
    {
     "name": "stdout",
     "output_type": "stream",
     "text": [
      "[1, 2]\n",
      "[1, 2]\n"
     ]
    },
    {
     "data": {
      "text/plain": [
       "True"
      ]
     },
     "execution_count": 37,
     "metadata": {},
     "output_type": "execute_result"
    }
   ],
   "source": [
    "from collections import Counter\n",
    "def is_isomorphic(a,b):\n",
    "    a_counts = list(Counter(a).values())\n",
    "    a_counts.sort()\n",
    "    print(a_counts)\n",
    "    b_counts = list(Counter(b).values())\n",
    "    b_counts.sort()\n",
    "    print(b_counts)\n",
    "    if a_counts == b_counts:\n",
    "        return True\n",
    "    return False\n",
    "\n",
    "is_isomorphic('add', 'egg')"
   ]
  },
  {
   "cell_type": "code",
   "execution_count": 59,
   "metadata": {},
   "outputs": [
    {
     "name": "stdout",
     "output_type": "stream",
     "text": [
      "{'a': 'fish', 'b': 'cat'}\n",
      "{'dog': 'a', 'cat': 'b', 'fish': 'a'}\n"
     ]
    }
   ],
   "source": [
    "#pattern = \"abba\"\n",
    "#s = \"dog cat cat dog\"\n",
    "\n",
    "pattern = \"abba\"\n",
    "s = \"dog cat cat fish\"\n",
    "\n",
    "s = list(s.split())\n",
    "\n",
    "p2s = {}\n",
    "s2p = {}\n",
    "\n",
    "for i in range(len(pattern)):\n",
    "    p2s[pattern[i]] = s[i]\n",
    "    s2p[s[i]] = pattern[i]\n",
    "    \n",
    "print(p2s)\n",
    "print(s2p)"
   ]
  },
  {
   "cell_type": "code",
   "execution_count": null,
   "metadata": {},
   "outputs": [],
   "source": []
  },
  {
   "cell_type": "code",
   "execution_count": 52,
   "metadata": {},
   "outputs": [
    {
     "ename": "IndentationError",
     "evalue": "unexpected indent (<ipython-input-52-04f13fffaa44>, line 2)",
     "output_type": "error",
     "traceback": [
      "\u001b[0;36m  File \u001b[0;32m\"<ipython-input-52-04f13fffaa44>\"\u001b[0;36m, line \u001b[0;32m2\u001b[0m\n\u001b[0;31m    for i in range(len(s)):\u001b[0m\n\u001b[0m    ^\u001b[0m\n\u001b[0;31mIndentationError\u001b[0m\u001b[0;31m:\u001b[0m unexpected indent\n"
     ]
    }
   ],
   "source": [
    "       s2t, t2s = {}, {}\n",
    "        for i in range(len(s)):\n",
    "            if s[i] in s2t and s2t[s[i]] != t[i]:\n",
    "                return False\n",
    "            if t[i] in t2s and t2s[t[i]] != s[i]:\n",
    "                return False\n",
    "            s2t[s[i]] = t[i]\n",
    "            t2s[t[i]] = s[i]\n",
    "        return True"
   ]
  },
  {
   "cell_type": "code",
   "execution_count": null,
   "metadata": {},
   "outputs": [],
   "source": []
  }
 ],
 "metadata": {
  "kernelspec": {
   "display_name": "Python 3",
   "language": "python",
   "name": "python3"
  },
  "language_info": {
   "codemirror_mode": {
    "name": "ipython",
    "version": 3
   },
   "file_extension": ".py",
   "mimetype": "text/x-python",
   "name": "python",
   "nbconvert_exporter": "python",
   "pygments_lexer": "ipython3",
   "version": "3.7.6"
  }
 },
 "nbformat": 4,
 "nbformat_minor": 4
}
