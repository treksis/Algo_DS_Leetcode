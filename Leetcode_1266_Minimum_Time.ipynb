{
 "cells": [
  {
   "cell_type": "code",
   "execution_count": 1,
   "metadata": {},
   "outputs": [],
   "source": [
    "#Input: points = [[1,1],[3,4],[-1,0]]\n",
    "#Output: 7\n",
    "#Explanation: One optimal path is [1,1] -> [2,2] -> [3,3] -> [3,4] -> [2,3] -> [1,2] -> [0,1] -> [-1,0]   "
   ]
  },
  {
   "cell_type": "code",
   "execution_count": 2,
   "metadata": {},
   "outputs": [],
   "source": [
    "# [1, 1] - > [2, 2] - > [3, 3] - > [3, 4] - > [2, 3] - > [1, 2] - > [0, 1] - > [-1, 0]\n",
    "# 0           1           2            3         4           5         6           7\n",
    "\n",
    "# points = [[3,2],[-2,2]]\n",
    "# [3, 2] - > [2, 2] - > [1, 2] - > [0, 2] - > [-1, 2] - > [-2, 2]\n",
    "#    0          1           2         3           4           5 "
   ]
  },
  {
   "cell_type": "code",
   "execution_count": 3,
   "metadata": {},
   "outputs": [],
   "source": [
    "points = [[1,1],[3,4],[-1,0]]"
   ]
  },
  {
   "cell_type": "code",
   "execution_count": 9,
   "metadata": {},
   "outputs": [
    {
     "name": "stdout",
     "output_type": "stream",
     "text": [
      "[1, 1]\n",
      "[3, 4]\n",
      "[-1, 0]\n"
     ]
    }
   ],
   "source": [
    "for point in points:\n",
    "    print(point)    "
   ]
  },
  {
   "cell_type": "code",
   "execution_count": 42,
   "metadata": {},
   "outputs": [
    {
     "name": "stdout",
     "output_type": "stream",
     "text": [
      "Diagonal:  [2, 2]\n",
      "Diagonal:  [3, 3]\n",
      "Vertical:  [3, 4]\n"
     ]
    }
   ],
   "source": [
    "point_1 = [1, 1]\n",
    "point_2 = [3, 4]\n",
    "\n",
    "while point_1 != point_2:\n",
    "    \n",
    "    if abs(point_1[0] - point_2[0]) != 0 and abs(point_1[1] - point_2[1]) != 0:\n",
    "        point_1[0] += 1\n",
    "        point_1[1] += 1\n",
    "        print(\"Diagonal: \", point_1)\n",
    "    \n",
    "    # Horizontal move\n",
    "    elif abs(point_1[0] - point_2[0]) != 0:\n",
    "        point_1[0] += 1\n",
    "        print(\"Horizontal \", point_1)\n",
    "        \n",
    "    # Vertical move\n",
    "    elif abs(point_1[1] - point_2[1]) != 0:\n",
    "        point_1[1] += 1\n",
    "        print(\"Vertical: \", point_1)"
   ]
  },
  {
   "cell_type": "code",
   "execution_count": 51,
   "metadata": {},
   "outputs": [],
   "source": [
    "# [1, 1], [3, 4]\n",
    "\n",
    "point_1 = [1, 1]\n",
    "point_2 = [3, 4]\n",
    "\n",
    "def diagonal(point_1, point_2):\n",
    "    if point_2[0] - point_1[0] > 0 and point_2[1] - point_1[1] > 0:\n",
    "        point_1[0] += 1\n",
    "        point_1[1] += 1\n",
    "    elif point_2[0] - point_1[0] < 0 and point_2[1] - point_1[1] < 0:\n",
    "        point_1[0] -= 1\n",
    "        point_1[1] -= 1\n",
    "\n",
    "    return point_1\n",
    "    \n",
    "def horizontal(point_1, point_2):\n",
    "    if point_2[0] - point_1[0] > 0:\n",
    "        point_1[0] += 1\n",
    "    elif point_2[0] - point_1[0] < 0:\n",
    "        point_1[0] -= 1        \n",
    "    return point_1\n",
    "\n",
    "def vertical(point_1, point_2):\n",
    "    if point_2[1] - point_1[1] > 0:\n",
    "        point_1[1] += 1\n",
    "    elif point_2[1] - point_1[1] < 0:\n",
    "        point_1[1] -= 1        \n",
    "    return point_1"
   ]
  },
  {
   "cell_type": "code",
   "execution_count": 54,
   "metadata": {},
   "outputs": [
    {
     "data": {
      "text/plain": [
       "[-1, 0]"
      ]
     },
     "execution_count": 54,
     "metadata": {},
     "output_type": "execute_result"
    }
   ],
   "source": [
    "point_1 = [1, 1]\n",
    "#point_2 = [3, 4]\n",
    "point_2 = [-1, 0]\n",
    "\n",
    "while point_1 != point_2:\n",
    "    \n",
    "    #Diagonal\n",
    "    if point_2[0] - point_1[0] > 0 and point_2[1] - point_1[1] > 0:\n",
    "        point_1[0] += 1\n",
    "        point_1[1] += 1\n",
    "    elif point_2[0] - point_1[0] < 0 and point_2[1] - point_1[1] < 0:\n",
    "        point_1[0] -= 1\n",
    "        point_1[1] -= 1\n",
    "    #Horizontal\n",
    "    elif point_2[0] - point_1[0] > 0:\n",
    "        point_1[0] += 1\n",
    "    elif point_2[0] - point_1[0] < 0:\n",
    "        point_1[0] -= 1\n",
    "    #Vertical    \n",
    "    elif point_2[1] - point_1[1] > 0:\n",
    "        point_1[1] += 1\n",
    "    elif point_2[1] - point_1[1] < 0:\n",
    "        point_1[1] -= 1  \n",
    "        \n",
    "point_1"
   ]
  },
  {
   "cell_type": "code",
   "execution_count": 78,
   "metadata": {},
   "outputs": [
    {
     "name": "stdout",
     "output_type": "stream",
     "text": [
      "[3, 2] [-2, 2]\n",
      "[[2, 2], [1, 2], [0, 2], [-1, 2], [-2, 2]]\n"
     ]
    }
   ],
   "source": [
    "#points = [[1,1], [3,4], [-1,0]]\n",
    "points = [[3,2],[-2,2]]\n",
    "k = []\n",
    "\n",
    "for i in range(len(points) - 1):\n",
    "    start = points[i]\n",
    "    end = points[i + 1]\n",
    "    print(start, end)\n",
    "    \n",
    "    while start != end:\n",
    "        \n",
    "        # Diagonal\n",
    "        if end[0] - start[0] > 0 and end[1] - start[1] > 0:\n",
    "            start[0] += 1\n",
    "            start[1] += 1\n",
    "        elif end[0] - start[0] < 0 and end[1] - start[1] < 0:\n",
    "            start[0] -= 1\n",
    "            start[1] -= 1\n",
    "\n",
    "        # Horizontal\n",
    "        elif end[0] - start[0] > 0:\n",
    "            start[0] += 1\n",
    "        elif end[0] - start[0] < 0:\n",
    "            start[0] -= 1\n",
    "\n",
    "        # Vertical\n",
    "        elif end[1] - start[1] > 0:\n",
    "            start[1] += 1\n",
    "        elif end[1] - start[1] < 0:\n",
    "            start[1] -= 1\n",
    "\n",
    "        k.append([start[0], start[1]])\n",
    "print(k)\n",
    "    \n",
    "    "
   ]
  },
  {
   "cell_type": "code",
   "execution_count": 68,
   "metadata": {},
   "outputs": [
    {
     "data": {
      "text/plain": [
       "'\\nwhile start != end:\\n    # Diagonal\\n    if end[0] - start[0] > 0 and end[1] - start[1] > 0:\\n        start[0] += 1\\n        start[1] += 1\\n    elif end[0] - start[0] < 0 and end[1] - start[1] < 0:\\n        start[0] -= 1\\n        start[1] -= 1\\n    # Horizontal\\n    elif end[0] - start[0] > 0:\\n        start += 1\\n    elif end[0] - start[0] < 0:\\n        start -= 1\\n    # Vertical\\n    elif end[1] - start[1] < 0:\\n        start[1] += 1\\n    elif end[1] - start[1] < 0:\\n        start[1] -= 1\\n'"
      ]
     },
     "execution_count": 68,
     "metadata": {},
     "output_type": "execute_result"
    }
   ],
   "source": [
    "    '''\n",
    "    while start != end:\n",
    "        # Diagonal\n",
    "        if end[0] - start[0] > 0 and end[1] - start[1] > 0:\n",
    "            start[0] += 1\n",
    "            start[1] += 1\n",
    "        elif end[0] - start[0] < 0 and end[1] - start[1] < 0:\n",
    "            start[0] -= 1\n",
    "            start[1] -= 1\n",
    "        # Horizontal\n",
    "        elif end[0] - start[0] > 0:\n",
    "            start += 1\n",
    "        elif end[0] - start[0] < 0:\n",
    "            start -= 1\n",
    "        # Vertical\n",
    "        elif end[1] - start[1] < 0:\n",
    "            start[1] += 1\n",
    "        elif end[1] - start[1] < 0:\n",
    "            start[1] -= 1\n",
    "    '''"
   ]
  },
  {
   "cell_type": "code",
   "execution_count": 85,
   "metadata": {},
   "outputs": [
    {
     "name": "stdout",
     "output_type": "stream",
     "text": [
      "[1, 1] [3, 4]\n",
      "2 3\n",
      "[3, 4] [-1, 0]\n",
      "-4 -4\n"
     ]
    }
   ],
   "source": [
    "points = [[1,1], [3,4], [-1,0]]\n",
    "steps = 0\n",
    "for i in range(len(points)-1):\n",
    "    point = points[i]\n",
    "    next_point = points[i+1]\n",
    "    print(point, next_point)\n",
    "    steps += max(abs(next_point[0] - point[0]), abs(next_point[1] - point[1]))\n",
    "    print(next_point[0] - point[0], next_point[1] - point[1])\n",
    "#print(steps)"
   ]
  },
  {
   "cell_type": "code",
   "execution_count": null,
   "metadata": {},
   "outputs": [],
   "source": []
  },
  {
   "cell_type": "code",
   "execution_count": null,
   "metadata": {},
   "outputs": [],
   "source": []
  }
 ],
 "metadata": {
  "kernelspec": {
   "display_name": "Python 3",
   "language": "python",
   "name": "python3"
  },
  "language_info": {
   "codemirror_mode": {
    "name": "ipython",
    "version": 3
   },
   "file_extension": ".py",
   "mimetype": "text/x-python",
   "name": "python",
   "nbconvert_exporter": "python",
   "pygments_lexer": "ipython3",
   "version": "3.7.6"
  }
 },
 "nbformat": 4,
 "nbformat_minor": 4
}
