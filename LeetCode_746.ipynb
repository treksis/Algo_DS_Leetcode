{
 "cells": [
  {
   "cell_type": "code",
   "execution_count": 42,
   "metadata": {},
   "outputs": [
    {
     "data": {
      "text/plain": [
       "'\\nExample 1:\\nInput: cost = [10, 15, 20]\\nOutput: 15\\nExplanation: Cheapest is start on cost[1], pay that cost and go to the top.\\nExample 2:\\nInput: cost = [1, 100, 1, 1, 1, 100, 1, 1, 100, 1]\\nOutput: 6\\nExplanation: Cheapest is start on cost[0], and only step on 1s, skipping cost[3].\\n'"
      ]
     },
     "execution_count": 42,
     "metadata": {},
     "output_type": "execute_result"
    }
   ],
   "source": [
    "'''\n",
    "Example 1:\n",
    "Input: cost = [10, 15, 20]\n",
    "Output: 15\n",
    "Explanation: Cheapest is start on cost[1], pay that cost and go to the top.\n",
    "Example 2:\n",
    "Input: cost = [1, 100, 1, 1, 1, 100, 1, 1, 100, 1]\n",
    "Output: 6\n",
    "Explanation: Cheapest is start on cost[0], and only step on 1s, skipping cost[3].\n",
    "'''"
   ]
  },
  {
   "cell_type": "code",
   "execution_count": 46,
   "metadata": {},
   "outputs": [
    {
     "name": "stdout",
     "output_type": "stream",
     "text": [
      "10\n"
     ]
    }
   ],
   "source": [
    "cost = [1, 100, 1, 1, 1, 100, 1, 1, 100, 1]\n",
    "n = len(cost)\n",
    "print(n)\n",
    "# 1, 1, 1, 1, 1, 1\n",
    "# cost[0], cost[2], cost[4], cost[6], cost[7], cost[9]\n",
    "# Greedy?"
   ]
  },
  {
   "cell_type": "code",
   "execution_count": 63,
   "metadata": {},
   "outputs": [
    {
     "name": "stdout",
     "output_type": "stream",
     "text": [
      "f_current:  2\n",
      "100 2\n",
      "f_current:  3\n",
      "2 3\n",
      "f_current:  3\n",
      "3 3\n",
      "f_current:  103\n",
      "3 103\n",
      "f_current:  4\n",
      "103 4\n",
      "f_current:  5\n",
      "4 5\n",
      "f_current:  104\n",
      "5 104\n",
      "f_current:  6\n",
      "104 6\n"
     ]
    }
   ],
   "source": [
    "cost = [1, 100, 1, 1, 1, 100, 1, 1, 100, 1]\n",
    "\n",
    "f1 = cost[0]\n",
    "f2 = cost[1]\n",
    "\n",
    "for i in range(2, n):\n",
    "    #print(\"Loop\", cost[i], min(f1, f2))\n",
    "    f_current = cost[i] + min(f1, f2)\n",
    "    print(\"f_current: \", f_current)\n",
    "    f1, f2 = f2, f_current\n",
    "    print(f1, f2)\n",
    "\n",
    "#print(min(f1,f2))"
   ]
  },
  {
   "cell_type": "code",
   "execution_count": 65,
   "metadata": {},
   "outputs": [],
   "source": [
    "# 1 + 1 = f_current\n",
    "# [1, 100, 2, 3, 3, 103, 4, 5, 104, 6]"
   ]
  },
  {
   "cell_type": "code",
   "execution_count": 66,
   "metadata": {},
   "outputs": [
    {
     "data": {
      "text/plain": [
       "'\\nExample 1:\\n\\nInput: n = 2\\nOutput: 2\\nExplanation: There are two ways to climb to the top.\\n1. 1 step + 1 step\\n2. 2 steps\\nExample 2:\\n\\nInput: n = 3\\nOutput: 3\\nExplanation: There are three ways to climb to the top.\\n1. 1 step + 1 step + 1 step\\n2. 1 step + 2 steps\\n3. 2 steps + 1 step\\n\\n'"
      ]
     },
     "execution_count": 66,
     "metadata": {},
     "output_type": "execute_result"
    }
   ],
   "source": [
    "'''\n",
    "Example 1:\n",
    "\n",
    "Input: n = 2\n",
    "Output: 2\n",
    "Explanation: There are two ways to climb to the top.\n",
    "1. 1 step + 1 step\n",
    "2. 2 steps\n",
    "Example 2:\n",
    "\n",
    "Input: n = 3\n",
    "Output: 3\n",
    "Explanation: There are three ways to climb to the top.\n",
    "1. 1 step + 1 step + 1 step\n",
    "2. 1 step + 2 steps\n",
    "3. 2 steps + 1 step\n",
    "\n",
    "'''"
   ]
  },
  {
   "cell_type": "code",
   "execution_count": 71,
   "metadata": {},
   "outputs": [
    {
     "data": {
      "text/plain": [
       "[4]"
      ]
     },
     "execution_count": 71,
     "metadata": {},
     "output_type": "execute_result"
    }
   ],
   "source": [
    "n = 1\n",
    "[1]\n",
    "\n",
    "n = 2\n",
    "[1, 1]\n",
    "[2]\n",
    "\n",
    "n = 3\n",
    "[1, 1, 1]\n",
    "[1, 2]\n",
    "[2, 1]\n",
    "\n",
    "n = 4\n",
    "[1, 1, 1, 1]\n",
    "[1, 1, 2]\n",
    "[1, 2, 1]\n",
    "[2, 1, 1]\n",
    "[2, 2]"
   ]
  },
  {
   "cell_type": "code",
   "execution_count": 69,
   "metadata": {},
   "outputs": [],
   "source": [
    "if n < 1:\n",
    "    pass\n"
   ]
  },
  {
   "cell_type": "code",
   "execution_count": null,
   "metadata": {},
   "outputs": [],
   "source": []
  },
  {
   "cell_type": "code",
   "execution_count": null,
   "metadata": {},
   "outputs": [],
   "source": []
  }
 ],
 "metadata": {
  "kernelspec": {
   "display_name": "Python 3",
   "language": "python",
   "name": "python3"
  },
  "language_info": {
   "codemirror_mode": {
    "name": "ipython",
    "version": 3
   },
   "file_extension": ".py",
   "mimetype": "text/x-python",
   "name": "python",
   "nbconvert_exporter": "python",
   "pygments_lexer": "ipython3",
   "version": "3.7.6"
  }
 },
 "nbformat": 4,
 "nbformat_minor": 4
}
