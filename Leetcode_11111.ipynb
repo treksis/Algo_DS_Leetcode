{
 "cells": [
  {
   "cell_type": "code",
   "execution_count": 24,
   "metadata": {},
   "outputs": [],
   "source": [
    "s = \"leEeetcode\"\n",
    "#s = \"abBAcC\""
   ]
  },
  {
   "cell_type": "code",
   "execution_count": 25,
   "metadata": {},
   "outputs": [
    {
     "name": "stdout",
     "output_type": "stream",
     "text": [
      "['l']\n",
      "['l', 'e']\n",
      "['l', 'e', 'E']\n",
      "['l', 'e']\n",
      "['l', 'e', 'e']\n",
      "['l', 'e', 'e', 't']\n",
      "['l', 'e', 'e', 't', 'c']\n",
      "['l', 'e', 'e', 't', 'c', 'o']\n",
      "['l', 'e', 'e', 't', 'c', 'o', 'd']\n",
      "['l', 'e', 'e', 't', 'c', 'o', 'd', 'e']\n",
      "['l', 'e', 'e', 't', 'c', 'o', 'd', 'e']\n"
     ]
    }
   ],
   "source": [
    "def masa(s):\n",
    "    stack = []\n",
    "    for c in s:\n",
    "        stack.append(c)\n",
    "        print(stack)\n",
    "        if len(stack) > 1 and stack[-1].lower() == stack[-2].lower():\n",
    "            if stack[-1].islower() and stack[-2].isupper():\n",
    "                stack.pop()\n",
    "                stack.pop()\n",
    "            elif stack[-1].isupper() and stack[-2].islower():\n",
    "                stack.pop()\n",
    "                stack.pop()\n",
    "                \n",
    "    return stack\n",
    "    \n",
    "masa(s)"
   ]
  },
  {
   "cell_type": "code",
   "execution_count": 22,
   "metadata": {},
   "outputs": [
    {
     "data": {
      "text/plain": [
       "True"
      ]
     },
     "execution_count": 22,
     "metadata": {},
     "output_type": "execute_result"
    }
   ],
   "source": [
    "test1 = \"A\"\n",
    "test2 = \"a\"\n",
    "test1.lower() == test2.lower()"
   ]
  },
  {
   "cell_type": "code",
   "execution_count": null,
   "metadata": {},
   "outputs": [],
   "source": []
  }
 ],
 "metadata": {
  "kernelspec": {
   "display_name": "Python 3",
   "language": "python",
   "name": "python3"
  },
  "language_info": {
   "codemirror_mode": {
    "name": "ipython",
    "version": 3
   },
   "file_extension": ".py",
   "mimetype": "text/x-python",
   "name": "python",
   "nbconvert_exporter": "python",
   "pygments_lexer": "ipython3",
   "version": "3.7.6"
  }
 },
 "nbformat": 4,
 "nbformat_minor": 4
}
