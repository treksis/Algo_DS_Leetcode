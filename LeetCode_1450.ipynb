{
 "cells": [
  {
   "cell_type": "code",
   "execution_count": 1,
   "metadata": {},
   "outputs": [
    {
     "data": {
      "text/plain": [
       "\"\\nExample 1:\\n\\nInput: startTime = [1,2,3], endTime = [3,2,7], queryTime = 4\\nOutput: 1\\nExplanation: We have 3 students where:\\nThe first student started doing homework at time 1 and finished at time 3 and wasn't doing anything at time 4.\\nThe second student started doing homework at time 2 and finished at time 2 and also wasn't doing anything at time 4.\\nThe third student started doing homework at time 3 and finished at time 7 and was the only student doing homework at time 4.\\nExample 2:\\n\\nInput: startTime = [4], endTime = [4], queryTime = 4\\nOutput: 1\\nExplanation: The only student was doing their homework at the queryTime.\\n\""
      ]
     },
     "execution_count": 1,
     "metadata": {},
     "output_type": "execute_result"
    }
   ],
   "source": [
    "'''\n",
    "Example 1:\n",
    "\n",
    "Input: startTime = [1,2,3], endTime = [3,2,7], queryTime = 4\n",
    "Output: 1\n",
    "Explanation: We have 3 students where:\n",
    "The first student started doing homework at time 1 and finished at time 3 and wasn't doing anything at time 4.\n",
    "The second student started doing homework at time 2 and finished at time 2 and also wasn't doing anything at time 4.\n",
    "The third student started doing homework at time 3 and finished at time 7 and was the only student doing homework at time 4.\n",
    "Example 2:\n",
    "\n",
    "Input: startTime = [4], endTime = [4], queryTime = 4\n",
    "Output: 1\n",
    "Explanation: The only student was doing their homework at the queryTime.\n",
    "'''"
   ]
  },
  {
   "cell_type": "code",
   "execution_count": 33,
   "metadata": {},
   "outputs": [
    {
     "data": {
      "text/plain": [
       "0"
      ]
     },
     "execution_count": 33,
     "metadata": {},
     "output_type": "execute_result"
    }
   ],
   "source": [
    "#startTime = [1,2,3]\n",
    "startTime = [4]\n",
    "#endTime = [3,2,7]\n",
    "endTime = [4]\n",
    "queryTime = 5\n",
    "\n",
    "count = 0\n",
    "\n",
    "for i, j in zip(startTime, endTime):\n",
    "    k = j - i\n",
    "    if i == j:\n",
    "        if i == queryTime:\n",
    "            count += 1\n",
    "        elif i != queryTime:\n",
    "            count += 0\n",
    "    elif k == queryTime:\n",
    "        count += 1\n",
    "count"
   ]
  },
  {
   "cell_type": "code",
   "execution_count": 34,
   "metadata": {},
   "outputs": [
    {
     "data": {
      "text/plain": [
       "'\\nclass Solution:\\n    def busyStudent(self, startTime: List[int], endTime: List[int], queryTime: int) -> int:\\n        students = 0\\n        for start, end in zip(startTime, endTime):\\n            if start <= queryTime <= end:\\n                students += 1\\n        return students\\n'"
      ]
     },
     "execution_count": 34,
     "metadata": {},
     "output_type": "execute_result"
    }
   ],
   "source": [
    "'''\n",
    "class Solution:\n",
    "    def busyStudent(self, startTime: List[int], endTime: List[int], queryTime: int) -> int:\n",
    "        students = 0\n",
    "        for start, end in zip(startTime, endTime):\n",
    "            if start <= queryTime <= end:\n",
    "                students += 1\n",
    "        return students\n",
    "'''"
   ]
  },
  {
   "cell_type": "code",
   "execution_count": null,
   "metadata": {},
   "outputs": [],
   "source": []
  },
  {
   "cell_type": "code",
   "execution_count": null,
   "metadata": {},
   "outputs": [],
   "source": []
  },
  {
   "cell_type": "code",
   "execution_count": null,
   "metadata": {},
   "outputs": [],
   "source": []
  }
 ],
 "metadata": {
  "kernelspec": {
   "display_name": "Python 3",
   "language": "python",
   "name": "python3"
  },
  "language_info": {
   "codemirror_mode": {
    "name": "ipython",
    "version": 3
   },
   "file_extension": ".py",
   "mimetype": "text/x-python",
   "name": "python",
   "nbconvert_exporter": "python",
   "pygments_lexer": "ipython3",
   "version": "3.7.6"
  }
 },
 "nbformat": 4,
 "nbformat_minor": 4
}
