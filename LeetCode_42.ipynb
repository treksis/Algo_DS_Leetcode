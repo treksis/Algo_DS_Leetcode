{
 "cells": [
  {
   "cell_type": "code",
   "execution_count": 2,
   "metadata": {},
   "outputs": [
    {
     "data": {
      "text/plain": [
       "3"
      ]
     },
     "execution_count": 2,
     "metadata": {},
     "output_type": "execute_result"
    }
   ],
   "source": [
    "height = [0,1,0,2,1,0,1,3,2,1,2,1]\n",
    "\n",
    "m = max(height)\n",
    "m"
   ]
  },
  {
   "cell_type": "code",
   "execution_count": 4,
   "metadata": {},
   "outputs": [
    {
     "name": "stdout",
     "output_type": "stream",
     "text": [
      "6\n"
     ]
    }
   ],
   "source": [
    "volume = 0\n",
    "left = 0\n",
    "right = len(height) - 1\n",
    "left_max = height[left]\n",
    "right_max = height[right]\n",
    "\n",
    "while left < right:\n",
    "    left_max = max(height[left], left_max)\n",
    "    right_max = max(height[right], right_max)\n",
    "    \n",
    "    if left_max <= right_max:\n",
    "        volume += left_max - height[left]\n",
    "        left += 1\n",
    "    else:\n",
    "        volume += right_max - height[right]\n",
    "        right -= 1\n",
    "print(volume)"
   ]
  },
  {
   "cell_type": "code",
   "execution_count": 5,
   "metadata": {},
   "outputs": [],
   "source": [
    "def maxWater(arr, n) :\n",
    "     \n",
    "    # To store the maximum water \n",
    "    # that can be stored \n",
    "    res = 0; \n",
    "     \n",
    "    # For every element of the array \n",
    "    for i in range(1, n - 1) : \n",
    "         \n",
    "        # Find the maximum element on its left \n",
    "        left = arr[i]; \n",
    "        for j in range(i) :\n",
    "            left = max(left, arr[j]); \n",
    "         \n",
    "        # Find the maximum element on its right \n",
    "        right = arr[i]; \n",
    "         \n",
    "        for j in range(i + 1 , n) : \n",
    "            right = max(right, arr[j]);\n",
    "             \n",
    "        # Update the maximum water\n",
    "        res = res + (min(left, right) - arr[i]); \n",
    " \n",
    "    return res; \n"
   ]
  },
  {
   "cell_type": "code",
   "execution_count": 13,
   "metadata": {},
   "outputs": [
    {
     "name": "stdout",
     "output_type": "stream",
     "text": [
      "6\n"
     ]
    }
   ],
   "source": [
    "height = [0,1,0,2,1,0,1,3,2,1,2,1]\n",
    "volume = 0\n",
    "n = len(height)\n",
    "\n",
    "for i in range(1, n - 1):\n",
    "    \n",
    "    # Find the maximum element on its left\n",
    "    left = height[i]\n",
    "    for j in range(i):\n",
    "        left = max(left, height[j])\n",
    "        \n",
    "    right = height[i]\n",
    "    for j in range(i + 1, n):\n",
    "        right = max(right, height[j])\n",
    "    \n",
    "    #print(left, right)\n",
    "    volume = volume + (min(left, right) - height[i])\n",
    "    \n",
    "print(volume)\n",
    "    \n",
    "        "
   ]
  },
  {
   "cell_type": "code",
   "execution_count": 18,
   "metadata": {},
   "outputs": [
    {
     "data": {
      "text/plain": [
       "6"
      ]
     },
     "execution_count": 18,
     "metadata": {},
     "output_type": "execute_result"
    }
   ],
   "source": [
    "def my_solution(arr):\n",
    "    \n",
    "    total_water = 0\n",
    "    n = len(arr)\n",
    "    \n",
    "    for i in range(1, n):\n",
    "        \n",
    "        left = arr[i]\n",
    "        #left max\n",
    "        for j in range(i):\n",
    "            left = max(left, arr[j])\n",
    "        \n",
    "        right = arr[i]\n",
    "        #right max\n",
    "        for j in range(i + 1, n):\n",
    "            right = max(right, arr[j])\n",
    "    \n",
    "        total_water = total_water + (min(left, right) - arr[i])\n",
    "\n",
    "    return total_water\n",
    "height = [0,1,0,2,1,0,1,3,2,1,2,1]\n",
    "\n",
    "my_solution(height)"
   ]
  },
  {
   "cell_type": "code",
   "execution_count": null,
   "metadata": {},
   "outputs": [],
   "source": []
  }
 ],
 "metadata": {
  "kernelspec": {
   "display_name": "Python 3",
   "language": "python",
   "name": "python3"
  },
  "language_info": {
   "codemirror_mode": {
    "name": "ipython",
    "version": 3
   },
   "file_extension": ".py",
   "mimetype": "text/x-python",
   "name": "python",
   "nbconvert_exporter": "python",
   "pygments_lexer": "ipython3",
   "version": "3.7.6"
  }
 },
 "nbformat": 4,
 "nbformat_minor": 4
}
