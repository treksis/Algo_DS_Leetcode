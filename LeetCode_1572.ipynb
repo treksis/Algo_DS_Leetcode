{
 "cells": [
  {
   "cell_type": "code",
   "execution_count": 1,
   "metadata": {},
   "outputs": [
    {
     "data": {
      "text/plain": [
       "'\\nInput: mat = [[1,2,3],\\n              [4,5,6],\\n              [7,8,9]]\\nOutput: 25\\nExplanation: Diagonals sum: 1 + 5 + 9 + 3 + 7 = 25\\nNotice that element mat[1][1] = 5 is counted only once.\\n'"
      ]
     },
     "execution_count": 1,
     "metadata": {},
     "output_type": "execute_result"
    }
   ],
   "source": [
    "'''\n",
    "Input: mat = [[1,2,3],\n",
    "              [4,5,6],\n",
    "              [7,8,9]]\n",
    "Output: 25\n",
    "Explanation: Diagonals sum: 1 + 5 + 9 + 3 + 7 = 25\n",
    "Notice that element mat[1][1] = 5 is counted only once.\n",
    "\n",
    "Input: mat = [[1,1,1,1],\n",
    "              [1,1,1,1],\n",
    "              [1,1,1,1],\n",
    "              [1,1,1,1]]\n",
    "Output: 8\n",
    "\n",
    "mat = [1,1,1,1,1],\n",
    "      [1,1,1,1,1],\n",
    "      [1,1,1,1,1],\n",
    "      [1,1,1,1,1],\n",
    "      [1,1,1,1,1]\n",
    "      \n",
    "mat = [1,1,1,1,1,1],\n",
    "      [1,1,1,1,1,1],\n",
    "      [1,1,1,1,1,1],\n",
    "      [1,1,1,1,1,1],\n",
    "      [1,1,1,1,1,1],\n",
    "      [1,1,1,1,1,1]\n",
    "'''"
   ]
  },
  {
   "cell_type": "code",
   "execution_count": 61,
   "metadata": {},
   "outputs": [],
   "source": [
    "#mat = [[1,2,3], [4,5,6], [7,8,9]]\n",
    "# mat = [[1,1,1,1], [1,1,1,1], [1,1,1,1], [1,1,1,1]]"
   ]
  },
  {
   "cell_type": "code",
   "execution_count": 62,
   "metadata": {},
   "outputs": [
    {
     "name": "stdout",
     "output_type": "stream",
     "text": [
      "1\n",
      "5\n",
      "9\n",
      "7\n",
      "5\n",
      "3\n"
     ]
    }
   ],
   "source": [
    "mat = [[1,2,3], [4,5,6], [7,8,9]]\n",
    "#mat = [[1,1,1,1], [1,1,1,1], [1,1,1,1], [1,1,1,1]]\n",
    "for i in range(0, len(mat)):\n",
    "    print(mat[i][i])\n",
    "    \n",
    "mat.reverse()\n",
    "for j in range(0, len(mat[::-1])):\n",
    "    print(mat[j][j])"
   ]
  },
  {
   "cell_type": "code",
   "execution_count": null,
   "metadata": {},
   "outputs": [],
   "source": [
    "class Solution:\n",
    "    def diagonalSum(self, mat: List[List[int]]) -> int:\n",
    "        \n",
    "        n = len(mat)\n",
    "        \n",
    "        mid = n // 2\n",
    "        \n",
    "        summation = 0\n",
    "        \n",
    "        for i in range(n):\n",
    "            \n",
    "            # primary diagonal\n",
    "            summation += mat[i][i]\n",
    "            \n",
    "            # secondary diagonal\n",
    "            summation += mat[n-1-i][i]\n",
    "            \n",
    "            \n",
    "        if n % 2 == 1:\n",
    "            # remove center element (repeated) on odd side-length case\n",
    "            summation -= mat[mid][mid]\n",
    "            \n",
    "            \n",
    "        return summation"
   ]
  },
  {
   "cell_type": "code",
   "execution_count": 71,
   "metadata": {},
   "outputs": [
    {
     "name": "stdout",
     "output_type": "stream",
     "text": [
      "original 1\n",
      "other 7\n",
      "original 5\n",
      "other 5\n",
      "original 9\n",
      "other 3\n",
      "5\n"
     ]
    }
   ],
   "source": [
    "mat = [[1,2,3], \n",
    "       [4,5,6],\n",
    "       [7,8,9]]\n",
    "\n",
    "n = len(mat)\n",
    "original = 0\n",
    "other = 0\n",
    "mid = n // 2\n",
    "\n",
    "for i in range(n):\n",
    "    \n",
    "    #original diagonal\n",
    "    original = original + mat[i][i]\n",
    "    print('original', mat[i][i])\n",
    "    \n",
    "    #another digonal\n",
    "    other = other + mat[n-1-i][i]\n",
    "    print('other', mat[n-1-i][i])\n",
    "    \n",
    "if n % 2 == 1:\n",
    "    print(mat[mid][mid])"
   ]
  },
  {
   "cell_type": "code",
   "execution_count": 74,
   "metadata": {},
   "outputs": [
    {
     "data": {
      "text/plain": [
       "'\\nclass Solution:\\n    def diagonalSum(self, mat: List[List[int]]) -> int:\\n        n = len(mat)\\n        original = 0\\n        other = 0\\n        mid = n // 2\\n        mid_val = 0\\n        \\n        for i in range(n):\\n            \\n            original = original + mat[i][i]\\n            other = other + mat[n-1-i][i]\\n            \\n        if n % 2 == 1:\\n            mid_val = mat[mid][mid]\\n        \\n        return original + other - mid_val\\n'"
      ]
     },
     "execution_count": 74,
     "metadata": {},
     "output_type": "execute_result"
    }
   ],
   "source": [
    "'''\n",
    "class Solution:\n",
    "    def diagonalSum(self, mat: List[List[int]]) -> int:\n",
    "        n = len(mat)\n",
    "        original = 0\n",
    "        other = 0\n",
    "        mid = n // 2\n",
    "        mid_val = 0\n",
    "        \n",
    "        for i in range(n):\n",
    "            \n",
    "            original = original + mat[i][i]\n",
    "            other = other + mat[n-1-i][i]\n",
    "            \n",
    "        if n % 2 == 1:\n",
    "            mid_val = mat[mid][mid]\n",
    "        \n",
    "        return original + other - mid_val\n",
    "'''"
   ]
  },
  {
   "cell_type": "code",
   "execution_count": null,
   "metadata": {},
   "outputs": [],
   "source": []
  }
 ],
 "metadata": {
  "kernelspec": {
   "display_name": "Python 3",
   "language": "python",
   "name": "python3"
  },
  "language_info": {
   "codemirror_mode": {
    "name": "ipython",
    "version": 3
   },
   "file_extension": ".py",
   "mimetype": "text/x-python",
   "name": "python",
   "nbconvert_exporter": "python",
   "pygments_lexer": "ipython3",
   "version": "3.7.6"
  }
 },
 "nbformat": 4,
 "nbformat_minor": 4
}
