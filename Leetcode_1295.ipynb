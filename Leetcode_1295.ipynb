{
 "cells": [
  {
   "cell_type": "code",
   "execution_count": 11,
   "metadata": {},
   "outputs": [
    {
     "name": "stdout",
     "output_type": "stream",
     "text": [
      "1\n"
     ]
    }
   ],
   "source": [
    "#nums = [12, 345, 2, 6, 7896]\n",
    "\n",
    "# 12 contains 2 digits (even)\n",
    "# 345 contains 3 digits (odd)\n",
    "# 2 contains 1 digit (odd)\n",
    "# 6 contains 1 digit (odd)\n",
    "# 7895 contains 4 digit (even)\n",
    "\n",
    "# 12 and 7895 got even number of digits, therefore the output is 2\n",
    "\n",
    "nums = [555, 901, 482, 1771]\n",
    "# 555 contains 3 digits (odd)\n",
    "# 901 contains 3 digits (odd)\n",
    "# 482 contains 3 digits (odd)\n",
    "# 1771 contains 4 digits (even)\n",
    "\n",
    "# 1771 got even number of digits, therefore the output is 1\n",
    "\n",
    "len_lst = []\n",
    "\n",
    "for num in nums:\n",
    "    len_lst.append(len(str(num)))\n",
    "\n",
    "count = 0\n",
    "\n",
    "for i in len_lst:\n",
    "    if i%2 == 0:\n",
    "        count += 1\n",
    "print(count)"
   ]
  },
  {
   "cell_type": "code",
   "execution_count": 1,
   "metadata": {},
   "outputs": [
    {
     "data": {
      "text/plain": [
       "1"
      ]
     },
     "execution_count": 1,
     "metadata": {},
     "output_type": "execute_result"
    }
   ],
   "source": [
    "5%2"
   ]
  },
  {
   "cell_type": "code",
   "execution_count": 2,
   "metadata": {},
   "outputs": [
    {
     "data": {
      "text/plain": [
       "0"
      ]
     },
     "execution_count": 2,
     "metadata": {},
     "output_type": "execute_result"
    }
   ],
   "source": [
    "4%2"
   ]
  },
  {
   "cell_type": "code",
   "execution_count": null,
   "metadata": {},
   "outputs": [],
   "source": []
  },
  {
   "cell_type": "code",
   "execution_count": null,
   "metadata": {},
   "outputs": [],
   "source": []
  }
 ],
 "metadata": {
  "kernelspec": {
   "display_name": "Python 3",
   "language": "python",
   "name": "python3"
  },
  "language_info": {
   "codemirror_mode": {
    "name": "ipython",
    "version": 3
   },
   "file_extension": ".py",
   "mimetype": "text/x-python",
   "name": "python",
   "nbconvert_exporter": "python",
   "pygments_lexer": "ipython3",
   "version": "3.7.6"
  }
 },
 "nbformat": 4,
 "nbformat_minor": 4
}
