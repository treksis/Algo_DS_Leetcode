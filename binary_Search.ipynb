{
 "cells": [
  {
   "cell_type": "code",
   "execution_count": 5,
   "metadata": {},
   "outputs": [
    {
     "name": "stdout",
     "output_type": "stream",
     "text": [
      "8\n"
     ]
    }
   ],
   "source": [
    "def binary_search(sequence, item):\n",
    "    begin_index = 0\n",
    "    end_index = len(sequence) - 1\n",
    "    \n",
    "    while begin_index <= end_index:\n",
    "        midpoint = begin_index + (end_index - begin_index) // 2\n",
    "        midpoint_value = sequence[midpoint]\n",
    "        if midpoint_value == item:\n",
    "            return midpoint\n",
    "        \n",
    "        elif item < midpoint_value:\n",
    "            end_index = midpoint - 1\n",
    "            \n",
    "        else:\n",
    "            begin_index = midpoint + 1\n",
    "    \n",
    "    return None\n",
    "\n",
    "sequence_a = [2,4,5,6,7,8,9,10,12,13,14]\n",
    "item_a = 12\n",
    "\n",
    "print(binary_search(sequence_a, item_a))\n",
    "\n",
    "\n",
    "        "
   ]
  },
  {
   "cell_type": "code",
   "execution_count": 6,
   "metadata": {},
   "outputs": [
    {
     "name": "stdout",
     "output_type": "stream",
     "text": [
      "None\n"
     ]
    }
   ],
   "source": [
    "def binary_search(sequence, item):\n",
    "    begin_index = 0\n",
    "    end_index = len(sequence) - 1\n",
    "    \n",
    "    while begin_index <= end_index:\n",
    "        \n",
    "        midpoint = begin_index + (end_index - begin_index)//2\n",
    "        midpoint_value = sequence[midpoint]\n",
    "        \n",
    "        if midpoint_value == item:\n",
    "            return midpoint\n",
    "        elif item < midpoint_value:\n",
    "            end_index = midpoint - 1\n",
    "        else:\n",
    "            begin_index = midpoint + 1\n",
    "            \n",
    "    return None\n",
    "\n",
    "sequence_a = [2,4,5,6,7,8,9,10,12,13,14]\n",
    "item_a = 11\n",
    "\n",
    "print(binary_search(sequence_a, item_a))\n"
   ]
  },
  {
   "cell_type": "code",
   "execution_count": 11,
   "metadata": {},
   "outputs": [
    {
     "name": "stdout",
     "output_type": "stream",
     "text": [
      "1\n"
     ]
    }
   ],
   "source": [
    "def binary_search(sequence, item):\n",
    "    \n",
    "    start_index = 0\n",
    "    finish_index = len(sequence) - 1\n",
    "    \n",
    "    while start_index <= finish_index:\n",
    "        \n",
    "        mid_point = start_index + (finish_index - start_index) // 2\n",
    "        mid_point_value = sequence[mid_point]\n",
    "        \n",
    "        if item == mid_point_value:\n",
    "            return mid_point\n",
    "        \n",
    "        elif item < mid_point_value:\n",
    "            finish_index = mid_point - 1\n",
    "            \n",
    "        else:\n",
    "            start_index = mid_point + 1\n",
    "            \n",
    "    return None\n",
    "\n",
    "sequence_a = [2,4,5,6,7,   8,9,10,12,13,14]\n",
    "item_a = 4\n",
    "\n",
    "print(binary_search(sequence_a, item_a))"
   ]
  },
  {
   "cell_type": "code",
   "execution_count": 18,
   "metadata": {},
   "outputs": [
    {
     "name": "stdout",
     "output_type": "stream",
     "text": [
      "5\n",
      "2\n",
      "[1, 4, 5, 5, 5]\n"
     ]
    }
   ],
   "source": [
    "lst = [4,5,5,5,1]\n",
    "n = len(lst)\n",
    "half_n = n // 2\n",
    "lst.sort()\n",
    "print(n)\n",
    "print(half_n)\n",
    "print(lst)\n"
   ]
  },
  {
   "cell_type": "code",
   "execution_count": null,
   "metadata": {},
   "outputs": [],
   "source": []
  }
 ],
 "metadata": {
  "kernelspec": {
   "display_name": "Python 3",
   "language": "python",
   "name": "python3"
  },
  "language_info": {
   "codemirror_mode": {
    "name": "ipython",
    "version": 3
   },
   "file_extension": ".py",
   "mimetype": "text/x-python",
   "name": "python",
   "nbconvert_exporter": "python",
   "pygments_lexer": "ipython3",
   "version": "3.7.1"
  }
 },
 "nbformat": 4,
 "nbformat_minor": 4
}
