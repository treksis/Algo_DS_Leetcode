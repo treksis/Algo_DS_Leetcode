{
 "cells": [
  {
   "cell_type": "code",
   "execution_count": 14,
   "metadata": {},
   "outputs": [
    {
     "data": {
      "text/plain": [
       "'\\nclass Solution(object):\\n    def mergeTwoLists(self, l1, l2):\\n        cur = listNode(0)\\n        ans = cur\\n        \\n        while (l1 and l2):\\n            if l1.val > l2.val:\\n                cur.next = l2\\n                l2 = l2.next\\n            else:\\n                cur.next = l1\\n                l1 = l1.next\\n                \\n            cur = cur.next\\n            \\n        while l1:\\n            cur.next = l1\\n            l1 = l1.next\\n            cur = cur.next\\n            \\n        while l2:\\n            cur.next = l2\\n            l2 = l2.next\\n            cur = cur.next\\n            \\n        return ans.next     \\n'"
      ]
     },
     "execution_count": 14,
     "metadata": {},
     "output_type": "execute_result"
    }
   ],
   "source": [
    "class ListNode(object):\n",
    "    def __init__(self, val = 0, next = None):\n",
    "        self.val = val\n",
    "        self.next = next\n",
    "\n",
    "class Soltion(object):\n",
    "    def mergeTwoLists(self, l1, l2):\n",
    "        cur = ListNode(0)\n",
    "        ans = cur\n",
    "        \n",
    "        while l1 and l2:\n",
    "            if l1.val > l2.val:\n",
    "                cur.next = l2\n",
    "                l2 = l2.next\n",
    "            else:\n",
    "                cur.next = l1\n",
    "                l1 = l1.next\n",
    "                \n",
    "            cur = cur.next\n",
    "            \n",
    "        while l1:\n",
    "            cur.next = l1\n",
    "            l1 = l1.next\n",
    "            cur = cur.next\n",
    "            \n",
    "        while l2:\n",
    "            cur.next = l2\n",
    "            l2 = l2.next\n",
    "            cur = cur.next\n",
    "        \n",
    "        return ans.next\n",
    "        \n",
    "'''\n",
    "class Solution(object):\n",
    "    def mergeTwoLists(self, l1, l2):\n",
    "        cur = listNode(0)\n",
    "        ans = cur\n",
    "        \n",
    "        while (l1 and l2):\n",
    "            if l1.val > l2.val:\n",
    "                cur.next = l2\n",
    "                l2 = l2.next\n",
    "            else:\n",
    "                cur.next = l1\n",
    "                l1 = l1.next\n",
    "                \n",
    "            cur = cur.next\n",
    "            \n",
    "        while l1:\n",
    "            cur.next = l1\n",
    "            l1 = l1.next\n",
    "            cur = cur.next\n",
    "            \n",
    "        while l2:\n",
    "            cur.next = l2\n",
    "            l2 = l2.next\n",
    "            cur = cur.next\n",
    "            \n",
    "        return ans.next     \n",
    "'''"
   ]
  },
  {
   "cell_type": "code",
   "execution_count": 15,
   "metadata": {},
   "outputs": [
    {
     "name": "stdout",
     "output_type": "stream",
     "text": [
      "1\n",
      "1\n",
      "2\n",
      "3\n",
      "4\n",
      "4\n"
     ]
    }
   ],
   "source": [
    "s = Solution()\n",
    "l1_1 = ListNode(1)\n",
    "l1_2 = ListNode(2)\n",
    "l1_4 = ListNode(4)\n",
    "\n",
    "l1_1.next = l1_2\n",
    "l1_2.next = l1_4\n",
    "\n",
    "#l1: 1->2->4\n",
    "\n",
    "l2_1 = ListNode(1)\n",
    "l2_3 = ListNode(3)\n",
    "l2_4 = ListNode(4)\n",
    "\n",
    "l2_1.next = l2_3\n",
    "l2_3.next = l2_4\n",
    "\n",
    "answer = s.mergeTwoLists(l1_1, l2_1)\n",
    "#print(answer)\n",
    "\n",
    "while(answer != None):\n",
    "    print(answer.val)\n",
    "    answer = answer.next"
   ]
  },
  {
   "cell_type": "code",
   "execution_count": null,
   "metadata": {},
   "outputs": [],
   "source": []
  },
  {
   "cell_type": "code",
   "execution_count": null,
   "metadata": {},
   "outputs": [],
   "source": []
  }
 ],
 "metadata": {
  "kernelspec": {
   "display_name": "Python 3",
   "language": "python",
   "name": "python3"
  },
  "language_info": {
   "codemirror_mode": {
    "name": "ipython",
    "version": 3
   },
   "file_extension": ".py",
   "mimetype": "text/x-python",
   "name": "python",
   "nbconvert_exporter": "python",
   "pygments_lexer": "ipython3",
   "version": "3.7.6"
  }
 },
 "nbformat": 4,
 "nbformat_minor": 4
}
