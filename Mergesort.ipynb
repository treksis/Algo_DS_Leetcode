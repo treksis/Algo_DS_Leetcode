{
 "cells": [
  {
   "cell_type": "code",
   "execution_count": 10,
   "metadata": {},
   "outputs": [
    {
     "name": "stdout",
     "output_type": "stream",
     "text": [
      "[84, 21, 96, 15, 47]\n",
      "[15, 21, 47, 84, 96]\n"
     ]
    }
   ],
   "source": [
    "def mergesort(A):\n",
    "    \n",
    "    if len(A) > 1:\n",
    "        mid = len(A) // 2\n",
    "        left = A[:mid]\n",
    "        right = A[mid:]\n",
    "        \n",
    "        mergesort(left)\n",
    "        mergesort(right)\n",
    "        \n",
    "        i = 0\n",
    "        j = 0\n",
    "        k = 0\n",
    "        \n",
    "        while i < len(left) and j <len(right):\n",
    "            if left[i] < right[j]:\n",
    "                A[k] = left[i]\n",
    "                i = i + 1\n",
    "            \n",
    "            else:\n",
    "                A[k] = right[j]\n",
    "                j = j + 1\n",
    "            k = k + 1\n",
    "            \n",
    "        while i < len(left):\n",
    "            A[k] = left[i]\n",
    "            i = i + 1\n",
    "            k = k + 1\n",
    "            \n",
    "        while j < len(right):\n",
    "            A[k] = right[j]\n",
    "            j = j + 1\n",
    "            k = k + 1\n",
    "            \n",
    "A = [84, 21, 96 ,15, 47]\n",
    "print(A)\n",
    "mergesort(A)\n",
    "print(A)\n"
   ]
  },
  {
   "cell_type": "code",
   "execution_count": 13,
   "metadata": {},
   "outputs": [
    {
     "ename": "TypeError",
     "evalue": "'type' object does not support item assignment",
     "output_type": "error",
     "traceback": [
      "\u001b[1;31m---------------------------------------------------------------------------\u001b[0m",
      "\u001b[1;31mTypeError\u001b[0m                                 Traceback (most recent call last)",
      "\u001b[1;32m<ipython-input-13-089adf50b346>\u001b[0m in \u001b[0;36m<module>\u001b[1;34m\u001b[0m\n\u001b[0;32m     32\u001b[0m \u001b[1;33m\u001b[0m\u001b[0m\n\u001b[0;32m     33\u001b[0m \u001b[0mlist1\u001b[0m \u001b[1;33m=\u001b[0m \u001b[1;33m[\u001b[0m\u001b[1;36m20\u001b[0m \u001b[1;33m,\u001b[0m \u001b[1;36m1\u001b[0m\u001b[1;33m,\u001b[0m \u001b[1;36m5\u001b[0m \u001b[1;33m,\u001b[0m\u001b[1;36m40\u001b[0m \u001b[1;33m,\u001b[0m \u001b[1;36m50\u001b[0m\u001b[1;33m]\u001b[0m\u001b[1;33m\u001b[0m\u001b[1;33m\u001b[0m\u001b[0m\n\u001b[1;32m---> 34\u001b[1;33m \u001b[0mmergesort\u001b[0m\u001b[1;33m(\u001b[0m\u001b[0mlist1\u001b[0m\u001b[1;33m)\u001b[0m\u001b[1;33m\u001b[0m\u001b[1;33m\u001b[0m\u001b[0m\n\u001b[0m\u001b[0;32m     35\u001b[0m \u001b[0mprint\u001b[0m\u001b[1;33m(\u001b[0m\u001b[0mlist1\u001b[0m\u001b[1;33m)\u001b[0m\u001b[1;33m\u001b[0m\u001b[1;33m\u001b[0m\u001b[0m\n\u001b[0;32m     36\u001b[0m \u001b[1;33m\u001b[0m\u001b[0m\n",
      "\u001b[1;32m<ipython-input-13-089adf50b346>\u001b[0m in \u001b[0;36mmergesort\u001b[1;34m(list1)\u001b[0m\n\u001b[0;32m      4\u001b[0m         \u001b[0mleft_list\u001b[0m \u001b[1;33m=\u001b[0m \u001b[0mlist1\u001b[0m\u001b[1;33m[\u001b[0m\u001b[1;33m:\u001b[0m\u001b[0mmid\u001b[0m\u001b[1;33m]\u001b[0m\u001b[1;33m\u001b[0m\u001b[1;33m\u001b[0m\u001b[0m\n\u001b[0;32m      5\u001b[0m         \u001b[0mright_list\u001b[0m \u001b[1;33m=\u001b[0m \u001b[0mlist1\u001b[0m\u001b[1;33m[\u001b[0m\u001b[0mmid\u001b[0m\u001b[1;33m:\u001b[0m\u001b[1;33m]\u001b[0m\u001b[1;33m\u001b[0m\u001b[1;33m\u001b[0m\u001b[0m\n\u001b[1;32m----> 6\u001b[1;33m         \u001b[0mmergesort\u001b[0m\u001b[1;33m(\u001b[0m\u001b[0mleft_list\u001b[0m\u001b[1;33m)\u001b[0m\u001b[1;33m\u001b[0m\u001b[1;33m\u001b[0m\u001b[0m\n\u001b[0m\u001b[0;32m      7\u001b[0m         \u001b[0mmergesort\u001b[0m\u001b[1;33m(\u001b[0m\u001b[0mright_list\u001b[0m\u001b[1;33m)\u001b[0m\u001b[1;33m\u001b[0m\u001b[1;33m\u001b[0m\u001b[0m\n\u001b[0;32m      8\u001b[0m \u001b[1;33m\u001b[0m\u001b[0m\n",
      "\u001b[1;32m<ipython-input-13-089adf50b346>\u001b[0m in \u001b[0;36mmergesort\u001b[1;34m(list1)\u001b[0m\n\u001b[0;32m     17\u001b[0m                     \u001b[0mk\u001b[0m \u001b[1;33m=\u001b[0m \u001b[0mk\u001b[0m \u001b[1;33m+\u001b[0m \u001b[1;36m1\u001b[0m\u001b[1;33m\u001b[0m\u001b[1;33m\u001b[0m\u001b[0m\n\u001b[0;32m     18\u001b[0m                 \u001b[1;32melse\u001b[0m\u001b[1;33m:\u001b[0m\u001b[1;33m\u001b[0m\u001b[1;33m\u001b[0m\u001b[0m\n\u001b[1;32m---> 19\u001b[1;33m                     \u001b[0mlist\u001b[0m\u001b[1;33m[\u001b[0m\u001b[0mk\u001b[0m\u001b[1;33m]\u001b[0m \u001b[1;33m=\u001b[0m \u001b[0mright_list\u001b[0m\u001b[1;33m[\u001b[0m\u001b[0mj\u001b[0m\u001b[1;33m]\u001b[0m\u001b[1;33m\u001b[0m\u001b[1;33m\u001b[0m\u001b[0m\n\u001b[0m\u001b[0;32m     20\u001b[0m                     \u001b[0mj\u001b[0m \u001b[1;33m=\u001b[0m \u001b[0mj\u001b[0m \u001b[1;33m+\u001b[0m \u001b[1;36m1\u001b[0m\u001b[1;33m\u001b[0m\u001b[1;33m\u001b[0m\u001b[0m\n\u001b[0;32m     21\u001b[0m                     \u001b[0mk\u001b[0m \u001b[1;33m=\u001b[0m \u001b[0mk\u001b[0m \u001b[1;33m+\u001b[0m \u001b[1;36m1\u001b[0m\u001b[1;33m\u001b[0m\u001b[1;33m\u001b[0m\u001b[0m\n",
      "\u001b[1;31mTypeError\u001b[0m: 'type' object does not support item assignment"
     ]
    }
   ],
   "source": [
    "def mergesort(list1):\n",
    "    if len(list1) > 1:\n",
    "        mid = len(list1) // 2\n",
    "        left_list = list1[:mid]\n",
    "        right_list = list1[mid:]\n",
    "        mergesort(left_list)\n",
    "        mergesort(right_list)\n",
    "        \n",
    "        i = 0\n",
    "        j = 0\n",
    "        k = 0\n",
    "        \n",
    "        while i < len(left_list) and j < len(right_list):\n",
    "                if left_list[i] < right_list[j]:\n",
    "                    list1[k] = left_list[i]\n",
    "                    i = i + 1\n",
    "                    k = k + 1\n",
    "                else:\n",
    "                    list[k] = right_list[j]\n",
    "                    j = j + 1\n",
    "                    k = k + 1\n",
    "                    \n",
    "        while i < len(left_list):\n",
    "            list1[k] = left_list[i]\n",
    "            i = i + 1\n",
    "            k = k + 1\n",
    "        \n",
    "        while j < len(right_list):\n",
    "            list1[k] = right_list[j]\n",
    "            j = j + 1\n",
    "            k = k + 1\n",
    "\n",
    "list1 = [20 , 1, 5 ,40 , 50]\n",
    "mergesort(list1)\n",
    "print(list1)\n",
    "            \n",
    "        \n",
    "        \n",
    "        "
   ]
  },
  {
   "cell_type": "code",
   "execution_count": null,
   "metadata": {},
   "outputs": [],
   "source": []
  }
 ],
 "metadata": {
  "kernelspec": {
   "display_name": "Python 3",
   "language": "python",
   "name": "python3"
  },
  "language_info": {
   "codemirror_mode": {
    "name": "ipython",
    "version": 3
   },
   "file_extension": ".py",
   "mimetype": "text/x-python",
   "name": "python",
   "nbconvert_exporter": "python",
   "pygments_lexer": "ipython3",
   "version": "3.7.1"
  }
 },
 "nbformat": 4,
 "nbformat_minor": 4
}
