{
 "cells": [
  {
   "cell_type": "code",
   "execution_count": 28,
   "metadata": {},
   "outputs": [],
   "source": [
    "A = [4,2,5,7]"
   ]
  },
  {
   "cell_type": "code",
   "execution_count": 57,
   "metadata": {},
   "outputs": [
    {
     "name": "stdout",
     "output_type": "stream",
     "text": [
      "[4, 2] [5, 7]\n",
      "[4, 5, 2, 7]\n"
     ]
    }
   ],
   "source": [
    "odd = []\n",
    "even = []\n",
    "for i in range(0, len(A)):\n",
    "    if A[i] % 2 == 0:\n",
    "        even.append(A[i])\n",
    "    elif A[i] % 2 == 1:\n",
    "        odd.append(A[i])\n",
    "        \n",
    "print(even, odd)\n",
    "k = [list(k) for k in zip(even, odd)]\n",
    "res = []\n",
    "for j in k:\n",
    "    res = res + j\n",
    "print(res)"
   ]
  },
  {
   "cell_type": "code",
   "execution_count": null,
   "metadata": {},
   "outputs": [],
   "source": [
    "'''\n",
    "class Solution:\n",
    "    def sortArrayByParityII(self, A: List[int]) -> List[int]:\n",
    "        even, odd = 0, 1\n",
    "        while even < len(A) and odd < len(A):\n",
    "            if A[even] % 2 == 0: even += 2\n",
    "            elif A[odd] % 2 == 1: odd += 2\n",
    "            else: A[even], A[odd] = A[odd], A[even]\n",
    "        return A\n",
    "'''"
   ]
  },
  {
   "cell_type": "code",
   "execution_count": 58,
   "metadata": {},
   "outputs": [
    {
     "name": "stdout",
     "output_type": "stream",
     "text": [
      "[4, 5, 2, 7]\n"
     ]
    }
   ],
   "source": [
    "A = [4,2,5,7]\n",
    "even = 0\n",
    "odd = 1\n",
    "\n",
    "while even < len(A) and odd < len(A):\n",
    "    \n",
    "    if A[even] % 2 == 0:\n",
    "        even += 2\n",
    "    elif A[odd] % 2 == 1:\n",
    "        odd += 2\n",
    "    else:\n",
    "        A[even], A[odd] = A[odd], A[even]\n",
    "print(A)"
   ]
  },
  {
   "cell_type": "code",
   "execution_count": null,
   "metadata": {},
   "outputs": [],
   "source": []
  }
 ],
 "metadata": {
  "kernelspec": {
   "display_name": "Python 3",
   "language": "python",
   "name": "python3"
  },
  "language_info": {
   "codemirror_mode": {
    "name": "ipython",
    "version": 3
   },
   "file_extension": ".py",
   "mimetype": "text/x-python",
   "name": "python",
   "nbconvert_exporter": "python",
   "pygments_lexer": "ipython3",
   "version": "3.7.6"
  }
 },
 "nbformat": 4,
 "nbformat_minor": 4
}
