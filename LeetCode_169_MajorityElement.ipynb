{
 "cells": [
  {
   "cell_type": "code",
   "execution_count": 1,
   "metadata": {},
   "outputs": [
    {
     "data": {
      "text/plain": [
       "2"
      ]
     },
     "execution_count": 1,
     "metadata": {},
     "output_type": "execute_result"
    }
   ],
   "source": [
    "5//2"
   ]
  },
  {
   "cell_type": "code",
   "execution_count": 2,
   "metadata": {},
   "outputs": [
    {
     "data": {
      "text/plain": [
       "3"
      ]
     },
     "execution_count": 2,
     "metadata": {},
     "output_type": "execute_result"
    }
   ],
   "source": [
    "7//2"
   ]
  },
  {
   "cell_type": "code",
   "execution_count": 3,
   "metadata": {},
   "outputs": [
    {
     "data": {
      "text/plain": [
       "5"
      ]
     },
     "execution_count": 3,
     "metadata": {},
     "output_type": "execute_result"
    }
   ],
   "source": [
    "10//2"
   ]
  },
  {
   "cell_type": "code",
   "execution_count": 40,
   "metadata": {},
   "outputs": [
    {
     "name": "stdout",
     "output_type": "stream",
     "text": [
      "2\n"
     ]
    }
   ],
   "source": [
    "nums = [2,2,1,1,1,2,2]\n",
    "m = len(nums) // 2\n",
    "\n",
    "d = {}\n",
    "\n",
    "for i in nums:\n",
    "    if i in d:\n",
    "        d[i] = d[i] + 1\n",
    "    else:\n",
    "        d[i] = 1\n",
    "\n",
    "for k, v in d.items():\n",
    "    if v > m:\n",
    "        print(k)"
   ]
  },
  {
   "cell_type": "code",
   "execution_count": 14,
   "metadata": {},
   "outputs": [
    {
     "data": {
      "text/plain": [
       "{2: 4, 1: 3}"
      ]
     },
     "execution_count": 14,
     "metadata": {},
     "output_type": "execute_result"
    }
   ],
   "source": [
    "def occurDict(items):\n",
    "    d = {}\n",
    "    for i in items:\n",
    "        if i in d:\n",
    "            d[i] = d[i]+1\n",
    "        else:\n",
    "            d[i] = 1\n",
    "    return d\n",
    "\n",
    "occurDict(nums)"
   ]
  },
  {
   "cell_type": "code",
   "execution_count": 39,
   "metadata": {},
   "outputs": [
    {
     "name": "stdout",
     "output_type": "stream",
     "text": [
      "2\n"
     ]
    }
   ],
   "source": [
    "n = len(nums)\n",
    "d = {}\n",
    "\n",
    "nums = [2,2,1,1,1,2,2]\n",
    "\n",
    "for num in nums:\n",
    "    d[num] = d.get(num, 0) + 1\n",
    "#print(d)\n",
    "    if d[num] > n / 2:\n",
    "        print(num)\n"
   ]
  },
  {
   "cell_type": "code",
   "execution_count": 44,
   "metadata": {},
   "outputs": [
    {
     "name": "stdout",
     "output_type": "stream",
     "text": [
      "{2: 4, 1: 3, 0: 2, 8: 1}\n"
     ]
    }
   ],
   "source": [
    "'''\n",
    "How to make my own dictionary without using DAMN LIST WTF COMPREHENSION\n",
    "'''\n",
    "\n",
    "nums = [2,2,1,1,1,2,2,0,0,8]\n",
    "m = len(nums) // 2\n",
    "\n",
    "# Create an empty dictionary\n",
    "d = {}\n",
    "\n",
    "for i in nums:\n",
    "    # If there is overlapping number, then increment the value\n",
    "    if i in d:\n",
    "        d[i] = d[i] + 1\n",
    "    #If not then it's just one\n",
    "    else:\n",
    "        d[i] = 1\n",
    "print(d)"
   ]
  },
  {
   "cell_type": "code",
   "execution_count": 45,
   "metadata": {},
   "outputs": [
    {
     "name": "stdout",
     "output_type": "stream",
     "text": [
      "{2: 4, 1: 3, 0: 2, 8: 1}\n"
     ]
    }
   ],
   "source": [
    "dic = {}\n",
    "for num in nums:\n",
    "    if num in dic:\n",
    "        dic[num] = dic[num] + 1\n",
    "    else:\n",
    "        dic[num] = 1\n",
    "print(dic)"
   ]
  },
  {
   "cell_type": "code",
   "execution_count": 46,
   "metadata": {},
   "outputs": [
    {
     "name": "stdout",
     "output_type": "stream",
     "text": [
      "{2: 4, 1: 3, 0: 2, 8: 1}\n"
     ]
    }
   ],
   "source": [
    "my_dic = {}\n",
    "\n",
    "for num in nums:\n",
    "    if num in my_dic:\n",
    "        my_dic[num] = my_dic[num] + 1\n",
    "    else:\n",
    "        my_dic[num] = 1\n",
    "print(my_dic)"
   ]
  },
  {
   "cell_type": "code",
   "execution_count": null,
   "metadata": {},
   "outputs": [],
   "source": []
  }
 ],
 "metadata": {
  "kernelspec": {
   "display_name": "Python 3",
   "language": "python",
   "name": "python3"
  },
  "language_info": {
   "codemirror_mode": {
    "name": "ipython",
    "version": 3
   },
   "file_extension": ".py",
   "mimetype": "text/x-python",
   "name": "python",
   "nbconvert_exporter": "python",
   "pygments_lexer": "ipython3",
   "version": "3.7.6"
  }
 },
 "nbformat": 4,
 "nbformat_minor": 4
}
