{
 "cells": [
  {
   "cell_type": "code",
   "execution_count": 2,
   "metadata": {},
   "outputs": [
    {
     "data": {
      "text/plain": [
       "'\\nExample 1:\\n\\nInput: [1,2,2,3]\\nOutput: true\\nExample 2:\\n\\nInput: [6,5,4,4]\\nOutput: true\\nExample 3:\\n\\nInput: [1,3,2]\\nOutput: false\\n\\n\\nclass Solution:\\n    def isMonotonic(self, A: List[int]) -> bool:\\n        \\n        increase = True\\n        decrease = True\\n        \\n        for i in range(len(A)-1):\\n            \\n            if A[i] > A[i+1]:\\n                increase = False\\n                \\n            if A[i] < A[i+1]:\\n                decrease = False\\n                \\n        return increase or decrease\\n'"
      ]
     },
     "execution_count": 2,
     "metadata": {},
     "output_type": "execute_result"
    }
   ],
   "source": [
    "'''\n",
    "Example 1:\n",
    "\n",
    "Input: [1,2,2,3]\n",
    "Output: true\n",
    "Example 2:\n",
    "\n",
    "Input: [6,5,4,4]\n",
    "Output: true\n",
    "Example 3:\n",
    "\n",
    "Input: [1,3,2]\n",
    "Output: false\n",
    "\n",
    "\n",
    "class Solution:\n",
    "    def isMonotonic(self, A: List[int]) -> bool:\n",
    "        \n",
    "        increase = True\n",
    "        decrease = True\n",
    "        \n",
    "        for i in range(len(A)-1):\n",
    "            \n",
    "            if A[i] > A[i+1]:\n",
    "                increase = False\n",
    "                \n",
    "            if A[i] < A[i+1]:\n",
    "                decrease = False\n",
    "                \n",
    "        return increase or decrease\n",
    "'''"
   ]
  },
  {
   "cell_type": "code",
   "execution_count": 3,
   "metadata": {},
   "outputs": [
    {
     "name": "stdout",
     "output_type": "stream",
     "text": [
      "increasing\n",
      "increasing\n"
     ]
    }
   ],
   "source": [
    "A = [1, 2, 2, 3]\n",
    "for i in range(len(A) - 1):\n",
    "    if A[i] > A[i + 1]:\n",
    "        print('decreasing')\n",
    "    if A[i] < A[i + 1]:\n",
    "        print('increasing')"
   ]
  },
  {
   "cell_type": "code",
   "execution_count": null,
   "metadata": {},
   "outputs": [],
   "source": []
  }
 ],
 "metadata": {
  "kernelspec": {
   "display_name": "Python 3",
   "language": "python",
   "name": "python3"
  },
  "language_info": {
   "codemirror_mode": {
    "name": "ipython",
    "version": 3
   },
   "file_extension": ".py",
   "mimetype": "text/x-python",
   "name": "python",
   "nbconvert_exporter": "python",
   "pygments_lexer": "ipython3",
   "version": "3.7.6"
  }
 },
 "nbformat": 4,
 "nbformat_minor": 4
}
