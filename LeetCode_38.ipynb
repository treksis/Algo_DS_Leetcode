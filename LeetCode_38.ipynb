{
 "cells": [
  {
   "cell_type": "code",
   "execution_count": 1,
   "metadata": {},
   "outputs": [],
   "source": [
    "# Returns n'th term in \n",
    "# look-and-say sequence \n",
    "def countnndSay(n): \n",
    "      \n",
    "    # Base cases \n",
    "    if (n == 1): \n",
    "        return \"1\"\n",
    "    if (n == 2): \n",
    "        return \"11\"\n",
    "  \n",
    "    # Find n'th term by generating  \n",
    "    # all terms from 3 to n-1.  \n",
    "    # Every term is generated using \n",
    "    # previous term \n",
    "      \n",
    "    # Initialize previous term \n",
    "    s = \"11\" \n",
    "    for i in range(3, n + 1): \n",
    "          \n",
    "        # In below for loop,  \n",
    "        # previous character is  \n",
    "        # processed in current  \n",
    "        # iteration. That is why \n",
    "        # a dummy character is  \n",
    "        # added to make sure that  \n",
    "        # loop runs one extra iteration. \n",
    "        s += '$'\n",
    "        l = len(s) \n",
    "  \n",
    "        cnt = 1 # Initialize count  \n",
    "                # of matching chars \n",
    "        tmp = \"\" # Initialize i'th  \n",
    "                 # term in series \n",
    "  \n",
    "        # Process previous term to \n",
    "        # find the next term \n",
    "        for j in range(1 , l): \n",
    "              \n",
    "            # If current character \n",
    "            # does't match \n",
    "            if (s[j] != s[j - 1]): \n",
    "                  \n",
    "                # Append count of  \n",
    "                # str[j-1] to temp \n",
    "                tmp += str(cnt + 0) \n",
    "  \n",
    "                # Append str[j-1] \n",
    "                tmp += s[j - 1] \n",
    "  \n",
    "                # Reset count \n",
    "                cnt = 1\n",
    "              \n",
    "            # If matches, then increment  \n",
    "            # count of matching characters \n",
    "            else: \n",
    "                cnt += 1\n",
    "  \n",
    "        # Update str \n",
    "        s = tmp \n",
    "    return s;"
   ]
  },
  {
   "cell_type": "code",
   "execution_count": 2,
   "metadata": {},
   "outputs": [
    {
     "name": "stdout",
     "output_type": "stream",
     "text": [
      "21\n"
     ]
    }
   ],
   "source": [
    "N = 3\n",
    "print(countnndSay(N)) "
   ]
  },
  {
   "cell_type": "code",
   "execution_count": null,
   "metadata": {},
   "outputs": [],
   "source": []
  },
  {
   "cell_type": "code",
   "execution_count": null,
   "metadata": {},
   "outputs": [],
   "source": []
  }
 ],
 "metadata": {
  "kernelspec": {
   "display_name": "Python 3",
   "language": "python",
   "name": "python3"
  },
  "language_info": {
   "codemirror_mode": {
    "name": "ipython",
    "version": 3
   },
   "file_extension": ".py",
   "mimetype": "text/x-python",
   "name": "python",
   "nbconvert_exporter": "python",
   "pygments_lexer": "ipython3",
   "version": "3.7.6"
  }
 },
 "nbformat": 4,
 "nbformat_minor": 4
}
