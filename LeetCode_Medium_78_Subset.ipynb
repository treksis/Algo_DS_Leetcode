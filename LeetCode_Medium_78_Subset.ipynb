{
 "cells": [
  {
   "cell_type": "code",
   "execution_count": 1,
   "metadata": {},
   "outputs": [
    {
     "data": {
      "text/plain": [
       "\"\\nExample 1:\\n\\nInput: rating = [2,5,3,4,1]\\nOutput: 3\\nExplanation: We can form three teams given the conditions. (2,3,4), (5,4,1), (5,3,1). \\nExample 2:\\n\\nInput: rating = [2,1,3]\\nOutput: 0\\nExplanation: We can't form any team given the conditions.\\nExample 3:\\n\\nInput: rating = [1,2,3,4]\\nOutput: 4\\n\""
      ]
     },
     "execution_count": 1,
     "metadata": {},
     "output_type": "execute_result"
    }
   ],
   "source": [
    "\"\"\"\n",
    "Example 1:\n",
    "\n",
    "Input: rating = [2,5,3,4,1]\n",
    "Output: 3\n",
    "Explanation: We can form three teams given the conditions. (2,3,4), (5,4,1), (5,3,1). \n",
    "Example 2:\n",
    "\n",
    "Input: rating = [2,1,3]\n",
    "Output: 0\n",
    "Explanation: We can't form any team given the conditions.\n",
    "Example 3:\n",
    "\n",
    "Input: rating = [1,2,3,4]\n",
    "Output: 4\n",
    "\"\"\""
   ]
  },
  {
   "cell_type": "code",
   "execution_count": 2,
   "metadata": {},
   "outputs": [],
   "source": [
    "#[2,5,3,4,1]\n",
    "#valid only if A[i] < A[j] < A[k] or A[i] > A[j] > A[k]\n",
    "#(2,3,4) is valid because A[0] < A[2] < A[3]\n",
    "#(5,4,1) is valid because A[1] > A[2] > A[4]\n",
    "#(5,3,1) is valid because A[1] > A[3] > A[4]\n",
    "\n",
    "#[2,1,3]\n",
    "#A[0] = 2, A[1] = 1, A[2] = 3"
   ]
  },
  {
   "cell_type": "code",
   "execution_count": 3,
   "metadata": {},
   "outputs": [
    {
     "name": "stdout",
     "output_type": "stream",
     "text": [
      "0 2\n",
      "1 5\n",
      "2 3\n",
      "3 4\n",
      "4 1\n"
     ]
    }
   ],
   "source": [
    "rating = [2, 5, 3, 4, 1]\n",
    "for i, j in enumerate(rating):\n",
    "    print(i, j)"
   ]
  },
  {
   "cell_type": "code",
   "execution_count": null,
   "metadata": {},
   "outputs": [],
   "source": [
    "class Solution:\n",
    "    def numTeams(self, rating: List[int]) -> int:\n",
    "        l = len(rating)\n",
    "        count = 0\n",
    "\n",
    "        for i in range(l):\n",
    "            for j in range(i+1, l):\n",
    "                for k in range(j+1, l):\n",
    "                    if rating[i] > rating[j] > rating[k] or rating[i] < rating[j] < rating[k]:\n",
    "                        count += 1\n",
    "        \n",
    "        return count"
   ]
  },
  {
   "cell_type": "code",
   "execution_count": 13,
   "metadata": {},
   "outputs": [
    {
     "name": "stdout",
     "output_type": "stream",
     "text": [
      "index number 0 1\n",
      "index number 0 2\n",
      "index number 0 3\n",
      "index number 0 4\n",
      "index number 1 2\n",
      "index number 1 3\n",
      "index number 1 4\n",
      "index number 2 3\n",
      "index number 2 4\n",
      "index number 3 4\n",
      "1\n"
     ]
    }
   ],
   "source": [
    "rating = [2, 5, 3, 4, 1]\n",
    "n = len(rating)\n",
    "count = 0\n",
    "\n",
    "for i in range(n):\n",
    "    for j in range(i + 1, n):\n",
    "        print(\"index number\", i, j)\n",
    "        for k in range(j + 1, n):\n",
    "            if rating[i] < rating[j] < rating[k]:\n",
    "                count +=1\n",
    "print(count)"
   ]
  },
  {
   "cell_type": "code",
   "execution_count": 14,
   "metadata": {},
   "outputs": [
    {
     "name": "stdout",
     "output_type": "stream",
     "text": [
      "3\n"
     ]
    }
   ],
   "source": [
    "n=len(rating)\n",
    "count=0\n",
    "for i in range(n):\n",
    "    for j in range(i+1,n-1):\n",
    "        for k in range(j+1,n):\n",
    "            if rating[i]<rating[j]<rating[k] or rating[i]>rating[j]>rating[k]:\n",
    "                count+=1\n",
    "            else:\n",
    "                k+=1\n",
    "print(count)"
   ]
  },
  {
   "cell_type": "code",
   "execution_count": 15,
   "metadata": {},
   "outputs": [
    {
     "data": {
      "text/plain": [
       "'\\nExample 1:\\n\\nInput: nums = [1,2,3]\\nOutput: [[],[1],[2],[1,2],[3],[1,3],[2,3],[1,2,3]]\\nExample 2:\\n\\nInput: nums = [0]\\nOutput: [[],[0]]\\n'"
      ]
     },
     "execution_count": 15,
     "metadata": {},
     "output_type": "execute_result"
    }
   ],
   "source": [
    "'''\n",
    "Example 1:\n",
    "\n",
    "Input: nums = [1,2,3]\n",
    "Output: [[],[1],[2],[1,2],[3],[1,3],[2,3],[1,2,3]]\n",
    "Example 2:\n",
    "\n",
    "Input: nums = [0]\n",
    "Output: [[],[0]]\n",
    "'''"
   ]
  },
  {
   "cell_type": "code",
   "execution_count": 49,
   "metadata": {},
   "outputs": [
    {
     "name": "stdout",
     "output_type": "stream",
     "text": [
      "[[], [0], [0]]\n"
     ]
    }
   ],
   "source": [
    "#nums = [1,2,3]\n",
    "nums = [0]\n",
    "\n",
    "k = []\n",
    "for i in range(0, len(nums)):\n",
    "    k.append([nums[i]])\n",
    "\n",
    "for i in range(0, len(nums) - 1):\n",
    "    for j in range(i + 1, len(nums)):\n",
    "        k.append([nums[i], nums[j]])\n",
    "\n",
    "k.append(nums)\n",
    "\n",
    "k.insert(0, [])\n",
    "\n",
    "print(k)\n",
    "\n"
   ]
  },
  {
   "cell_type": "code",
   "execution_count": 51,
   "metadata": {},
   "outputs": [
    {
     "data": {
      "text/plain": [
       "[[], [1], [2], [1, 2], [3], [1, 3], [2, 3], [1, 2, 3]]"
      ]
     },
     "execution_count": 51,
     "metadata": {},
     "output_type": "execute_result"
    }
   ],
   "source": [
    "def subsets(nums):\n",
    "    #nums.sort()\n",
    "    result = [[]]\n",
    "    for num in nums:\n",
    "        result += [i + [num] for i in result]\n",
    "    return result\n",
    "\n",
    "subsets([1,2,3])"
   ]
  },
  {
   "cell_type": "code",
   "execution_count": 53,
   "metadata": {},
   "outputs": [],
   "source": [
    "nums = [1, 2, 3]"
   ]
  },
  {
   "cell_type": "code",
   "execution_count": 56,
   "metadata": {},
   "outputs": [
    {
     "name": "stdout",
     "output_type": "stream",
     "text": [
      "1\n",
      "2\n",
      "3\n",
      "[[], [1], [2], [1, 2], [3], [1, 3], [2, 3], [1, 2, 3]]\n"
     ]
    }
   ],
   "source": [
    "result = [[]]\n",
    "for num in nums:\n",
    "    print(num)\n",
    "    result = result + [i + [num] for i in result]\n",
    "print(result)"
   ]
  },
  {
   "cell_type": "code",
   "execution_count": null,
   "metadata": {},
   "outputs": [],
   "source": [
    "def subsets(self, nums):\n",
    "        result = [[]]\n",
    "        for num in nums:\n",
    "            size = len(result)\n",
    "            for j in range(size):\n",
    "                subset = list(result[j])                \n",
    "                subset.append(num) # or subset += [num]\n",
    "                result.append(subset) # or result += subset\n",
    "            \n",
    "        return result"
   ]
  },
  {
   "cell_type": "code",
   "execution_count": 69,
   "metadata": {},
   "outputs": [
    {
     "name": "stdout",
     "output_type": "stream",
     "text": [
      "subset  []\n",
      "add num to subset  [1]\n",
      "add everything into the result  [[], [1]]\n",
      "subset  []\n",
      "add num to subset  [2]\n",
      "add everything into the result  [[], [1], [2]]\n",
      "subset  [1]\n",
      "add num to subset  [1, 2]\n",
      "add everything into the result  [[], [1], [2], [1, 2]]\n",
      "subset  []\n",
      "add num to subset  [3]\n",
      "add everything into the result  [[], [1], [2], [1, 2], [3]]\n",
      "subset  [1]\n",
      "add num to subset  [1, 3]\n",
      "add everything into the result  [[], [1], [2], [1, 2], [3], [1, 3]]\n",
      "subset  [2]\n",
      "add num to subset  [2, 3]\n",
      "add everything into the result  [[], [1], [2], [1, 2], [3], [1, 3], [2, 3]]\n",
      "subset  [1, 2]\n",
      "add num to subset  [1, 2, 3]\n",
      "add everything into the result  [[], [1], [2], [1, 2], [3], [1, 3], [2, 3], [1, 2, 3]]\n",
      "[[], [1], [2], [1, 2], [3], [1, 3], [2, 3], [1, 2, 3]]\n"
     ]
    }
   ],
   "source": [
    "nums = [1, 2, 3]\n",
    "result = [[]]\n",
    "for num in nums:\n",
    "    #print(\"initial loop \", num)\n",
    "    size = len(result)\n",
    "    #print(\"size of result \", size)\n",
    "    for i in range(size):\n",
    "        subset = list(result[i])\n",
    "        print(\"subset \", subset)\n",
    "        subset.append(num)\n",
    "        print(\"add num to subset \", subset)\n",
    "        result.append(subset)\n",
    "        print(\"add everything into the result \", result)\n",
    "print(result)"
   ]
  },
  {
   "cell_type": "code",
   "execution_count": null,
   "metadata": {},
   "outputs": [],
   "source": []
  }
 ],
 "metadata": {
  "kernelspec": {
   "display_name": "Python 3",
   "language": "python",
   "name": "python3"
  },
  "language_info": {
   "codemirror_mode": {
    "name": "ipython",
    "version": 3
   },
   "file_extension": ".py",
   "mimetype": "text/x-python",
   "name": "python",
   "nbconvert_exporter": "python",
   "pygments_lexer": "ipython3",
   "version": "3.7.6"
  }
 },
 "nbformat": 4,
 "nbformat_minor": 4
}
