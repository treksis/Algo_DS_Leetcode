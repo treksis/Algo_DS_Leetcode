{
 "cells": [
  {
   "cell_type": "code",
   "execution_count": 1,
   "metadata": {},
   "outputs": [],
   "source": [
    "# abbaca\n",
    "# a(bb)aca\n",
    "# aaca\n",
    "# (aa)ca\n",
    "# ca"
   ]
  },
  {
   "cell_type": "code",
   "execution_count": 40,
   "metadata": {},
   "outputs": [
    {
     "name": "stdout",
     "output_type": "stream",
     "text": [
      "ca\n"
     ]
    }
   ],
   "source": [
    "S = \"abbaca\"\n",
    "\n",
    "stack = []\n",
    "\n",
    "for i in range(0, len(S)):\n",
    "    stack.append(S[i])\n",
    "    \n",
    "    if len(stack) > 1 and stack[-1] == stack[-2]:\n",
    "        stack.pop()\n",
    "        stack.pop()\n",
    "\n",
    "print(\"\".join(stack))\n",
    "#print(stack)"
   ]
  },
  {
   "cell_type": "code",
   "execution_count": null,
   "metadata": {},
   "outputs": [],
   "source": [
    "class Solution:\n",
    "    def removeDuplicates(self, S: str) -> str:\n",
    "        new_list = []\n",
    "        \n",
    "        for letter in S:\n",
    "            new_list.append(letter)\n",
    "            # if letter inserted is same as previous letter in list - remove both\n",
    "            if len(new_list) > 1 and new_list[-1] == new_list[-2]: \n",
    "                new_list.pop()\n",
    "                new_list.pop()\n",
    "                \n",
    "        return \"\".join(new_list)"
   ]
  }
 ],
 "metadata": {
  "kernelspec": {
   "display_name": "Python 3",
   "language": "python",
   "name": "python3"
  },
  "language_info": {
   "codemirror_mode": {
    "name": "ipython",
    "version": 3
   },
   "file_extension": ".py",
   "mimetype": "text/x-python",
   "name": "python",
   "nbconvert_exporter": "python",
   "pygments_lexer": "ipython3",
   "version": "3.7.6"
  }
 },
 "nbformat": 4,
 "nbformat_minor": 4
}
