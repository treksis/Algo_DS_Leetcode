{
 "cells": [
  {
   "cell_type": "code",
   "execution_count": 1,
   "metadata": {},
   "outputs": [
    {
     "data": {
      "text/plain": [
       "'\\nExample 1:\\n\\nInput: [[1,1,0],[1,0,1],[0,0,0]]\\nOutput: [[1,0,0],[0,1,0],[1,1,1]]\\nExplanation: First reverse each row: [[0,1,1],[1,0,1],[0,0,0]].\\nThen, invert the image: [[1,0,0],[0,1,0],[1,1,1]]\\nExample 2:\\n\\nInput: [[1,1,0,0],[1,0,0,1],[0,1,1,1],[1,0,1,0]]\\nOutput: [[1,1,0,0],[0,1,1,0],[0,0,0,1],[1,0,1,0]]\\nExplanation: First reverse each row: [[0,0,1,1],[1,0,0,1],[1,1,1,0],[0,1,0,1]].\\nThen invert the image: [[1,1,0,0],[0,1,1,0],[0,0,0,1],[1,0,1,0]]\\n\\n'"
      ]
     },
     "execution_count": 1,
     "metadata": {},
     "output_type": "execute_result"
    }
   ],
   "source": [
    "'''\n",
    "Example 1:\n",
    "\n",
    "Input: [[1,1,0],[1,0,1],[0,0,0]]\n",
    "Output: [[1,0,0],[0,1,0],[1,1,1]]\n",
    "Explanation: First reverse each row: [[0,1,1],[1,0,1],[0,0,0]].\n",
    "Then, invert the image: [[1,0,0],[0,1,0],[1,1,1]]\n",
    "Example 2:\n",
    "\n",
    "Input: [[1,1,0,0],[1,0,0,1],[0,1,1,1],[1,0,1,0]]\n",
    "Output: [[1,1,0,0],[0,1,1,0],[0,0,0,1],[1,0,1,0]]\n",
    "Explanation: First reverse each row: [[0,0,1,1],[1,0,0,1],[1,1,1,0],[0,1,0,1]].\n",
    "Then invert the image: [[1,1,0,0],[0,1,1,0],[0,0,0,1],[1,0,1,0]]\n",
    "\n",
    "'''"
   ]
  },
  {
   "cell_type": "code",
   "execution_count": 60,
   "metadata": {},
   "outputs": [
    {
     "name": "stdout",
     "output_type": "stream",
     "text": [
      "[[1, 0, 0], [0, 1, 0], [1, 1, 1]]\n"
     ]
    }
   ],
   "source": [
    "# First, let's reverse each row\n",
    "A = [[1, 1, 0], [1, 0, 1], [0, 0, 0]]\n",
    "B = []\n",
    "D = []\n",
    "\n",
    "for i in A:\n",
    "    B.append(i[::-1])\n",
    "for j in B:\n",
    "    #print(j)\n",
    "    C = []\n",
    "    for k in j:\n",
    "        #print(k)\n",
    "        if k == 1:\n",
    "            k = 0\n",
    "        elif k == 0:\n",
    "            k = 1\n",
    "        C.append(k)\n",
    "    D.append(C)\n",
    "print(D)"
   ]
  },
  {
   "cell_type": "code",
   "execution_count": null,
   "metadata": {},
   "outputs": [],
   "source": [
    "'''\n",
    "class Solution:\n",
    "    def flipAndInvertImage(self, A: List[List[int]]) -> List[List[int]]:\n",
    "        \n",
    "        B = []\n",
    "        D = []\n",
    "        \n",
    "        for i in A:\n",
    "            B.append(i[::-1])\n",
    "        \n",
    "        for j in B:\n",
    "            C = []\n",
    "            for k in j:\n",
    "                if k == 1:\n",
    "                    k = 0\n",
    "                elif k == 0:\n",
    "                    k = 1\n",
    "                C.append(k)\n",
    "            D.append(C)\n",
    "        return D\n",
    "'''"
   ]
  },
  {
   "cell_type": "code",
   "execution_count": null,
   "metadata": {},
   "outputs": [],
   "source": []
  },
  {
   "cell_type": "code",
   "execution_count": null,
   "metadata": {},
   "outputs": [],
   "source": []
  }
 ],
 "metadata": {
  "kernelspec": {
   "display_name": "Python 3",
   "language": "python",
   "name": "python3"
  },
  "language_info": {
   "codemirror_mode": {
    "name": "ipython",
    "version": 3
   },
   "file_extension": ".py",
   "mimetype": "text/x-python",
   "name": "python",
   "nbconvert_exporter": "python",
   "pygments_lexer": "ipython3",
   "version": "3.7.6"
  }
 },
 "nbformat": 4,
 "nbformat_minor": 4
}
