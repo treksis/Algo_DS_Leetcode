{
 "cells": [
  {
   "cell_type": "code",
   "execution_count": 6,
   "metadata": {},
   "outputs": [],
   "source": [
    "class Solution:\n",
    "    def isEqual(self, c1, c2):\n",
    "        if c1 == \"(\" and c2 == \")\":\n",
    "            return True\n",
    "        if c1 == \"[\" and c2 == \"]\":\n",
    "            return True\n",
    "        if c1 == \"{\" and c2 ==\"}\":\n",
    "            return True\n",
    "        return False\n",
    "    \n",
    "    def isValid_fn(self, s):\n",
    "        stack = []\n",
    "        for char in s:\n",
    "            if len(stack) != 0:\n",
    "                last = stack[-1]\n",
    "                if self.isEqual(last, char):\n",
    "                    stack.pop()\n",
    "                    continue\n",
    "            stack.append(char)\n",
    "        return len(stack) == 0\n",
    "    \n",
    "    def isValid_hash(self, s):\n",
    "        stack = []\n",
    "        table = {\n",
    "            ')':'(',\n",
    "            ']':'[',\n",
    "            '}':'{'\n",
    "        }\n",
    "        \n",
    "        for char in s:\n",
    "            if char not in table:\n",
    "                stack.append(char)\n",
    "            elif not stack or table[char] != stack.pop():\n",
    "                return False\n",
    "            \n",
    "        return len(stack) == 0"
   ]
  },
  {
   "cell_type": "code",
   "execution_count": 8,
   "metadata": {},
   "outputs": [
    {
     "data": {
      "text/plain": [
       "False"
      ]
     },
     "execution_count": 8,
     "metadata": {},
     "output_type": "execute_result"
    }
   ],
   "source": [
    "s = Solution()\n",
    "#s.isValid_fn(\"()[]{}\")\n",
    "s.isValid_hash(\"()]\")"
   ]
  },
  {
   "cell_type": "code",
   "execution_count": 15,
   "metadata": {},
   "outputs": [],
   "source": [
    "class repeat():\n",
    "    def validity(self, c1, c2):\n",
    "        if c1 == \"(\" and c2 == \")\":\n",
    "            return True\n",
    "        if c1 == \"[\" and c2 == \"]\":\n",
    "            return True\n",
    "        if c1 == \"{\" and c2 == \"}\":\n",
    "            return True\n",
    "        return False\n",
    "    \n",
    "    def check_fn(self, s):\n",
    "        stack = []\n",
    "        for char in s:\n",
    "            if len(stack) != 0:\n",
    "                last = stack[-1]\n",
    "                if self.validity(last, char):\n",
    "                    stack.pop()\n",
    "                    continue\n",
    "            stack.append(char)\n",
    "            \n",
    "        return len(stack) == 0\n",
    "    \n",
    "    def check_fn(self, s):\n",
    "        stack = []\n",
    "        for c in s:\n",
    "            if len(stack) != 0:\n",
    "                li = stack[-1]\n",
    "                if self.validity(li, c):\n",
    "                    stack.pop()\n",
    "                    continue\n",
    "            stack.append(c)\n",
    "            \n",
    "    def is_valid(self, s):\n",
    "        stack = []\n",
    "        table = {\n",
    "            ')':'(',\n",
    "            ']':'[',\n",
    "            ')':'('\n",
    "        }\n",
    "        \n",
    "        for c in s:\n",
    "            if c not in table:\n",
    "                stack.append(c)\n",
    "            elif not stack or table[c] != stack.pop():\n",
    "                return False\n",
    "        return len(stack) == 0\n",
    "    \n",
    "    # for c in s:\n",
    "    #    if c not in table:\n",
    "    #        stack.append(c)\n",
    "    #    elif not stack or table[c] != stack.pop():\n",
    "    #        return false\n",
    "            \n",
    "r = repeat()\n",
    "r.check_fn(\"()\")"
   ]
  },
  {
   "cell_type": "code",
   "execution_count": null,
   "metadata": {},
   "outputs": [],
   "source": []
  }
 ],
 "metadata": {
  "kernelspec": {
   "display_name": "Python 3",
   "language": "python",
   "name": "python3"
  },
  "language_info": {
   "codemirror_mode": {
    "name": "ipython",
    "version": 3
   },
   "file_extension": ".py",
   "mimetype": "text/x-python",
   "name": "python",
   "nbconvert_exporter": "python",
   "pygments_lexer": "ipython3",
   "version": "3.7.6"
  }
 },
 "nbformat": 4,
 "nbformat_minor": 4
}
