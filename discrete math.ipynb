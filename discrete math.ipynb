{
 "cells": [
  {
   "cell_type": "code",
   "execution_count": 4,
   "metadata": {},
   "outputs": [],
   "source": [
    "def count_wins(dice1, dice2):\n",
    "    \n",
    "    dice1=[2, 2, 2, 2, 3, 3]\n",
    "    dice2=[1, 1, 1, 1, 6, 6]\n",
    "    num_rounds = 10**5\n",
    "    \n",
    "    assert len(dice1) == 6 and len(dice2) == 6\n",
    "    dice1_wins, dice2_wins = 0, 0\n",
    "    \n",
    "    # write your code here\n",
    "    \n",
    "    for _ in range(num_rounds):\n",
    "        dice1_result = dice1[randint(0,5)]\n",
    "        dice2_result = dice2[randint(0,5)]\n",
    "        \n",
    "        if dice1_result > dice2_result:\n",
    "            num_dice1_wins +=1\n",
    "        elif dice2_result > dice1_result:\n",
    "            num_dice2_wins +=1\n",
    "            \n",
    "    if num_dice1_wins > num_dice2_wins:\n",
    "        print(\"The dice {} is better than {}:\\nout of {} rounds it won {} times more\".format(dice1, dice2, num_rounds, num_dice1_wins-num_dice2_wins))\n",
    "    elif num_dice2_wins > num_dice1_wins:\n",
    "        print(\"The dice {} is better than {}:\\nout of {} rounds it won {} times more\".format(dice2, dice1, num_rounds, num_dice2_wins-num_dice1_wins))\n",
    "    else:\n",
    "        print(\"A tie\")       \n",
    "    \n",
    "            \n",
    "            \n",
    "\n",
    "    return (dice1_wins, dice2_wins)"
   ]
  },
  {
   "cell_type": "code",
   "execution_count": 5,
   "metadata": {},
   "outputs": [
    {
     "name": "stdout",
     "output_type": "stream",
     "text": [
      "The dice [2, 2, 2, 2, 3, 3] is better than [1, 1, 1, 1, 6, 6]:\n",
      "out of 100000 rounds it won 33094 times more\n"
     ]
    }
   ],
   "source": [
    "from random import randint, seed\n",
    "from datetime import datetime\n",
    "\n",
    "seed(datetime.now())\n",
    "\n",
    "dice1=[2, 2, 2, 2, 3, 3]\n",
    "dice2=[1, 1, 1, 1, 6, 6]\n",
    "\n",
    "num_rounds = 10**5\n",
    "\n",
    "assert len(dice1) == 6 and len(dice2) == 6\n",
    "\n",
    "num_dice1_wins = 0\n",
    "num_dice2_wins = 0\n",
    "\n",
    "for _ in range(num_rounds):\n",
    "    dice1_result = dice1[randint(0, 5)]\n",
    "    dice2_result = dice2[randint(0, 5)]\n",
    "\n",
    "    if dice1_result > dice2_result:\n",
    "            num_dice1_wins += 1\n",
    "    elif dice2_result > dice1_result:\n",
    "            num_dice2_wins += 1\n",
    "\n",
    "if num_dice1_wins > num_dice2_wins:\n",
    "        print(\"The dice {} is better than {}:\\nout of {} rounds it won {} times more\".format(dice1, dice2, num_rounds, num_dice1_wins-num_dice2_wins))\n",
    "elif num_dice2_wins > num_dice1_wins:\n",
    "        print(\"The dice {} is better than {}:\\nout of {} rounds it won {} times more\".format(dice2, dice1, num_rounds, num_dice2_wins-num_dice1_wins))\n",
    "else:\n",
    "        print(\"A tie\")"
   ]
  },
  {
   "cell_type": "code",
   "execution_count": 28,
   "metadata": {},
   "outputs": [
    {
     "data": {
      "text/plain": [
       "(20, 16)"
      ]
     },
     "execution_count": 28,
     "metadata": {},
     "output_type": "execute_result"
    }
   ],
   "source": [
    "def count_wins(dice1, dice2):\n",
    "    \n",
    "    dice1 = [3, 3, 5, 5, 7, 7]\n",
    "    dice2 = [2, 2, 4, 4, 9, 9]\n",
    "    assert len(dice1) == 6 and len(dice2) == 6\n",
    "    dice1_wins, dice2_wins = 0, 0\n",
    "    \n",
    "    for i in range(6):\n",
    "        for k in range(6):\n",
    "            if dice1[i] < dice2[k]:\n",
    "                dice2_wins += 1\n",
    "            elif dice1[i] > dice2[k]:\n",
    "                dice1_wins += 1\n",
    "\n",
    "    return (dice1_wins, dice2_wins)\n",
    "\n",
    "count_wins(dice1, dice2)"
   ]
  },
  {
   "cell_type": "code",
   "execution_count": 29,
   "metadata": {},
   "outputs": [
    {
     "name": "stdout",
     "output_type": "stream",
     "text": [
      "{'choose_first': False, 0: 1, 2: 0, 1: 2}\n",
      "{'choose_first': True, 'first_dice': 1}\n",
      "{'choose_first': False, 1: 0, 0: 3, 2: 1}\n"
     ]
    }
   ],
   "source": [
    "def compute_strategy(dices):\n",
    "    assert all(len(dice) == 6 for dice in dices)\n",
    "    strategy = dict()\n",
    "    strategy[\"choose_first\"] = True\n",
    "    strategy[\"first_dice\"] = 0\n",
    "    for i in range(len(dices)):\n",
    "        strategy[i] = (i + 1) % len(dices)\n",
    "    dice_1 = 0\n",
    "    dice_2 = 0\n",
    "    winner = []\n",
    "    loser = []\n",
    "    winner_return = -1\n",
    "    for i in range(len(dices)):\n",
    "        for j in range(len(dices)):\n",
    "            if i >= j:\n",
    "                pass\n",
    "            else:\n",
    "\n",
    "                for ele_1 in dices[i]:\n",
    "                    for ele_2 in dices[j]:\n",
    "                        if ele_1 > ele_2:\n",
    "                            dice_1 += 1\n",
    "                        elif ele_2 > ele_1:\n",
    "                            dice_2 += 1\n",
    "                        else:\n",
    "                            pass\n",
    "                if dice_1 > dice_2:\n",
    "                    winner.append(i)\n",
    "                    loser.append(j)\n",
    "                elif dice_2 > dice_1:\n",
    "                    winner.append(j)\n",
    "                    loser.append(i)\n",
    "                else:\n",
    "                    pass\n",
    "                dice_1 = 0\n",
    "                dice_2 = 0\n",
    "    if len(winner) == 1 and winner[0] != '':\n",
    "        return winner[0]\n",
    "    elif len(winner) > 1:\n",
    "        for i in range(len(winner)):\n",
    "            if loser.count(winner[i]) == 0:\n",
    "                winner_return = winner[i]\n",
    "                i += 1\n",
    "            elif loser.count(winner[i]) != 0:\n",
    "              \n",
    "                  i += 1\n",
    "    else:\n",
    "        winner_return == -1\n",
    "        \n",
    "    if winner_return != -1:\n",
    "        strategy.clear()\n",
    "        strategy[\"choose_first\"] = True\n",
    "        strategy[\"first_dice\"] = winner_return\n",
    "        return strategy\n",
    "    elif winner_return == -1:\n",
    "        strategy.clear()\n",
    "        strategy[\"choose_first\"] = False\n",
    "        for j in range(len(dices)):\n",
    "            strategy.update({loser[j]: winner[j]})\n",
    "        \n",
    "\n",
    "    return strategy\n",
    "    \n",
    "print(compute_strategy([[1, 1, 4, 6, 7, 8], [2, 2, 2, 6, 7, 7], [3, 3, 3, 5, 5, 8]]))\n",
    "    \n",
    "print(compute_strategy([[4, 4, 4, 4, 0, 0], [7, 7, 3, 3, 3, 3], [6, 6, 2, 2, 2, 2], [5, 5, 5, 1, 1, 1]]))\n",
    "\n",
    "print(compute_strategy( [ [4, 4, 4, 4, 0, 0],[3, 3, 3, 3, 3, 3] ,[6, 6, 2, 2, 2, 2] ,[5, 5, 5, 1, 1, 1]]))\n"
   ]
  },
  {
   "cell_type": "code",
   "execution_count": null,
   "metadata": {},
   "outputs": [],
   "source": []
  },
  {
   "cell_type": "code",
   "execution_count": 32,
   "metadata": {},
   "outputs": [
    {
     "data": {
      "text/plain": [
       "(15, 15)"
      ]
     },
     "execution_count": 32,
     "metadata": {},
     "output_type": "execute_result"
    }
   ],
   "source": [
    "def count_wins(dice1, dice2):\n",
    "    assert len(dice1) == 6 and len(dice2) == 6\n",
    "    dice1_wins, dice2_wins = 0, 0\n",
    "    \n",
    "    for i in range(6):\n",
    "        for k in range(6):\n",
    "            if dice1[i] < dice2[k]:\n",
    "                dice2_wins += 1\n",
    "            elif dice1[i] > dice2[k]:\n",
    "                dice1_wins += 1\n",
    "\n",
    "    return (dice1_wins, dice2_wins)\n",
    "\n",
    "count_wins(dice1, dice2)"
   ]
  },
  {
   "cell_type": "code",
   "execution_count": 38,
   "metadata": {},
   "outputs": [
    {
     "name": "stdout",
     "output_type": "stream",
     "text": [
      "red apple\n",
      "red banana\n",
      "red cherry\n",
      "big apple\n",
      "big banana\n",
      "big cherry\n",
      "tasty apple\n",
      "tasty banana\n",
      "tasty cherry\n"
     ]
    }
   ],
   "source": [
    "adj = [\"red\", \"big\", \"tasty\"]\n",
    "fruits = [\"apple\", \"banana\", \"cherry\"]\n",
    "\n",
    "for x in adj:\n",
    "    for y in fruits:\n",
    "        print(x, y)"
   ]
  },
  {
   "cell_type": "code",
   "execution_count": null,
   "metadata": {},
   "outputs": [],
   "source": []
  },
  {
   "cell_type": "code",
   "execution_count": null,
   "metadata": {},
   "outputs": [],
   "source": []
  }
 ],
 "metadata": {
  "kernelspec": {
   "display_name": "Python 3",
   "language": "python",
   "name": "python3"
  },
  "language_info": {
   "codemirror_mode": {
    "name": "ipython",
    "version": 3
   },
   "file_extension": ".py",
   "mimetype": "text/x-python",
   "name": "python",
   "nbconvert_exporter": "python",
   "pygments_lexer": "ipython3",
   "version": "3.7.1"
  }
 },
 "nbformat": 4,
 "nbformat_minor": 4
}
