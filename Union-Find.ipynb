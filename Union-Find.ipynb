{
 "cells": [
  {
   "cell_type": "code",
   "execution_count": 1,
   "metadata": {},
   "outputs": [],
   "source": [
    "class QuickFind(object):\n",
    "    def __init__(self, N):\n",
    "      self.lst = range(N)\n",
    "\n",
    "    def find(self, a, b):\n",
    "      return self.lst[a] == self.lst[b]\n",
    "\n",
    "    def union(self, a, b):\n",
    "      old = self.lst[a]\n",
    "      new = self.lst[b]\n",
    "      for ind, x in enumerate(self.lst):\n",
    "          if x == old:\n",
    "              self.lst[ind] = new"
   ]
  },
  {
   "cell_type": "code",
   "execution_count": 2,
   "metadata": {},
   "outputs": [],
   "source": [
    "class QuickUnion(object):\n",
    "    def __init__(self, N):\n",
    "      self.lst = range(N)\n",
    "\n",
    "    def get_root(self, ind):\n",
    "      while ind != self.lst[ind]:\n",
    "          ind = self.lst[ind]\n",
    "      return ind\n",
    "\n",
    "    def find(self, a, b):\n",
    "      return self.get_root(a) == self.get_root(b)\n",
    "\n",
    "    def union(self, a, b):\n",
    "      root_a = self.get_root(a)\n",
    "      self.lst[root_a] = self.get_root(b)"
   ]
  },
  {
   "cell_type": "code",
   "execution_count": 3,
   "metadata": {},
   "outputs": [],
   "source": [
    "class WeightedQuickUnion(object):\n",
    "    def __init__(self, N):\n",
    "      self.lst = range(N)\n",
    "      self.sizes = [1] * N\n",
    "\n",
    "    def get_root(self, ind):\n",
    "      while ind != self.lst[ind]:\n",
    "          ind = self.lst[ind]\n",
    "      return ind\n",
    "\n",
    "    def find(self, a, b):\n",
    "      return self.get_root(a) == self.get_root(b)\n",
    "\n",
    "    def union(self, a, b):\n",
    "      if self.sizes[self.get_root(a)] < self.sizes[self.get_root(b)]:\n",
    "          self.lst[self.get_root(a)] = self.get_root(b)\n",
    "          self.sizes[self.get_root(b)] += self.sizes[self.get_root(a)]\n",
    "      else:\n",
    "          self.lst[self.get_root(b)] = self.get_root(a)\n",
    "          self.sizes[self.get_root(a)] += self.sizes[self.get_root(b)]"
   ]
  },
  {
   "cell_type": "code",
   "execution_count": 4,
   "metadata": {},
   "outputs": [],
   "source": [
    "class CompressedQuickUnion(object):\n",
    "    def __init__(self, N):\n",
    "      self.lst = range(N)\n",
    "\n",
    "    def get_root(self, ind):\n",
    "      seen = set([])\n",
    "      while ind != self.lst[ind]:\n",
    "          seen.add(ind)\n",
    "          ind = self.lst[ind]\n",
    "      root = ind\n",
    "      # Point all parents in the path I just traversed to the root.\n",
    "      for x in seen:\n",
    "          self.lst[x] = root\n",
    "      return root\n",
    "\n",
    "    def find(self, a, b):\n",
    "      return self.get_root(a) == self.get_root(b)\n",
    "\n",
    "    def union(self, a, b):\n",
    "      root_a = self.get_root(a)\n",
    "      self.lst[root_a] = self.get_root(b)"
   ]
  },
  {
   "cell_type": "code",
   "execution_count": 5,
   "metadata": {},
   "outputs": [],
   "source": [
    "class CompressedQuickUnionOnePass(object):\n",
    "    def __init__(self, N):\n",
    "      self.lst = range(N)\n",
    "\n",
    "    def get_root(self, ind):\n",
    "      seen = set([])\n",
    "      while ind != self.lst[ind]:\n",
    "          # Point to the grandparent. This will always work as the\n",
    "          # root points to itself.\n",
    "          self.lst[ind] = self.lst[self.lst[ind]]\n",
    "          ind = self.lst[ind]\n",
    "      return ind\n",
    "\n",
    "    def find(self, a, b):\n",
    "      return self.get_root(a) == self.get_root(b)\n",
    "\n",
    "    def union(self, a, b):\n",
    "      root_a = self.get_root(a)\n",
    "      self.lst[root_a] = self.get_root(b)"
   ]
  },
  {
   "cell_type": "code",
   "execution_count": 6,
   "metadata": {},
   "outputs": [],
   "source": [
    "class WeightedCompressedQuickUnion(object):\n",
    "    def __init__(self, N):\n",
    "      self.lst = range(N)\n",
    "      self.sizes = [1] * N\n",
    "\n",
    "    def get_root(self, ind):\n",
    "      seen = set([])\n",
    "      while ind != self.lst[ind]:\n",
    "          seen.add(ind)\n",
    "          ind = self.lst[ind]\n",
    "      root = ind\n",
    "      # Point all parents in the path I just traversed to the root.\n",
    "      for x in seen:\n",
    "          self.lst[x] = root\n",
    "      return root\n",
    "\n",
    "    def find(self, a, b):\n",
    "      return self.get_root(a) == self.get_root(b)\n",
    "\n",
    "    def union(self, a, b):\n",
    "      if self.sizes[self.get_root(a)] < self.sizes[self.get_root(b)]:\n",
    "          self.lst[self.get_root(a)] = self.get_root(b)\n",
    "          self.sizes[self.get_root(b)] += self.sizes[self.get_root(a)]\n",
    "      else:\n",
    "          self.lst[self.get_root(b)] = self.get_root(a)\n",
    "          self.sizes[self.get_root(a)] += self.sizes[self.get_root(b)]"
   ]
  },
  {
   "cell_type": "code",
   "execution_count": null,
   "metadata": {},
   "outputs": [],
   "source": []
  }
 ],
 "metadata": {
  "kernelspec": {
   "display_name": "Python 3",
   "language": "python",
   "name": "python3"
  },
  "language_info": {
   "codemirror_mode": {
    "name": "ipython",
    "version": 3
   },
   "file_extension": ".py",
   "mimetype": "text/x-python",
   "name": "python",
   "nbconvert_exporter": "python",
   "pygments_lexer": "ipython3",
   "version": "3.7.1"
  }
 },
 "nbformat": 4,
 "nbformat_minor": 2
}
