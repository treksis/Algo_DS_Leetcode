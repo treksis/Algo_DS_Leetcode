{
 "cells": [
  {
   "cell_type": "code",
   "execution_count": 19,
   "metadata": {},
   "outputs": [
    {
     "name": "stdout",
     "output_type": "stream",
     "text": [
      "3\n"
     ]
    }
   ],
   "source": [
    "'''\n",
    "\n",
    "Input: heights = [1,1,4,2,1,3]\n",
    "Output: 3\n",
    "Explanation: \n",
    "Current array : [1,1,4,2,1,3]\n",
    "Target array  : [1,1,1,2,3,4]\n",
    "\n",
    "On index 2 (0-based) we have 4 vs 1 so we have to move this student.\n",
    "On index 4 (0-based) we have 1 vs 3 so we have to move this student.\n",
    "On index 5 (0-based) we have 3 vs 4 so we have to move this student.\n",
    "\n",
    "[1,1,4,2,1,3]\n",
    "[1,1,2,4,1,3]\n",
    "[1,1,2,1,4,3]\n",
    "\n",
    "\n",
    "\n",
    "\n",
    "\n",
    "[5,1,2,3,4]\n",
    "[1,5,2,3,4]\n",
    "[1,2,5,3,4]\n",
    "[1,2,3,5,4]\n",
    "[1,2,3,4,5]\n",
    "'''\n",
    "heights = [1,1,4,2,1,3]\n",
    "n = len(heights)\n",
    "\n",
    "# (heights[0], heights[1]), (heights[1], heights[2])\n",
    "count = 0\n",
    "\n",
    "for i in range(1, n):\n",
    "    #print(heights[i - 1], heights[i])\n",
    "    if heights[i - 1] > heights[i]:\n",
    "        heights[i - 1], heights[i] = heights[i], heights[i - 1]\n",
    "        count += 1\n",
    "print(count)"
   ]
  },
  {
   "cell_type": "code",
   "execution_count": 24,
   "metadata": {},
   "outputs": [
    {
     "name": "stdout",
     "output_type": "stream",
     "text": [
      "[1, 1, 1, 2, 3, 4]\n"
     ]
    },
    {
     "data": {
      "text/plain": [
       "'\\nfor i in range(0, len(heights)):\\n    if heights[i] != heights_sort[i]:\\n        count += 1\\n\\nprint(count)\\n'"
      ]
     },
     "execution_count": 24,
     "metadata": {},
     "output_type": "execute_result"
    }
   ],
   "source": [
    "heights = [1,1,4,2,1,3]\n",
    "\n",
    "count = 0\n",
    "heights_sort = sorted(heights)\n",
    "print(heights_sort)\n",
    "\n",
    "'''\n",
    "for i in range(0, len(heights)):\n",
    "    if heights[i] != heights_sort[i]:\n",
    "        count += 1\n",
    "\n",
    "print(count)\n",
    "'''"
   ]
  },
  {
   "cell_type": "code",
   "execution_count": null,
   "metadata": {},
   "outputs": [],
   "source": []
  }
 ],
 "metadata": {
  "kernelspec": {
   "display_name": "Python 3",
   "language": "python",
   "name": "python3"
  },
  "language_info": {
   "codemirror_mode": {
    "name": "ipython",
    "version": 3
   },
   "file_extension": ".py",
   "mimetype": "text/x-python",
   "name": "python",
   "nbconvert_exporter": "python",
   "pygments_lexer": "ipython3",
   "version": "3.7.6"
  }
 },
 "nbformat": 4,
 "nbformat_minor": 4
}
