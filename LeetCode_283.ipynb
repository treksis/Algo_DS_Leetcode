{
 "cells": [
  {
   "cell_type": "code",
   "execution_count": 29,
   "metadata": {},
   "outputs": [
    {
     "name": "stdout",
     "output_type": "stream",
     "text": [
      "length is 5\n",
      "[0, 0, 1, 3, 12]\n",
      "0\n",
      "1\n",
      "12\n",
      "0\n",
      "[1, 3, 12, 0, 0]\n"
     ]
    }
   ],
   "source": [
    "#Input: [0,1,0,3,12]\n",
    "#Output: [1,3,12,0,0]\n",
    "\n",
    "nums = [0,1,0,3,12]\n",
    "nums = sorted(nums)\n",
    "print('length is', len(nums))\n",
    "print(nums)\n",
    "for i in range(0, len(nums) - 1):\n",
    "    print(nums[i])\n",
    "    if nums[0] == 0:\n",
    "        nums.append(nums.pop(0))\n",
    "        \n",
    "print(nums)\n",
    "        "
   ]
  },
  {
   "cell_type": "code",
   "execution_count": 32,
   "metadata": {},
   "outputs": [
    {
     "data": {
      "text/plain": [
       "[1, 3, 12, 0, 0]"
      ]
     },
     "execution_count": 32,
     "metadata": {},
     "output_type": "execute_result"
    }
   ],
   "source": [
    "nums = [0,1,0,3,12]\n",
    "\n",
    "zero = 0\n",
    "for non_zero in range(len(nums)):\n",
    "    if nums[non_zero] == 0:\n",
    "        continue\n",
    "\n",
    "    if nums[zero] == 0:\n",
    "        nums[zero], nums[non_zero] = nums[non_zero], nums[zero]\n",
    "\n",
    "    zero += 1\n",
    "    \n",
    "nums"
   ]
  },
  {
   "cell_type": "code",
   "execution_count": 36,
   "metadata": {},
   "outputs": [
    {
     "data": {
      "text/plain": [
       "[1, 3, 12, 0, 0]"
      ]
     },
     "execution_count": 36,
     "metadata": {},
     "output_type": "execute_result"
    }
   ],
   "source": [
    "nums = [0,1,0,3,12]\n",
    "\n",
    "zero = 0\n",
    "for i in range(len(nums)):\n",
    "    if nums[i] == 0:\n",
    "        continue\n",
    "    \n",
    "    if nums[zero] == 0:\n",
    "        nums[zero], nums[i] = nums[i], nums[zero]\n",
    "    \n",
    "    zero+= 1\n",
    "    \n",
    "nums"
   ]
  },
  {
   "cell_type": "code",
   "execution_count": 42,
   "metadata": {},
   "outputs": [
    {
     "data": {
      "text/plain": [
       "[1, 3, 12, 0, 0]"
      ]
     },
     "execution_count": 42,
     "metadata": {},
     "output_type": "execute_result"
    }
   ],
   "source": [
    "nums = [0,1,0,3,12]\n",
    "i = 0\n",
    "\n",
    "for j in range(len(nums)):\n",
    "    if nums[j] != 0: #if it's non-zero.\n",
    "        nums[i],nums[j] = nums[j],nums[i]\n",
    "        i += 1\n",
    "nums"
   ]
  },
  {
   "cell_type": "code",
   "execution_count": 43,
   "metadata": {},
   "outputs": [
    {
     "ename": "IndentationError",
     "evalue": "unexpected indent (<ipython-input-43-5b91f0f91649>, line 8)",
     "output_type": "error",
     "traceback": [
      "\u001b[0;36m  File \u001b[0;32m\"<ipython-input-43-5b91f0f91649>\"\u001b[0;36m, line \u001b[0;32m8\u001b[0m\n\u001b[0;31m    nums = sorted(nums)\u001b[0m\n\u001b[0m    ^\u001b[0m\n\u001b[0;31mIndentationError\u001b[0m\u001b[0;31m:\u001b[0m unexpected indent\n"
     ]
    }
   ],
   "source": [
    "'''\n",
    "class Solution:\n",
    "    def moveZeroes(self, nums: List[int]) -> None:\n",
    "        \"\"\"\n",
    "        Do not return anything, modify nums in-place instead.\n",
    "        \"\"\"\n",
    "        '''\n",
    "        nums = sorted(nums)\n",
    "        for i in range(0, len(nums) - 1):\n",
    "            #print(nums[i])\n",
    "            if nums[0] == 0:\n",
    "                nums.append(nums.pop(0))\n",
    "        '''\n",
    "        for i in nums:\n",
    "            if i==0:\n",
    "                nums.pop(nums.index(i)) ##You can also use remove here instead of pop, if you want\n",
    "                nums.append(0)\n",
    "                \n",
    "'''"
   ]
  },
  {
   "cell_type": "code",
   "execution_count": null,
   "metadata": {},
   "outputs": [],
   "source": []
  }
 ],
 "metadata": {
  "kernelspec": {
   "display_name": "Python 3",
   "language": "python",
   "name": "python3"
  },
  "language_info": {
   "codemirror_mode": {
    "name": "ipython",
    "version": 3
   },
   "file_extension": ".py",
   "mimetype": "text/x-python",
   "name": "python",
   "nbconvert_exporter": "python",
   "pygments_lexer": "ipython3",
   "version": "3.7.6"
  }
 },
 "nbformat": 4,
 "nbformat_minor": 4
}
