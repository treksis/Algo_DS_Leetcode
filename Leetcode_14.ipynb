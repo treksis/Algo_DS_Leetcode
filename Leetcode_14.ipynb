{
 "cells": [
  {
   "cell_type": "code",
   "execution_count": 15,
   "metadata": {},
   "outputs": [],
   "source": [
    "strs = ['flower', 'flow', 'flight']\n",
    "\n",
    "l = list(zip(*strs))"
   ]
  },
  {
   "cell_type": "code",
   "execution_count": 16,
   "metadata": {},
   "outputs": [
    {
     "name": "stdout",
     "output_type": "stream",
     "text": [
      "[('f', 'f', 'f'), ('l', 'l', 'l'), ('o', 'o', 'i'), ('w', 'w', 'g')]\n"
     ]
    }
   ],
   "source": [
    "print(l)"
   ]
  },
  {
   "cell_type": "code",
   "execution_count": 22,
   "metadata": {},
   "outputs": [
    {
     "name": "stdout",
     "output_type": "stream",
     "text": [
      "fl\n"
     ]
    }
   ],
   "source": [
    "prefix = ''\n",
    "for i in l:\n",
    "    #print(i)\n",
    "    #print(i[0])\n",
    "    if len(set(i)) == 1: #this is genius.\n",
    "        prefix = prefix + i[0]\n",
    "    else:\n",
    "        break\n",
    "print(prefix)"
   ]
  },
  {
   "cell_type": "code",
   "execution_count": 38,
   "metadata": {},
   "outputs": [
    {
     "name": "stdout",
     "output_type": "stream",
     "text": [
      "[6, 4, 6]\n",
      "first letter:  f\n",
      "flower\n",
      "flow\n",
      "flight\n",
      "first letter:  fl\n",
      "flower\n",
      "flow\n",
      "flight\n",
      "first letter:  flo\n",
      "flower\n",
      "flow\n",
      "flight\n",
      "flo\n",
      "first letter:  flow\n",
      "flower\n",
      "flow\n",
      "flight\n",
      "flow\n"
     ]
    }
   ],
   "source": [
    "lens = [len(str) for str in strs]\n",
    "print(lens)\n",
    "\n",
    "min_len = min(lens)\n",
    "res = ''\n",
    "\n",
    "for i in range(min_len):\n",
    "    prefix = strs[0][:i + 1]\n",
    "    print(\"first letter: \", prefix)\n",
    "    for s in strs:\n",
    "        print(s)\n",
    "        if s[:i +1] != prefix:\n",
    "            print(res)\n",
    "        res = prefix\n",
    "        #print(res)"
   ]
  },
  {
   "cell_type": "code",
   "execution_count": 45,
   "metadata": {},
   "outputs": [
    {
     "name": "stdout",
     "output_type": "stream",
     "text": [
      "[6, 4, 6]\n",
      "this is from upper loop:  f\n",
      "l\n",
      "l\n",
      "l\n",
      "this is from upper loop:  fl\n",
      "o\n",
      "o\n",
      "i\n",
      "this is from upper loop:  flo\n",
      "w\n",
      "w\n",
      "g\n",
      "this is from upper loop:  flow\n",
      "e\n"
     ]
    },
    {
     "ename": "IndexError",
     "evalue": "string index out of range",
     "output_type": "error",
     "traceback": [
      "\u001b[0;31m---------------------------------------------------------------------------\u001b[0m",
      "\u001b[0;31mIndexError\u001b[0m                                Traceback (most recent call last)",
      "\u001b[0;32m<ipython-input-45-b95a907a5eb2>\u001b[0m in \u001b[0;36m<module>\u001b[0;34m\u001b[0m\n\u001b[1;32m     10\u001b[0m     \u001b[0mprint\u001b[0m\u001b[0;34m(\u001b[0m\u001b[0;34m\"this is from upper loop: \"\u001b[0m\u001b[0;34m,\u001b[0m \u001b[0mprefix\u001b[0m\u001b[0;34m)\u001b[0m\u001b[0;34m\u001b[0m\u001b[0;34m\u001b[0m\u001b[0m\n\u001b[1;32m     11\u001b[0m     \u001b[0;32mfor\u001b[0m \u001b[0ms\u001b[0m \u001b[0;32min\u001b[0m \u001b[0mstrs\u001b[0m\u001b[0;34m:\u001b[0m\u001b[0;34m\u001b[0m\u001b[0;34m\u001b[0m\u001b[0m\n\u001b[0;32m---> 12\u001b[0;31m         \u001b[0mprint\u001b[0m\u001b[0;34m(\u001b[0m\u001b[0ms\u001b[0m\u001b[0;34m[\u001b[0m\u001b[0mi\u001b[0m\u001b[0;34m+\u001b[0m\u001b[0;36m1\u001b[0m\u001b[0;34m]\u001b[0m\u001b[0;34m)\u001b[0m\u001b[0;34m\u001b[0m\u001b[0;34m\u001b[0m\u001b[0m\n\u001b[0m\u001b[1;32m     13\u001b[0m \u001b[0;34m\u001b[0m\u001b[0m\n",
      "\u001b[0;31mIndexError\u001b[0m: string index out of range"
     ]
    }
   ],
   "source": [
    "lens = [len(str) for str in strs]\n",
    "print(lens)\n",
    "\n",
    "min_len = min(lens)\n",
    "res = ''\n",
    "\n",
    "for i in range(min_len):\n",
    "    # get the element of characters of the first string in list\n",
    "    prefix = strs[0][:i + 1] #first character is flow. then every iteration you increment\n",
    "    print(\"this is from upper loop: \", prefix)\n",
    "    for s in strs:\n",
    "        print(s[i+1])\n",
    "    "
   ]
  },
  {
   "cell_type": "code",
   "execution_count": 48,
   "metadata": {},
   "outputs": [
    {
     "data": {
      "text/plain": [
       "2"
      ]
     },
     "execution_count": 48,
     "metadata": {},
     "output_type": "execute_result"
    }
   ],
   "source": [
    "def my_func(strs):\n",
    "    \n",
    "    if len(strs) == 0:\n",
    "        return ''\n",
    "    if len(strs) == 1:\n",
    "        return strs[0]\n",
    "    \n",
    "    prefix = strs[0]\n",
    "    previous = len(prefix)\n",
    "    \n",
    "    # start from 2nd element\n",
    "    \n",
    "    for s in strs[1:]:\n",
    "        \n",
    "        while prefix != s[0:previous]:\n",
    "            prefix = prefix[0:(previous - 1)]\n",
    "            previous -= 1\n",
    "            \n",
    "            if previous == 0:\n",
    "                return (\"\")\n",
    "            \n",
    "    return previous\n",
    "            \n",
    "my_func(['flower', 'flow', 'flight'])"
   ]
  },
  {
   "cell_type": "code",
   "execution_count": 50,
   "metadata": {},
   "outputs": [
    {
     "data": {
      "text/plain": [
       "'fl'"
      ]
     },
     "execution_count": 50,
     "metadata": {},
     "output_type": "execute_result"
    }
   ],
   "source": [
    "def brute_force(strs):\n",
    "    \n",
    "    if len(strs) == 0:\n",
    "        return ''\n",
    "    \n",
    "    minlen = len(strs[0])\n",
    "    for i in range(len(strs)):\n",
    "        minlen = min(len(strs[i]), minlen)\n",
    "    \n",
    "    lcp = ''\n",
    "    i = 0\n",
    "    while i < minlen:\n",
    "        char = strs[0][i]\n",
    "        for j in range(1, len(strs)):\n",
    "            if strs[j][i] != char:\n",
    "                return lcp\n",
    "        lcp = lcp + char\n",
    "        i += 1\n",
    "    return lcp\n",
    "\n",
    "brute_force(strs)"
   ]
  },
  {
   "cell_type": "code",
   "execution_count": 54,
   "metadata": {},
   "outputs": [
    {
     "data": {
      "text/plain": [
       "'fl'"
      ]
     },
     "execution_count": 54,
     "metadata": {},
     "output_type": "execute_result"
    }
   ],
   "source": [
    "def brute_force(strs):\n",
    "    \n",
    "    if len(strs) == 0:\n",
    "        return ''\n",
    "    if len(strs) == 1:\n",
    "        return strs[1]\n",
    "    \n",
    "    prefix = strs[0]\n",
    "    prelen = len(strs[0])\n",
    "    \n",
    "    for s in strs:\n",
    "        while prefix != s[0:prelen]:\n",
    "            prefix = prefix[0:prelen - 1]\n",
    "            prelen -= 1\n",
    "            \n",
    "        if prelen == 0:\n",
    "            return ''\n",
    "        \n",
    "    return prefix\n",
    "\n",
    "brute_force(strs)"
   ]
  },
  {
   "cell_type": "code",
   "execution_count": null,
   "metadata": {},
   "outputs": [],
   "source": []
  }
 ],
 "metadata": {
  "kernelspec": {
   "display_name": "Python 3",
   "language": "python",
   "name": "python3"
  },
  "language_info": {
   "codemirror_mode": {
    "name": "ipython",
    "version": 3
   },
   "file_extension": ".py",
   "mimetype": "text/x-python",
   "name": "python",
   "nbconvert_exporter": "python",
   "pygments_lexer": "ipython3",
   "version": "3.7.6"
  }
 },
 "nbformat": 4,
 "nbformat_minor": 4
}
