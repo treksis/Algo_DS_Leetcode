{
 "cells": [
  {
   "cell_type": "code",
   "execution_count": 12,
   "metadata": {},
   "outputs": [
    {
     "name": "stdout",
     "output_type": "stream",
     "text": [
      "['c']\n",
      "['c', 'd']\n",
      "['a']\n",
      "['a', 'd']\n",
      "['a', 'd', 'b']\n",
      "['a', 'd', 'b', 'c']\n"
     ]
    },
    {
     "data": {
      "text/plain": [
       "'adbc'"
      ]
     },
     "execution_count": 12,
     "metadata": {},
     "output_type": "execute_result"
    }
   ],
   "source": [
    "from collections import Counter\n",
    "\n",
    "class Solution:\n",
    "    def remove_duplicate_letters(self, s):\n",
    "        stack = []\n",
    "        seen = set()\n",
    "        last_occur = {}\n",
    "        \n",
    "        for i in range(len(s)):\n",
    "            last_occur[s[i]] = i\n",
    "            \n",
    "        #print(last_occur)\n",
    "        \n",
    "        for i, ch in enumerate(s):\n",
    "            if ch in seen:\n",
    "                continue\n",
    "            else:\n",
    "                while stack and stack[-1] > ch and last_occur[stack[-1]] > i:\n",
    "                    remove_char = stack.pop()\n",
    "                    seen.remove(remove_char)\n",
    "                seen.add(ch)\n",
    "                stack.append(ch)\n",
    "                \n",
    "            print(stack)\n",
    "            \n",
    "        return ''.join(stack)\n",
    "    \n",
    "    def repeat(self, s):\n",
    "        stack = []\n",
    "        seen = set()\n",
    "        last_occur = {}\n",
    "        \n",
    "        for i in range(len(s)):\n",
    "            last_occur[s[i]] = i\n",
    "        \n",
    "        # alternative way is using: collections.Counter(s)\n",
    "        \n",
    "        for i, ch in enumerate(s):\n",
    "            if ch in seen:\n",
    "                continue\n",
    "            else:\n",
    "                while stack and stack[-1] > ch and last_occur[stack[-1]] > i:\n",
    "                    remove_char = stack.pop()\n",
    "                    seen.remove(remove_char)\n",
    "                seen.add(ch)\n",
    "                stack.append(ch)\n",
    "            print(stack)\n",
    "            \n",
    "        return ''.join(stack)\n",
    "    \n",
    "    def repeat_one(self, s):\n",
    "        stack, seen, last_occur = [], set(), {}\n",
    "        \n",
    "        for i in range(len(s)):\n",
    "            last_occur[s[i]] = i\n",
    "        \n",
    "        for i, ch in enumerate(s):\n",
    "            if ch in seen:\n",
    "                continue\n",
    "            else:\n",
    "                while stack and stack[-1] > ch and last_occur[stack[-1]] > i:\n",
    "                    last_char = stack.pop()\n",
    "                    seen.remove(last_char)\n",
    "                seen.add(ch)\n",
    "                stack.append(ch)\n",
    "                \n",
    "            print(stack)\n",
    "        return ''.join(stack)\n",
    "    \n",
    "        \n",
    "s = Solution()\n",
    "k = \"cdadabcc\"\n",
    "#s.remove_duplicate_letters(k)\n",
    "#s.repeat(k)\n",
    "s.repeat_one(k)"
   ]
  },
  {
   "cell_type": "code",
   "execution_count": null,
   "metadata": {},
   "outputs": [],
   "source": []
  }
 ],
 "metadata": {
  "kernelspec": {
   "display_name": "Python 3",
   "language": "python",
   "name": "python3"
  },
  "language_info": {
   "codemirror_mode": {
    "name": "ipython",
    "version": 3
   },
   "file_extension": ".py",
   "mimetype": "text/x-python",
   "name": "python",
   "nbconvert_exporter": "python",
   "pygments_lexer": "ipython3",
   "version": "3.7.6"
  }
 },
 "nbformat": 4,
 "nbformat_minor": 4
}
